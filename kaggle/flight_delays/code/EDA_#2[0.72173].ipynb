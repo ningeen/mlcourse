{
 "cells": [
  {
   "cell_type": "code",
   "execution_count": 59,
   "metadata": {
    "ExecuteTime": {
     "end_time": "2019-09-27T05:20:32.511275Z",
     "start_time": "2019-09-27T05:20:32.443429Z"
    }
   },
   "outputs": [],
   "source": [
    "import warnings\n",
    "import numpy as np\n",
    "import pandas as pd\n",
    "from pathlib import Path\n",
    "\n",
    "%matplotlib inline\n",
    "import matplotlib.pyplot as plt\n",
    "import seaborn as sns\n",
    "\n",
    "from sklearn.model_selection import train_test_split\n",
    "from sklearn.metrics import roc_auc_score\n",
    "from sklearn.preprocessing import LabelEncoder\n",
    "from sklearn.model_selection import GridSearchCV, StratifiedKFold, cross_val_score\n",
    "\n",
    "import xgboost as xgb"
   ]
  },
  {
   "cell_type": "code",
   "execution_count": 124,
   "metadata": {
    "ExecuteTime": {
     "end_time": "2019-09-27T06:45:04.141859Z",
     "start_time": "2019-09-27T06:45:04.117923Z"
    }
   },
   "outputs": [],
   "source": [
    "def label_encode(train_data, test_data, columns):\n",
    "    'Returns a DataFrame with encoded columns'\n",
    "    encoded_cols = []\n",
    "    for col in columns:\n",
    "        factorised = pd.factorize(train_data[col])[1]\n",
    "        labels = pd.Series(range(len(factorised)), index=factorised)\n",
    "        encoded_col_train = train_data[col].map(labels) \n",
    "        encoded_col_test = test_data[col].map(labels)\n",
    "        encoded_col = pd.concat([encoded_col_train, encoded_col_test], axis=0)\n",
    "        encoded_col[encoded_col.isnull()] = -1\n",
    "        encoded_cols.append(pd.DataFrame({'label_'+col:encoded_col}))\n",
    "    all_encoded = pd.concat(encoded_cols, axis=1)\n",
    "    return (all_encoded.loc[train_data.index,:], \n",
    "            all_encoded.loc[test_data.index,:])\n",
    "\n",
    "def freq_encode(train_data, test_data, columns):\n",
    "    '''Returns a DataFrame with encoded columns'''\n",
    "    encoded_cols = []\n",
    "    nsamples = train_data.shape[0]\n",
    "    for col in columns:    \n",
    "        freqs_cat = train_data.groupby(col)[col].count()/nsamples\n",
    "        encoded_col_train = train_data[col].map(freqs_cat)\n",
    "        encoded_col_test = test_data[col].map(freqs_cat)\n",
    "        encoded_col = pd.concat([encoded_col_train, encoded_col_test], axis=0)\n",
    "        encoded_col[encoded_col.isnull()] = 0\n",
    "        encoded_cols.append(pd.DataFrame({'freq_'+col:encoded_col}))\n",
    "    all_encoded = pd.concat(encoded_cols, axis=1)\n",
    "    return (all_encoded.loc[train_data.index,:], \n",
    "            all_encoded.loc[test_data.index,:])\n",
    "\n",
    "def mean_encode(train_data, test_data, columns, target_col, reg_method=None,\n",
    "                alpha=0, add_random=False, rmean=0, rstd=0.1, folds=1):\n",
    "    '''Returns a DataFrame with encoded columns'''\n",
    "    encoded_cols = []\n",
    "    target_mean_global = train_data[target_col].mean()\n",
    "    for col in columns:\n",
    "        # Getting means for test data\n",
    "        nrows_cat = train_data.groupby(col)[target_col].count()\n",
    "        target_means_cats = train_data.groupby(col)[target_col].mean()\n",
    "        target_means_cats_adj = (target_means_cats*nrows_cat + \n",
    "                                 target_mean_global*alpha)/(nrows_cat+alpha)\n",
    "        # Mapping means to test data\n",
    "        encoded_col_test = test_data[col].map(target_means_cats_adj)\n",
    "        # Getting a train encodings\n",
    "        if reg_method == 'expanding_mean':\n",
    "            train_data_shuffled = train_data.sample(frac=1, random_state=1)\n",
    "            cumsum = train_data_shuffled.groupby(col)[target_col].cumsum() - train_data_shuffled[target_col]\n",
    "            cumcnt = train_data_shuffled.groupby(col).cumcount()\n",
    "            encoded_col_train = cumsum/(cumcnt)\n",
    "            encoded_col_train.fillna(target_mean_global, inplace=True)\n",
    "            if add_random:\n",
    "                encoded_col_train = encoded_col_train + normal(loc=rmean, scale=rstd, \n",
    "                                                               size=(encoded_col_train.shape[0]))\n",
    "        elif (reg_method == 'k_fold') and (folds > 1):\n",
    "            kfold = StratifiedKFold(folds, shuffle=True, random_state=1)\n",
    "            parts = []\n",
    "            for tr_in, val_ind in kfold.split(train_data[columns].values, train_data[target_col].values):\n",
    "                # divide data\n",
    "                df_for_estimation, df_estimated = train_data.iloc[tr_in], train_data.iloc[val_ind]\n",
    "                # getting means on data for estimation (all folds except estimated)\n",
    "                nrows_cat = df_for_estimation.groupby(col)[target_col].count()\n",
    "                target_means_cats = df_for_estimation.groupby(col)[target_col].mean()\n",
    "                target_means_cats_adj = (target_means_cats*nrows_cat + \n",
    "                                         target_mean_global*alpha)/(nrows_cat+alpha)\n",
    "                # Mapping means to estimated fold\n",
    "                encoded_col_train_part = df_estimated[col].map(target_means_cats_adj)\n",
    "                if add_random:\n",
    "                    encoded_col_train_part = encoded_col_train_part + normal(loc=rmean, scale=rstd, \n",
    "                                                                             size=(encoded_col_train_part.shape[0]))\n",
    "                # Saving estimated encodings for a fold\n",
    "                parts.append(encoded_col_train_part)\n",
    "            encoded_col_train = pd.concat(parts, axis=0)\n",
    "            encoded_col_train.fillna(target_mean_global, inplace=True)\n",
    "        else:\n",
    "            encoded_col_train = train_data[col].map(target_means_cats_adj)\n",
    "            if add_random:\n",
    "                encoded_col_train = encoded_col_train + normal(loc=rmean, scale=rstd, \n",
    "                                                               size=(encoded_col_train.shape[0]))\n",
    "\n",
    "        # Saving the column with means\n",
    "        encoded_col = pd.concat([encoded_col_train, encoded_col_test], axis=0)\n",
    "        encoded_col[encoded_col.isnull()] = target_mean_global\n",
    "        encoded_cols.append(pd.DataFrame({'mean_'+target_col+'_'+col:encoded_col}))\n",
    "    all_encoded = pd.concat(encoded_cols, axis=1)\n",
    "    return (all_encoded.loc[train_data.index,:], \n",
    "            all_encoded.loc[test_data.index,:])"
   ]
  },
  {
   "cell_type": "code",
   "execution_count": 54,
   "metadata": {
    "ExecuteTime": {
     "end_time": "2019-09-27T05:08:20.442435Z",
     "start_time": "2019-09-27T05:08:20.242940Z"
    }
   },
   "outputs": [
    {
     "data": {
      "text/html": [
       "<div>\n",
       "<style scoped>\n",
       "    .dataframe tbody tr th:only-of-type {\n",
       "        vertical-align: middle;\n",
       "    }\n",
       "\n",
       "    .dataframe tbody tr th {\n",
       "        vertical-align: top;\n",
       "    }\n",
       "\n",
       "    .dataframe thead th {\n",
       "        text-align: right;\n",
       "    }\n",
       "</style>\n",
       "<table border=\"1\" class=\"dataframe\">\n",
       "  <thead>\n",
       "    <tr style=\"text-align: right;\">\n",
       "      <th></th>\n",
       "      <th>Month</th>\n",
       "      <th>DayofMonth</th>\n",
       "      <th>DayOfWeek</th>\n",
       "      <th>DepTime</th>\n",
       "      <th>UniqueCarrier</th>\n",
       "      <th>Origin</th>\n",
       "      <th>Dest</th>\n",
       "      <th>Distance</th>\n",
       "      <th>dep_delayed_15min</th>\n",
       "    </tr>\n",
       "  </thead>\n",
       "  <tbody>\n",
       "    <tr>\n",
       "      <th>0</th>\n",
       "      <td>c-8</td>\n",
       "      <td>c-21</td>\n",
       "      <td>c-7</td>\n",
       "      <td>1934</td>\n",
       "      <td>AA</td>\n",
       "      <td>ATL</td>\n",
       "      <td>DFW</td>\n",
       "      <td>732</td>\n",
       "      <td>N</td>\n",
       "    </tr>\n",
       "    <tr>\n",
       "      <th>1</th>\n",
       "      <td>c-4</td>\n",
       "      <td>c-20</td>\n",
       "      <td>c-3</td>\n",
       "      <td>1548</td>\n",
       "      <td>US</td>\n",
       "      <td>PIT</td>\n",
       "      <td>MCO</td>\n",
       "      <td>834</td>\n",
       "      <td>N</td>\n",
       "    </tr>\n",
       "    <tr>\n",
       "      <th>2</th>\n",
       "      <td>c-9</td>\n",
       "      <td>c-2</td>\n",
       "      <td>c-5</td>\n",
       "      <td>1422</td>\n",
       "      <td>XE</td>\n",
       "      <td>RDU</td>\n",
       "      <td>CLE</td>\n",
       "      <td>416</td>\n",
       "      <td>N</td>\n",
       "    </tr>\n",
       "    <tr>\n",
       "      <th>3</th>\n",
       "      <td>c-11</td>\n",
       "      <td>c-25</td>\n",
       "      <td>c-6</td>\n",
       "      <td>1015</td>\n",
       "      <td>OO</td>\n",
       "      <td>DEN</td>\n",
       "      <td>MEM</td>\n",
       "      <td>872</td>\n",
       "      <td>N</td>\n",
       "    </tr>\n",
       "    <tr>\n",
       "      <th>4</th>\n",
       "      <td>c-10</td>\n",
       "      <td>c-7</td>\n",
       "      <td>c-6</td>\n",
       "      <td>1828</td>\n",
       "      <td>WN</td>\n",
       "      <td>MDW</td>\n",
       "      <td>OMA</td>\n",
       "      <td>423</td>\n",
       "      <td>Y</td>\n",
       "    </tr>\n",
       "  </tbody>\n",
       "</table>\n",
       "</div>"
      ],
      "text/plain": [
       "  Month DayofMonth DayOfWeek  DepTime UniqueCarrier Origin Dest  Distance  \\\n",
       "0   c-8       c-21       c-7     1934            AA    ATL  DFW       732   \n",
       "1   c-4       c-20       c-3     1548            US    PIT  MCO       834   \n",
       "2   c-9        c-2       c-5     1422            XE    RDU  CLE       416   \n",
       "3  c-11       c-25       c-6     1015            OO    DEN  MEM       872   \n",
       "4  c-10        c-7       c-6     1828            WN    MDW  OMA       423   \n",
       "\n",
       "  dep_delayed_15min  \n",
       "0                 N  \n",
       "1                 N  \n",
       "2                 N  \n",
       "3                 N  \n",
       "4                 Y  "
      ]
     },
     "execution_count": 54,
     "metadata": {},
     "output_type": "execute_result"
    }
   ],
   "source": [
    "PATH_TO_DATA = Path('../input/flight-delays-fall-2018/')\n",
    "\n",
    "train_df = pd.read_csv(PATH_TO_DATA / 'flight_delays_train.csv')\n",
    "test_df = pd.read_csv(PATH_TO_DATA / 'flight_delays_test.csv')\n",
    "\n",
    "train_df.head()"
   ]
  },
  {
   "cell_type": "markdown",
   "metadata": {},
   "source": [
    "### Analyze"
   ]
  },
  {
   "cell_type": "code",
   "execution_count": 55,
   "metadata": {
    "ExecuteTime": {
     "end_time": "2019-09-27T05:08:26.612909Z",
     "start_time": "2019-09-27T05:08:26.408417Z"
    }
   },
   "outputs": [],
   "source": [
    "train_df['Month'] = train_df['Month'].apply(lambda x: int(x[2:]))\n",
    "train_df['DayofMonth'] = train_df['DayofMonth'].apply(lambda x: int(x[2:]))\n",
    "train_df['DayOfWeek'] = train_df['DayOfWeek'].apply(lambda x: int(x[2:]))\n",
    "train_df['target'] = train_df['dep_delayed_15min'].map({'N':0, 'Y':1})\n",
    "\n",
    "train_df['DepTime'] = train_df['DepTime'].apply(lambda x: (x // 100) * 60 + x % 100)"
   ]
  },
  {
   "cell_type": "code",
   "execution_count": 15,
   "metadata": {
    "ExecuteTime": {
     "end_time": "2019-09-27T04:35:22.834060Z",
     "start_time": "2019-09-27T04:35:21.936390Z"
    }
   },
   "outputs": [
    {
     "data": {
      "image/png": "[encoded data removed]",
      "text/plain": [
       "<Figure size 1152x576 with 4 Axes>"
      ]
     },
     "metadata": {
      "needs_background": "light"
     },
     "output_type": "display_data"
    }
   ],
   "source": [
    "fig, axes = plt.subplots(2, 2, figsize=(16, 8))\n",
    "\n",
    "sns.countplot(train_df['Month'], hue=train_df['target'], ax=axes[0, 0]);\n",
    "sns.countplot(train_df['DayofMonth'], hue=train_df['target'], ax=axes[0, 1]);\n",
    "sns.countplot(train_df['DayOfWeek'], hue=train_df['target'], ax=axes[1, 0]);"
   ]
  },
  {
   "cell_type": "code",
   "execution_count": 50,
   "metadata": {
    "ExecuteTime": {
     "end_time": "2019-09-27T05:03:57.842692Z",
     "start_time": "2019-09-27T05:03:57.690075Z"
    }
   },
   "outputs": [
    {
     "data": {
      "image/png": "[encoded data removed]",
      "text/plain": [
       "<Figure size 432x288 with 1 Axes>"
      ]
     },
     "metadata": {
      "needs_background": "light"
     },
     "output_type": "display_data"
    }
   ],
   "source": [
    "train_df['DepTime'].hist();"
   ]
  },
  {
   "cell_type": "code",
   "execution_count": 32,
   "metadata": {
    "ExecuteTime": {
     "end_time": "2019-09-27T04:43:09.365241Z",
     "start_time": "2019-09-27T04:43:08.865415Z"
    }
   },
   "outputs": [
    {
     "data": {
      "image/png": "[encoded data removed]",
      "text/plain": [
       "<Figure size 864x864 with 3 Axes>"
      ]
     },
     "metadata": {
      "needs_background": "light"
     },
     "output_type": "display_data"
    }
   ],
   "source": [
    "fig, axes = plt.subplots(3, 1, figsize=(12, 12))\n",
    "\n",
    "sns.boxplot(train_df['DepTime'], train_df['target'], ax=axes[0], orient='hor');\n",
    "sns.boxplot(train_df['Distance'], train_df['target'], ax=axes[1], orient='hor');\n",
    "sns.boxplot(train_df['Distance'].apply(np.log), train_df['target'], ax=axes[2], orient='hor');"
   ]
  },
  {
   "cell_type": "code",
   "execution_count": 41,
   "metadata": {
    "ExecuteTime": {
     "end_time": "2019-09-27T04:47:20.569090Z",
     "start_time": "2019-09-27T04:47:18.746635Z"
    }
   },
   "outputs": [
    {
     "data": {
      "image/png": "[encoded data removed]",
      "text/plain": [
       "<Figure size 1152x864 with 2 Axes>"
      ]
     },
     "metadata": {
      "needs_background": "light"
     },
     "output_type": "display_data"
    }
   ],
   "source": [
    "fig, axes = plt.subplots(2, 1, figsize=(16, 12))\n",
    "\n",
    "sns.countplot(train_df['UniqueCarrier'], hue=train_df['target'], ax=axes[0]);\n",
    "sns.barplot(train_df['UniqueCarrier'], train_df['target'], ax=axes[1]);"
   ]
  },
  {
   "cell_type": "code",
   "execution_count": 56,
   "metadata": {
    "ExecuteTime": {
     "end_time": "2019-09-27T05:08:33.760388Z",
     "start_time": "2019-09-27T05:08:31.937262Z"
    }
   },
   "outputs": [
    {
     "data": {
      "image/png": "[encoded data removed]",
      "text/plain": [
       "<Figure size 1152x864 with 2 Axes>"
      ]
     },
     "metadata": {
      "needs_background": "light"
     },
     "output_type": "display_data"
    }
   ],
   "source": [
    "n_dep = 30\n",
    "col = 'Origin'\n",
    "\n",
    "fig, axes = plt.subplots(2, 1, figsize=(16, 12))\n",
    "\n",
    "or_df = train_df.loc[train_df[col].isin(train_df[col].value_counts()[:n_dep].index.tolist())]\n",
    "\n",
    "sns.countplot(col, hue='target', data=or_df, ax=axes[0]);\n",
    "sns.barplot(col, 'target', data=or_df, ax=axes[1]);"
   ]
  },
  {
   "cell_type": "code",
   "execution_count": 57,
   "metadata": {
    "ExecuteTime": {
     "end_time": "2019-09-27T05:08:41.294056Z",
     "start_time": "2019-09-27T05:08:39.473921Z"
    }
   },
   "outputs": [
    {
     "data": {
      "image/png": "[encoded data removed]",
      "text/plain": [
       "<Figure size 1152x864 with 2 Axes>"
      ]
     },
     "metadata": {
      "needs_background": "light"
     },
     "output_type": "display_data"
    }
   ],
   "source": [
    "n_dep = 30\n",
    "col = 'Dest'\n",
    "\n",
    "fig, axes = plt.subplots(2, 1, figsize=(16, 12))\n",
    "\n",
    "or_df = train_df.loc[train_df[col].isin(train_df[col].value_counts()[:n_dep].index.tolist())]\n",
    "\n",
    "sns.countplot(col, hue='target', data=or_df, ax=axes[0]);\n",
    "sns.barplot(col, 'target', data=or_df, ax=axes[1]);"
   ]
  },
  {
   "cell_type": "code",
   "execution_count": 5,
   "metadata": {
    "ExecuteTime": {
     "end_time": "2019-09-27T04:32:27.662222Z",
     "start_time": "2019-09-27T04:32:27.652220Z"
    }
   },
   "outputs": [
    {
     "data": {
      "text/plain": [
       "8     8830\n",
       "7     8706\n",
       "3     8595\n",
       "5     8543\n",
       "6     8414\n",
       "4     8408\n",
       "10    8405\n",
       "12    8265\n",
       "11    8178\n",
       "9     8163\n",
       "1     8075\n",
       "2     7418\n",
       "Name: Month, dtype: int64"
      ]
     },
     "execution_count": 5,
     "metadata": {},
     "output_type": "execute_result"
    }
   ],
   "source": [
    "train_df['Month'].value_counts()"
   ]
  },
  {
   "cell_type": "code",
   "execution_count": 6,
   "metadata": {
    "ExecuteTime": {
     "end_time": "2019-09-27T04:32:29.400921Z",
     "start_time": "2019-09-27T04:32:29.391946Z"
    }
   },
   "outputs": [
    {
     "data": {
      "text/plain": [
       "1     3399\n",
       "20    3380\n",
       "6     3377\n",
       "22    3374\n",
       "14    3366\n",
       "17    3347\n",
       "10    3342\n",
       "27    3330\n",
       "5     3321\n",
       "28    3321\n",
       "25    3314\n",
       "23    3314\n",
       "21    3312\n",
       "19    3305\n",
       "15    3297\n",
       "2     3285\n",
       "9     3283\n",
       "7     3272\n",
       "8     3258\n",
       "4     3249\n",
       "18    3246\n",
       "26    3241\n",
       "16    3240\n",
       "13    3238\n",
       "3     3228\n",
       "12    3212\n",
       "24    3210\n",
       "11    3168\n",
       "30    2976\n",
       "29    2837\n",
       "31    1958\n",
       "Name: DayofMonth, dtype: int64"
      ]
     },
     "execution_count": 6,
     "metadata": {},
     "output_type": "execute_result"
    }
   ],
   "source": [
    "train_df['DayofMonth'].value_counts()"
   ]
  },
  {
   "cell_type": "code",
   "execution_count": 6,
   "metadata": {
    "ExecuteTime": {
     "end_time": "2019-09-26T11:25:05.366596Z",
     "start_time": "2019-09-26T11:25:05.353434Z"
    }
   },
   "outputs": [
    {
     "data": {
      "text/plain": [
       "c-4    14736\n",
       "c-5    14657\n",
       "c-2    14604\n",
       "c-1    14569\n",
       "c-3    14508\n",
       "c-7    14097\n",
       "c-6    12829\n",
       "Name: DayOfWeek, dtype: int64"
      ]
     },
     "execution_count": 6,
     "metadata": {},
     "output_type": "execute_result"
    }
   ],
   "source": [
    "train_df['DayOfWeek'].value_counts()"
   ]
  },
  {
   "cell_type": "code",
   "execution_count": 12,
   "metadata": {
    "ExecuteTime": {
     "end_time": "2019-09-26T11:26:31.156535Z",
     "start_time": "2019-09-26T11:26:30.839358Z"
    }
   },
   "outputs": [
    {
     "data": {
      "image/png": "[encoded data removed]",
      "text/plain": [
       "<Figure size 432x288 with 1 Axes>"
      ]
     },
     "metadata": {
      "needs_background": "light"
     },
     "output_type": "display_data"
    }
   ],
   "source": [
    "sns.distplot(train_df['DepTime'], bins=100);"
   ]
  },
  {
   "cell_type": "code",
   "execution_count": 15,
   "metadata": {
    "ExecuteTime": {
     "end_time": "2019-09-26T11:26:56.997724Z",
     "start_time": "2019-09-26T11:26:56.983762Z"
    }
   },
   "outputs": [
    {
     "data": {
      "text/plain": [
       "WN    15082\n",
       "AA     9418\n",
       "DL     8128\n",
       "MQ     7443\n",
       "OO     7390\n",
       "UA     6876\n",
       "US     6482\n",
       "NW     6403\n",
       "XE     5901\n",
       "OH     4594\n",
       "CO     4334\n",
       "EV     3930\n",
       "FL     3039\n",
       "AS     2222\n",
       "YV     2128\n",
       "B6     1838\n",
       "HP     1378\n",
       "F9     1006\n",
       "DH      966\n",
       "HA      762\n",
       "TZ      446\n",
       "AQ      234\n",
       "Name: UniqueCarrier, dtype: int64"
      ]
     },
     "execution_count": 15,
     "metadata": {},
     "output_type": "execute_result"
    }
   ],
   "source": [
    "train_df['UniqueCarrier'].value_counts()"
   ]
  },
  {
   "cell_type": "code",
   "execution_count": 18,
   "metadata": {
    "ExecuteTime": {
     "end_time": "2019-09-26T11:29:53.542287Z",
     "start_time": "2019-09-26T11:29:53.528294Z"
    },
    "collapsed": true
   },
   "outputs": [
    {
     "data": {
      "text/plain": [
       "ATL    5834\n",
       "ORD    4870\n",
       "DFW    4270\n",
       "LAX    3259\n",
       "IAH    3048\n",
       "DEN    2973\n",
       "PHX    2729\n",
       "LAS    2513\n",
       "CVG    2346\n",
       "EWR    2196\n",
       "SLC    2103\n",
       "DTW    1863\n",
       "MSP    1856\n",
       "SFO    1839\n",
       "LGA    1737\n",
       "BOS    1731\n",
       "MCO    1708\n",
       "PHL    1617\n",
       "CLT    1611\n",
       "SEA    1526\n",
       "IAD    1516\n",
       "BWI    1497\n",
       "JFK    1496\n",
       "MDW    1366\n",
       "DCA    1354\n",
       "SAN    1338\n",
       "CLE    1241\n",
       "TPA    1122\n",
       "OAK    1025\n",
       "FLL     999\n",
       "       ... \n",
       "EYW       9\n",
       "STX       8\n",
       "LWS       8\n",
       "ISO       8\n",
       "WRG       8\n",
       "ACY       8\n",
       "HKY       7\n",
       "HVN       7\n",
       "APF       7\n",
       "BRW       7\n",
       "TUP       6\n",
       "BPT       6\n",
       "DLG       5\n",
       "ACK       5\n",
       "ADQ       5\n",
       "PSE       4\n",
       "LWB       4\n",
       "SCC       4\n",
       "PIE       3\n",
       "BLI       3\n",
       "OAJ       2\n",
       "RFD       2\n",
       "AKN       2\n",
       "TEX       2\n",
       "VIS       1\n",
       "WYS       1\n",
       "ADK       1\n",
       "GST       1\n",
       "VCT       1\n",
       "ILG       1\n",
       "Name: Origin, Length: 289, dtype: int64"
      ]
     },
     "execution_count": 18,
     "metadata": {},
     "output_type": "execute_result"
    }
   ],
   "source": [
    "train_df['Origin'].value_counts()"
   ]
  },
  {
   "cell_type": "code",
   "execution_count": 19,
   "metadata": {
    "ExecuteTime": {
     "end_time": "2019-09-26T11:30:24.967018Z",
     "start_time": "2019-09-26T11:30:24.954056Z"
    },
    "collapsed": true
   },
   "outputs": [
    {
     "data": {
      "text/plain": [
       "ATL    5795\n",
       "ORD    4933\n",
       "DFW    4337\n",
       "LAX    3205\n",
       "IAH    3056\n",
       "DEN    2866\n",
       "PHX    2749\n",
       "LAS    2475\n",
       "CVG    2434\n",
       "EWR    2190\n",
       "SLC    2170\n",
       "DTW    1898\n",
       "MSP    1822\n",
       "SFO    1808\n",
       "BOS    1803\n",
       "LGA    1741\n",
       "MCO    1728\n",
       "CLT    1604\n",
       "PHL    1600\n",
       "IAD    1577\n",
       "SEA    1520\n",
       "JFK    1467\n",
       "BWI    1461\n",
       "DCA    1358\n",
       "MDW    1295\n",
       "SAN    1229\n",
       "CLE    1218\n",
       "TPA    1121\n",
       "OAK    1030\n",
       "SJC     960\n",
       "       ... \n",
       "HVN      10\n",
       "MQT      10\n",
       "BPT       9\n",
       "FLG       9\n",
       "ISO       9\n",
       "SPI       9\n",
       "CDV       8\n",
       "BET       8\n",
       "SCC       8\n",
       "VIS       7\n",
       "ADQ       7\n",
       "CDC       7\n",
       "RFD       6\n",
       "BGM       5\n",
       "HKY       5\n",
       "PSE       5\n",
       "PIE       5\n",
       "WYS       4\n",
       "BRW       3\n",
       "BLI       3\n",
       "AKN       3\n",
       "GST       2\n",
       "ILG       2\n",
       "DLG       2\n",
       "SOP       2\n",
       "VCT       1\n",
       "TTN       1\n",
       "TEX       1\n",
       "ACK       1\n",
       "LWB       1\n",
       "Name: Dest, Length: 289, dtype: int64"
      ]
     },
     "execution_count": 19,
     "metadata": {},
     "output_type": "execute_result"
    }
   ],
   "source": [
    "train_df['Dest'].value_counts()"
   ]
  },
  {
   "cell_type": "code",
   "execution_count": 27,
   "metadata": {
    "ExecuteTime": {
     "end_time": "2019-09-27T04:41:41.394298Z",
     "start_time": "2019-09-27T04:41:41.164459Z"
    }
   },
   "outputs": [
    {
     "data": {
      "image/png": "[encoded data removed]",
      "text/plain": [
       "<Figure size 432x288 with 1 Axes>"
      ]
     },
     "metadata": {
      "needs_background": "light"
     },
     "output_type": "display_data"
    }
   ],
   "source": [
    "sns.distplot(train_df['Distance']);"
   ]
  },
  {
   "cell_type": "code",
   "execution_count": 28,
   "metadata": {
    "ExecuteTime": {
     "end_time": "2019-09-27T04:41:51.376169Z",
     "start_time": "2019-09-27T04:41:51.154734Z"
    }
   },
   "outputs": [
    {
     "data": {
      "image/png": "[encoded data removed]",
      "text/plain": [
       "<Figure size 432x288 with 1 Axes>"
      ]
     },
     "metadata": {
      "needs_background": "light"
     },
     "output_type": "display_data"
    }
   ],
   "source": [
    "sns.distplot(train_df['Distance'].apply(np.log));"
   ]
  },
  {
   "cell_type": "code",
   "execution_count": 24,
   "metadata": {
    "ExecuteTime": {
     "end_time": "2019-09-26T11:34:54.029650Z",
     "start_time": "2019-09-26T11:34:54.016687Z"
    }
   },
   "outputs": [
    {
     "data": {
      "text/plain": [
       "N    80956\n",
       "Y    19044\n",
       "Name: dep_delayed_15min, dtype: int64"
      ]
     },
     "execution_count": 24,
     "metadata": {},
     "output_type": "execute_result"
    }
   ],
   "source": [
    "train_df['dep_delayed_15min'].value_counts()"
   ]
  },
  {
   "cell_type": "markdown",
   "metadata": {},
   "source": [
    "### Preproc"
   ]
  },
  {
   "cell_type": "code",
   "execution_count": 224,
   "metadata": {
    "ExecuteTime": {
     "end_time": "2019-09-27T09:35:22.249015Z",
     "start_time": "2019-09-27T09:35:22.052543Z"
    }
   },
   "outputs": [],
   "source": [
    "train_df = pd.read_csv(PATH_TO_DATA / 'flight_delays_train.csv')\n",
    "test_df = pd.read_csv(PATH_TO_DATA / 'flight_delays_test.csv')\n",
    "\n",
    "test_df.index = range(100000, 200000)"
   ]
  },
  {
   "cell_type": "code",
   "execution_count": 225,
   "metadata": {
    "ExecuteTime": {
     "end_time": "2019-09-27T09:35:22.397172Z",
     "start_time": "2019-09-27T09:35:22.385206Z"
    }
   },
   "outputs": [],
   "source": [
    "def upd_time(val):\n",
    "    hour = val // 100\n",
    "    minutes = val % 100\n",
    "    if hour >= 24:\n",
    "        hour = hour - 24\n",
    "    return hour * 60 + minutes\n",
    "\n",
    "def preproc(df, test=False):\n",
    "    df['Month'] = df['Month'].apply(lambda x: int(x[2:]))\n",
    "    df['DayofMonth'] = df['DayofMonth'].apply(lambda x: int(x[2:]))\n",
    "    df['DayOfWeek'] = df['DayOfWeek'].apply(lambda x: int(x[2:]))\n",
    "    \n",
    "    df['DepTime'] = df['DepTime'].apply(upd_time)\n",
    "    \n",
    "    minutes_in_day = 24 * 60\n",
    "    df['sin_time'] = np.sin(2 * np.pi * df['DepTime'] / minutes_in_day)\n",
    "    df['cos_time'] = np.cos(2 * np.pi * df['DepTime'] / minutes_in_day)\n",
    "    df['hour'] = df['DepTime'] // 60\n",
    "    df['minutes'] = df['DepTime'] % 60\n",
    "    \n",
    "    df['Distance_orig'] = df['Distance'].values\n",
    "    df['Distance'] = df['Distance'].apply(np.log)\n",
    "\n",
    "    \n",
    "    df.loc[~df['Origin'].isin(or_dest), 'Origin'] = 'other'\n",
    "    df.loc[~df['Dest'].isin(or_dest), 'Dest'] = 'other'\n",
    "    df.loc[~df['UniqueCarrier'].isin(unique_carrier), 'UniqueCarrier'] = 'other'\n",
    "    \n",
    "    if not test:\n",
    "        le_carrier.fit(df['UniqueCarrier'])\n",
    "        le_or_dest.fit(pd.concat([df['Origin'], df['Dest']]))\n",
    "        del df['dep_delayed_15min']\n",
    "    \n",
    "    df['UniqueCarrier'] = le_carrier.transform(df['UniqueCarrier'])\n",
    "    df['Origin'] = le_or_dest.transform(df['Origin'])\n",
    "    df['Dest'] = le_or_dest.transform(df['Dest'])\n",
    "    \n",
    "    return df"
   ]
  },
  {
   "cell_type": "code",
   "execution_count": 226,
   "metadata": {
    "ExecuteTime": {
     "end_time": "2019-09-27T09:35:23.846390Z",
     "start_time": "2019-09-27T09:35:23.842890Z"
    }
   },
   "outputs": [],
   "source": [
    "le_carrier = LabelEncoder()\n",
    "le_or_dest = LabelEncoder()\n",
    "le_target = LabelEncoder()"
   ]
  },
  {
   "cell_type": "code",
   "execution_count": 227,
   "metadata": {
    "ExecuteTime": {
     "end_time": "2019-09-27T09:35:24.224669Z",
     "start_time": "2019-09-27T09:35:24.170609Z"
    }
   },
   "outputs": [],
   "source": [
    "unique_carrier = list(set(train_df['UniqueCarrier']) & set(test_df['UniqueCarrier']))\n",
    "or_dest = list(set(train_df['Origin']) & set(test_df['Origin']) & set(train_df['Dest']) & set(test_df['Dest']))\n",
    "\n",
    "# train_df.loc[~train_df['Origin'].isin(or_dest), 'Origin'] = 'other'\n",
    "# train_df.loc[~train_df['Dest'].isin(or_dest), 'Dest'] = 'other'\n",
    "# train_df.loc[~train_df['UniqueCarrier'].isin(unique_carrier), 'UniqueCarrier'] = 'other'\n",
    "\n",
    "# test_df.loc[~test_df['Origin'].isin(or_dest), 'Origin'] = 'other'\n",
    "# test_df.loc[~test_df['Dest'].isin(or_dest), 'Dest'] = 'other'\n",
    "# test_df.loc[~test_df['UniqueCarrier'].isin(unique_carrier), 'UniqueCarrier'] = 'other'"
   ]
  },
  {
   "cell_type": "code",
   "execution_count": 228,
   "metadata": {
    "ExecuteTime": {
     "end_time": "2019-09-27T09:35:32.292524Z",
     "start_time": "2019-09-27T09:35:31.426382Z"
    }
   },
   "outputs": [],
   "source": [
    "train_df['dep_delayed_15min'] = le_target.fit_transform(train_df['dep_delayed_15min'])\n",
    "# train_df['OrDe'] = train_df['Origin'] + train_df['Dest']\n",
    "# test_df['OrDe'] = test_df['Origin'] + test_df['Dest']\n",
    "\n",
    "categ_cols = ['UniqueCarrier', 'Origin', 'Dest']\n",
    "train_df_fe, test_df_fe = freq_encode(train_df, test_df, columns=categ_cols)\n",
    "\n",
    "train_df_mekf, test_df_mekf = mean_encode(train_df, test_df, columns=categ_cols, target_col='dep_delayed_15min', \n",
    "                                                        reg_method='k_fold', alpha=5, folds=5)\n",
    "\n",
    "train_df_meem, test_df_meem = mean_encode(train_df, test_df, columns=categ_cols, target_col='dep_delayed_15min', \n",
    "                                                        reg_method='expanding_mean', alpha=5)"
   ]
  },
  {
   "cell_type": "code",
   "execution_count": 229,
   "metadata": {
    "ExecuteTime": {
     "end_time": "2019-09-27T09:35:33.023738Z",
     "start_time": "2019-09-27T09:35:32.430154Z"
    }
   },
   "outputs": [
    {
     "data": {
      "text/html": [
       "<div>\n",
       "<style scoped>\n",
       "    .dataframe tbody tr th:only-of-type {\n",
       "        vertical-align: middle;\n",
       "    }\n",
       "\n",
       "    .dataframe tbody tr th {\n",
       "        vertical-align: top;\n",
       "    }\n",
       "\n",
       "    .dataframe thead th {\n",
       "        text-align: right;\n",
       "    }\n",
       "</style>\n",
       "<table border=\"1\" class=\"dataframe\">\n",
       "  <thead>\n",
       "    <tr style=\"text-align: right;\">\n",
       "      <th></th>\n",
       "      <th>Month</th>\n",
       "      <th>DayofMonth</th>\n",
       "      <th>DayOfWeek</th>\n",
       "      <th>DepTime</th>\n",
       "      <th>UniqueCarrier</th>\n",
       "      <th>Origin</th>\n",
       "      <th>Dest</th>\n",
       "      <th>Distance</th>\n",
       "      <th>sin_time</th>\n",
       "      <th>cos_time</th>\n",
       "      <th>hour</th>\n",
       "      <th>minutes</th>\n",
       "      <th>Distance_orig</th>\n",
       "    </tr>\n",
       "  </thead>\n",
       "  <tbody>\n",
       "    <tr>\n",
       "      <th>0</th>\n",
       "      <td>8</td>\n",
       "      <td>21</td>\n",
       "      <td>7</td>\n",
       "      <td>1174</td>\n",
       "      <td>0</td>\n",
       "      <td>17</td>\n",
       "      <td>77</td>\n",
       "      <td>6.595781</td>\n",
       "      <td>-0.917060</td>\n",
       "      <td>0.398749</td>\n",
       "      <td>19</td>\n",
       "      <td>34</td>\n",
       "      <td>732</td>\n",
       "    </tr>\n",
       "    <tr>\n",
       "      <th>1</th>\n",
       "      <td>4</td>\n",
       "      <td>20</td>\n",
       "      <td>3</td>\n",
       "      <td>948</td>\n",
       "      <td>15</td>\n",
       "      <td>209</td>\n",
       "      <td>166</td>\n",
       "      <td>6.726233</td>\n",
       "      <td>-0.838671</td>\n",
       "      <td>-0.544639</td>\n",
       "      <td>15</td>\n",
       "      <td>48</td>\n",
       "      <td>834</td>\n",
       "    </tr>\n",
       "    <tr>\n",
       "      <th>2</th>\n",
       "      <td>9</td>\n",
       "      <td>2</td>\n",
       "      <td>5</td>\n",
       "      <td>862</td>\n",
       "      <td>17</td>\n",
       "      <td>220</td>\n",
       "      <td>58</td>\n",
       "      <td>6.030685</td>\n",
       "      <td>-0.580703</td>\n",
       "      <td>-0.814116</td>\n",
       "      <td>14</td>\n",
       "      <td>22</td>\n",
       "      <td>416</td>\n",
       "    </tr>\n",
       "    <tr>\n",
       "      <th>3</th>\n",
       "      <td>11</td>\n",
       "      <td>25</td>\n",
       "      <td>6</td>\n",
       "      <td>615</td>\n",
       "      <td>13</td>\n",
       "      <td>76</td>\n",
       "      <td>170</td>\n",
       "      <td>6.770789</td>\n",
       "      <td>0.442289</td>\n",
       "      <td>-0.896873</td>\n",
       "      <td>10</td>\n",
       "      <td>15</td>\n",
       "      <td>872</td>\n",
       "    </tr>\n",
       "    <tr>\n",
       "      <th>4</th>\n",
       "      <td>10</td>\n",
       "      <td>7</td>\n",
       "      <td>6</td>\n",
       "      <td>1108</td>\n",
       "      <td>16</td>\n",
       "      <td>168</td>\n",
       "      <td>194</td>\n",
       "      <td>6.047372</td>\n",
       "      <td>-0.992546</td>\n",
       "      <td>0.121869</td>\n",
       "      <td>18</td>\n",
       "      <td>28</td>\n",
       "      <td>423</td>\n",
       "    </tr>\n",
       "  </tbody>\n",
       "</table>\n",
       "</div>"
      ],
      "text/plain": [
       "   Month  DayofMonth  DayOfWeek  DepTime  UniqueCarrier  Origin  Dest  \\\n",
       "0      8          21          7     1174              0      17    77   \n",
       "1      4          20          3      948             15     209   166   \n",
       "2      9           2          5      862             17     220    58   \n",
       "3     11          25          6      615             13      76   170   \n",
       "4     10           7          6     1108             16     168   194   \n",
       "\n",
       "   Distance  sin_time  cos_time  hour  minutes  Distance_orig  \n",
       "0  6.595781 -0.917060  0.398749    19       34            732  \n",
       "1  6.726233 -0.838671 -0.544639    15       48            834  \n",
       "2  6.030685 -0.580703 -0.814116    14       22            416  \n",
       "3  6.770789  0.442289 -0.896873    10       15            872  \n",
       "4  6.047372 -0.992546  0.121869    18       28            423  "
      ]
     },
     "execution_count": 229,
     "metadata": {},
     "output_type": "execute_result"
    }
   ],
   "source": [
    "y = train_df['dep_delayed_15min']\n",
    "X = preproc(train_df)\n",
    "X_test = preproc(test_df, test=True)\n",
    "\n",
    "X.head()"
   ]
  },
  {
   "cell_type": "markdown",
   "metadata": {},
   "source": [
    "### Grid Search CV"
   ]
  },
  {
   "cell_type": "code",
   "execution_count": 105,
   "metadata": {
    "ExecuteTime": {
     "end_time": "2019-09-27T05:31:40.391326Z",
     "start_time": "2019-09-27T05:31:40.387337Z"
    }
   },
   "outputs": [],
   "source": [
    "skf = StratifiedKFold(n_splits=10, shuffle=True, random_state=38)"
   ]
  },
  {
   "cell_type": "code",
   "execution_count": 106,
   "metadata": {
    "ExecuteTime": {
     "end_time": "2019-09-27T05:57:50.946761Z",
     "start_time": "2019-09-27T05:31:40.652703Z"
    }
   },
   "outputs": [
    {
     "data": {
      "text/plain": [
       "XGBRegressor(base_score=0.5, booster='gbtree', colsample_bylevel=1,\n",
       "       colsample_bytree=1, gamma=0, importance_type='gain',\n",
       "       learning_rate=0.1, max_delta_step=0, max_depth=9,\n",
       "       min_child_weight=1, missing=None, n_estimators=250, n_jobs=-1,\n",
       "       nthread=None, objective='reg:linear', random_state=42, reg_alpha=0,\n",
       "       reg_lambda=1, scale_pos_weight=1, seed=None, silent=True,\n",
       "       subsample=1)"
      ]
     },
     "execution_count": 106,
     "metadata": {},
     "output_type": "execute_result"
    }
   ],
   "source": [
    "params = {\n",
    "    'n_estimators': [50, 100, 250, 500],\n",
    "    'max_depth': [3, 5, 7, 9, 11]\n",
    "}\n",
    "\n",
    "regr = xgb.XGBRegressor(random_state=42, n_jobs=-1, max_depth=7, n_estimators=250)\n",
    "\n",
    "gscv = GridSearchCV(regr, params, cv=skf, scoring='roc_auc')\n",
    "\n",
    "gscv.fit(X, y)\n",
    "\n",
    "gscv.best_estimator_"
   ]
  },
  {
   "cell_type": "code",
   "execution_count": 107,
   "metadata": {
    "ExecuteTime": {
     "end_time": "2019-09-27T05:57:51.063449Z",
     "start_time": "2019-09-27T05:57:51.058463Z"
    }
   },
   "outputs": [
    {
     "data": {
      "text/plain": [
       "0.7551942290037679"
      ]
     },
     "execution_count": 107,
     "metadata": {},
     "output_type": "execute_result"
    }
   ],
   "source": [
    "gscv.best_score_"
   ]
  },
  {
   "cell_type": "markdown",
   "metadata": {},
   "source": [
    "### CV"
   ]
  },
  {
   "cell_type": "code",
   "execution_count": 164,
   "metadata": {
    "ExecuteTime": {
     "end_time": "2019-09-27T08:38:41.255978Z",
     "start_time": "2019-09-27T08:38:41.242015Z"
    }
   },
   "outputs": [],
   "source": [
    "# del X['UniqueCarrier'], X['Origin'], X['Dest'], X['OrDe']"
   ]
  },
  {
   "cell_type": "code",
   "execution_count": 200,
   "metadata": {
    "ExecuteTime": {
     "end_time": "2019-09-27T09:01:17.591812Z",
     "start_time": "2019-09-27T09:01:17.586854Z"
    }
   },
   "outputs": [
    {
     "data": {
      "text/plain": [
       "Index(['Month', 'DayofMonth', 'DayOfWeek', 'DepTime', 'UniqueCarrier',\n",
       "       'Origin', 'Dest', 'Distance', 'sin_time', 'cos_time'],\n",
       "      dtype='object')"
      ]
     },
     "execution_count": 200,
     "metadata": {},
     "output_type": "execute_result"
    }
   ],
   "source": [
    "X.columns"
   ]
  },
  {
   "cell_type": "code",
   "execution_count": 230,
   "metadata": {
    "ExecuteTime": {
     "end_time": "2019-09-27T09:35:43.742997Z",
     "start_time": "2019-09-27T09:35:43.739007Z"
    }
   },
   "outputs": [],
   "source": [
    "skf = StratifiedKFold(n_splits=5, shuffle=True, random_state=38)"
   ]
  },
  {
   "cell_type": "code",
   "execution_count": 146,
   "metadata": {
    "ExecuteTime": {
     "end_time": "2019-09-27T07:04:48.246785Z",
     "start_time": "2019-09-27T07:04:48.243829Z"
    }
   },
   "outputs": [],
   "source": [
    "# train_df_fe, test_df_fe \n",
    "# train_df_mekf, test_df_mekf \n",
    "# train_df_meem, test_df_meem"
   ]
  },
  {
   "cell_type": "code",
   "execution_count": 147,
   "metadata": {
    "ExecuteTime": {
     "end_time": "2019-09-27T07:05:35.204735Z",
     "start_time": "2019-09-27T07:04:48.502230Z"
    }
   },
   "outputs": [
    {
     "name": "stdout",
     "output_type": "stream",
     "text": [
      "0.74924+-0.00334\n"
     ]
    }
   ],
   "source": [
    "cols_to_use = ['Month', 'DayofMonth', 'DayOfWeek', 'DepTime', 'Distance', 'sin_time', 'cos_time']\n",
    "\n",
    "X_train = pd.concat([X[cols_to_use], train_df_fe], axis=1)\n",
    "\n",
    "regr = xgb.XGBRegressor(random_state=42, n_jobs=-1, max_depth=9, n_estimators=250)\n",
    "cv_score = cross_val_score(regr, X_train, y, cv=skf, scoring='roc_auc')\n",
    "print(f'{cv_score.mean():.5f}+-{cv_score.std():.5f}')"
   ]
  },
  {
   "cell_type": "code",
   "execution_count": 148,
   "metadata": {
    "ExecuteTime": {
     "end_time": "2019-09-27T07:06:21.534184Z",
     "start_time": "2019-09-27T07:05:35.347354Z"
    }
   },
   "outputs": [
    {
     "name": "stdout",
     "output_type": "stream",
     "text": [
      "0.73299+-0.00244\n"
     ]
    }
   ],
   "source": [
    "cols_to_use = ['Month', 'DayofMonth', 'DayOfWeek', 'DepTime', 'Distance', 'sin_time', 'cos_time']\n",
    "\n",
    "X_train = pd.concat([X[cols_to_use], train_df_mekf], axis=1)\n",
    "\n",
    "regr = xgb.XGBRegressor(random_state=42, n_jobs=-1, max_depth=9, n_estimators=250)\n",
    "cv_score = cross_val_score(regr, X_train, y, cv=skf, scoring='roc_auc')\n",
    "print(f'{cv_score.mean():.5f}+-{cv_score.std():.5f}')"
   ]
  },
  {
   "cell_type": "code",
   "execution_count": 149,
   "metadata": {
    "ExecuteTime": {
     "end_time": "2019-09-27T07:07:22.506420Z",
     "start_time": "2019-09-27T07:06:21.679532Z"
    }
   },
   "outputs": [
    {
     "name": "stdout",
     "output_type": "stream",
     "text": [
      "0.72362+-0.00331\n"
     ]
    }
   ],
   "source": [
    "cols_to_use = ['Month', 'DayofMonth', 'DayOfWeek', 'DepTime', 'Distance', 'sin_time', 'cos_time']\n",
    "\n",
    "X_train = pd.concat([X[cols_to_use], train_df_meem], axis=1)\n",
    "\n",
    "regr = xgb.XGBRegressor(random_state=42, n_jobs=-1, max_depth=9, n_estimators=250)\n",
    "cv_score = cross_val_score(regr, X_train, y, cv=skf, scoring='roc_auc')\n",
    "print(f'{cv_score.mean():.5f}+-{cv_score.std():.5f}')"
   ]
  },
  {
   "cell_type": "code",
   "execution_count": 150,
   "metadata": {
    "ExecuteTime": {
     "end_time": "2019-09-27T07:08:06.016130Z",
     "start_time": "2019-09-27T07:07:22.643379Z"
    }
   },
   "outputs": [
    {
     "name": "stdout",
     "output_type": "stream",
     "text": [
      "0.74866+-0.00241\n"
     ]
    }
   ],
   "source": [
    "cols_to_use = ['Month', 'DayofMonth', 'DayOfWeek', 'Distance', 'sin_time', 'cos_time']\n",
    "\n",
    "X_train = pd.concat([X[cols_to_use], train_df_fe], axis=1)\n",
    "\n",
    "regr = xgb.XGBRegressor(random_state=42, n_jobs=-1, max_depth=9, n_estimators=250)\n",
    "cv_score = cross_val_score(regr, X_train, y, cv=skf, scoring='roc_auc')\n",
    "print(f'{cv_score.mean():.5f}+-{cv_score.std():.5f}')"
   ]
  },
  {
   "cell_type": "markdown",
   "metadata": {},
   "source": [
    "#### BEST IS HERE"
   ]
  },
  {
   "cell_type": "code",
   "execution_count": 183,
   "metadata": {
    "ExecuteTime": {
     "end_time": "2019-09-27T08:51:33.658188Z",
     "start_time": "2019-09-27T08:50:57.194146Z"
    }
   },
   "outputs": [
    {
     "name": "stdout",
     "output_type": "stream",
     "text": [
      "0.74956+-0.00107\n"
     ]
    }
   ],
   "source": [
    "cols_to_use = ['Month', 'DayofMonth', 'DayOfWeek', 'Distance', 'DepTime']\n",
    "\n",
    "X_train = pd.concat([X[cols_to_use], train_df_fe], axis=1)\n",
    "\n",
    "regr = xgb.XGBRegressor(random_state=42, n_jobs=-1, max_depth=9, n_estimators=250)\n",
    "cv_score = cross_val_score(regr, X_train, y, cv=skf, scoring='roc_auc')\n",
    "print(f'{cv_score.mean():.5f}+-{cv_score.std():.5f}')"
   ]
  },
  {
   "cell_type": "code",
   "execution_count": 184,
   "metadata": {
    "ExecuteTime": {
     "end_time": "2019-09-27T08:52:10.704974Z",
     "start_time": "2019-09-27T08:51:33.826740Z"
    }
   },
   "outputs": [
    {
     "name": "stdout",
     "output_type": "stream",
     "text": [
      "0.73067+-0.00157\n"
     ]
    }
   ],
   "source": [
    "cols_to_use = ['Month', 'DayofMonth', 'DayOfWeek', 'Distance', 'DepTime']\n",
    "\n",
    "X_train = pd.concat([X[cols_to_use], train_df_mekf2], axis=1)\n",
    "\n",
    "regr = xgb.XGBRegressor(random_state=42, n_jobs=-1, max_depth=9, n_estimators=250)\n",
    "cv_score = cross_val_score(regr, X_train, y, cv=skf, scoring='roc_auc')\n",
    "print(f'{cv_score.mean():.5f}+-{cv_score.std():.5f}')"
   ]
  },
  {
   "cell_type": "code",
   "execution_count": 185,
   "metadata": {
    "ExecuteTime": {
     "end_time": "2019-09-27T08:52:46.139146Z",
     "start_time": "2019-09-27T08:52:10.868484Z"
    }
   },
   "outputs": [
    {
     "name": "stdout",
     "output_type": "stream",
     "text": [
      "0.73378+-0.00366\n"
     ]
    }
   ],
   "source": [
    "cols_to_use = ['Month', 'DayofMonth', 'DayOfWeek', 'Distance', 'DepTime']\n",
    "\n",
    "X_train = pd.concat([X[cols_to_use], train_df_mekf3], axis=1)\n",
    "\n",
    "regr = xgb.XGBRegressor(random_state=42, n_jobs=-1, max_depth=9, n_estimators=250)\n",
    "cv_score = cross_val_score(regr, X_train, y, cv=skf, scoring='roc_auc')\n",
    "print(f'{cv_score.mean():.5f}+-{cv_score.std():.5f}')"
   ]
  },
  {
   "cell_type": "code",
   "execution_count": 152,
   "metadata": {
    "ExecuteTime": {
     "end_time": "2019-09-27T07:09:33.592926Z",
     "start_time": "2019-09-27T07:08:41.456273Z"
    }
   },
   "outputs": [
    {
     "name": "stdout",
     "output_type": "stream",
     "text": [
      "0.74625+-0.00342\n"
     ]
    }
   ],
   "source": [
    "cols_to_use = ['Month', 'DayofMonth', 'DayOfWeek', 'DepTime', 'Distance', 'sin_time', 'cos_time']\n",
    "\n",
    "X_train = pd.concat([X[cols_to_use], train_df_fe, train_df_mekf], axis=1)\n",
    "\n",
    "regr = xgb.XGBRegressor(random_state=42, n_jobs=-1, max_depth=9, n_estimators=250)\n",
    "cv_score = cross_val_score(regr, X_train, y, cv=skf, scoring='roc_auc')\n",
    "print(f'{cv_score.mean():.5f}+-{cv_score.std():.5f}')"
   ]
  },
  {
   "cell_type": "markdown",
   "metadata": {},
   "source": [
    "##### NEW"
   ]
  },
  {
   "cell_type": "code",
   "execution_count": 236,
   "metadata": {
    "ExecuteTime": {
     "end_time": "2019-09-27T09:40:23.638216Z",
     "start_time": "2019-09-27T09:39:36.298846Z"
    }
   },
   "outputs": [
    {
     "name": "stdout",
     "output_type": "stream",
     "text": [
      "0.74905+-0.00237\n"
     ]
    }
   ],
   "source": [
    "cols_to_use = ['Month', 'DayofMonth', 'DayOfWeek', 'Distance', 'DepTime', \n",
    "               'UniqueCarrier', 'Origin', 'Dest']\n",
    "\n",
    "X_train = pd.concat([X[cols_to_use], train_df_fe], axis=1)\n",
    "\n",
    "regr = xgb.XGBRegressor(random_state=42, n_jobs=-1, max_depth=9, n_estimators=250)\n",
    "cv_score = cross_val_score(regr, X_train, y, cv=skf, scoring='roc_auc')\n",
    "print(f'{cv_score.mean():.5f}+-{cv_score.std():.5f}')"
   ]
  },
  {
   "cell_type": "code",
   "execution_count": 237,
   "metadata": {
    "ExecuteTime": {
     "end_time": "2019-09-27T09:41:11.866190Z",
     "start_time": "2019-09-27T09:40:23.819688Z"
    }
   },
   "outputs": [
    {
     "name": "stdout",
     "output_type": "stream",
     "text": [
      "0.74834+-0.00367\n"
     ]
    }
   ],
   "source": [
    "cols_to_use = ['Month', 'DayofMonth', 'DayOfWeek', 'Distance', 'DepTime', \n",
    "               'Origin', 'Dest']\n",
    "\n",
    "X_train = pd.concat([X[cols_to_use], train_df_fe], axis=1)\n",
    "\n",
    "regr = xgb.XGBRegressor(random_state=42, n_jobs=-1, max_depth=9, n_estimators=250)\n",
    "cv_score = cross_val_score(regr, X_train, y, cv=skf, scoring='roc_auc')\n",
    "print(f'{cv_score.mean():.5f}+-{cv_score.std():.5f}')"
   ]
  },
  {
   "cell_type": "code",
   "execution_count": 238,
   "metadata": {
    "ExecuteTime": {
     "end_time": "2019-09-27T09:41:58.723580Z",
     "start_time": "2019-09-27T09:41:12.034741Z"
    }
   },
   "outputs": [
    {
     "name": "stdout",
     "output_type": "stream",
     "text": [
      "0.74750+-0.00317\n"
     ]
    }
   ],
   "source": [
    "cols_to_use = ['Month', 'DayofMonth', 'DayOfWeek', 'Distance', 'DepTime', \n",
    "               'UniqueCarrier', 'Dest']\n",
    "\n",
    "X_train = pd.concat([X[cols_to_use], train_df_fe], axis=1)\n",
    "\n",
    "regr = xgb.XGBRegressor(random_state=42, n_jobs=-1, max_depth=9, n_estimators=250)\n",
    "cv_score = cross_val_score(regr, X_train, y, cv=skf, scoring='roc_auc')\n",
    "print(f'{cv_score.mean():.5f}+-{cv_score.std():.5f}')"
   ]
  },
  {
   "cell_type": "code",
   "execution_count": 239,
   "metadata": {
    "ExecuteTime": {
     "end_time": "2019-09-27T09:42:43.144266Z",
     "start_time": "2019-09-27T09:41:58.883707Z"
    }
   },
   "outputs": [
    {
     "name": "stdout",
     "output_type": "stream",
     "text": [
      "0.74855+-0.00228\n"
     ]
    }
   ],
   "source": [
    "cols_to_use = ['Month', 'DayofMonth', 'DayOfWeek', 'Distance', 'DepTime', \n",
    "               'UniqueCarrier', 'Origin']\n",
    "\n",
    "X_train = pd.concat([X[cols_to_use], train_df_fe], axis=1)\n",
    "\n",
    "regr = xgb.XGBRegressor(random_state=42, n_jobs=-1, max_depth=9, n_estimators=250)\n",
    "cv_score = cross_val_score(regr, X_train, y, cv=skf, scoring='roc_auc')\n",
    "print(f'{cv_score.mean():.5f}+-{cv_score.std():.5f}')"
   ]
  },
  {
   "cell_type": "code",
   "execution_count": 240,
   "metadata": {
    "ExecuteTime": {
     "end_time": "2019-09-27T09:43:26.105643Z",
     "start_time": "2019-09-27T09:42:43.305833Z"
    }
   },
   "outputs": [
    {
     "name": "stdout",
     "output_type": "stream",
     "text": [
      "0.74812+-0.00224\n"
     ]
    }
   ],
   "source": [
    "cols_to_use = ['Month', 'DayofMonth', 'DayOfWeek', 'Distance', 'DepTime', \n",
    "               'UniqueCarrier']\n",
    "\n",
    "X_train = pd.concat([X[cols_to_use], train_df_fe], axis=1)\n",
    "\n",
    "regr = xgb.XGBRegressor(random_state=42, n_jobs=-1, max_depth=9, n_estimators=250)\n",
    "cv_score = cross_val_score(regr, X_train, y, cv=skf, scoring='roc_auc')\n",
    "print(f'{cv_score.mean():.5f}+-{cv_score.std():.5f}')"
   ]
  },
  {
   "cell_type": "code",
   "execution_count": 241,
   "metadata": {
    "ExecuteTime": {
     "end_time": "2019-09-27T09:44:11.298159Z",
     "start_time": "2019-09-27T09:43:26.267454Z"
    }
   },
   "outputs": [
    {
     "name": "stdout",
     "output_type": "stream",
     "text": [
      "0.74833+-0.00263\n"
     ]
    }
   ],
   "source": [
    "cols_to_use = ['Month', 'DayofMonth', 'DayOfWeek', 'Distance', 'DepTime', \n",
    "               'Origin']\n",
    "\n",
    "X_train = pd.concat([X[cols_to_use], train_df_fe], axis=1)\n",
    "\n",
    "regr = xgb.XGBRegressor(random_state=42, n_jobs=-1, max_depth=9, n_estimators=250)\n",
    "cv_score = cross_val_score(regr, X_train, y, cv=skf, scoring='roc_auc')\n",
    "print(f'{cv_score.mean():.5f}+-{cv_score.std():.5f}')"
   ]
  },
  {
   "cell_type": "code",
   "execution_count": 242,
   "metadata": {
    "ExecuteTime": {
     "end_time": "2019-09-27T09:44:57.805821Z",
     "start_time": "2019-09-27T09:44:11.462202Z"
    }
   },
   "outputs": [
    {
     "name": "stdout",
     "output_type": "stream",
     "text": [
      "0.74751+-0.00296\n"
     ]
    }
   ],
   "source": [
    "cols_to_use = ['Month', 'DayofMonth', 'DayOfWeek', 'Distance', 'DepTime', \n",
    "               'Dest']\n",
    "\n",
    "X_train = pd.concat([X[cols_to_use], train_df_fe], axis=1)\n",
    "\n",
    "regr = xgb.XGBRegressor(random_state=42, n_jobs=-1, max_depth=9, n_estimators=250)\n",
    "cv_score = cross_val_score(regr, X_train, y, cv=skf, scoring='roc_auc')\n",
    "print(f'{cv_score.mean():.5f}+-{cv_score.std():.5f}')"
   ]
  },
  {
   "cell_type": "code",
   "execution_count": 232,
   "metadata": {
    "ExecuteTime": {
     "end_time": "2019-09-27T09:37:19.759860Z",
     "start_time": "2019-09-27T09:36:32.374009Z"
    }
   },
   "outputs": [
    {
     "name": "stdout",
     "output_type": "stream",
     "text": [
      "0.74885+-0.00270\n"
     ]
    }
   ],
   "source": [
    "cols_to_use = ['Month', 'DayofMonth', 'DayOfWeek', 'Distance', 'DepTime', 'hour', 'minutes']\n",
    "\n",
    "X_train = pd.concat([X[cols_to_use], train_df_fe], axis=1)\n",
    "\n",
    "regr = xgb.XGBRegressor(random_state=42, n_jobs=-1, max_depth=9, n_estimators=250)\n",
    "cv_score = cross_val_score(regr, X_train, y, cv=skf, scoring='roc_auc')\n",
    "print(f'{cv_score.mean():.5f}+-{cv_score.std():.5f}')"
   ]
  },
  {
   "cell_type": "code",
   "execution_count": 233,
   "metadata": {
    "ExecuteTime": {
     "end_time": "2019-09-27T09:38:08.856517Z",
     "start_time": "2019-09-27T09:37:19.926460Z"
    }
   },
   "outputs": [
    {
     "name": "stdout",
     "output_type": "stream",
     "text": [
      "0.74317+-0.00263\n"
     ]
    }
   ],
   "source": [
    "cols_to_use = ['Month', 'DayofMonth', 'DayOfWeek', 'Distance', 'hour', 'minutes']\n",
    "\n",
    "X_train = pd.concat([X[cols_to_use], train_df_fe], axis=1)\n",
    "\n",
    "regr = xgb.XGBRegressor(random_state=42, n_jobs=-1, max_depth=9, n_estimators=250)\n",
    "cv_score = cross_val_score(regr, X_train, y, cv=skf, scoring='roc_auc')\n",
    "print(f'{cv_score.mean():.5f}+-{cv_score.std():.5f}')"
   ]
  },
  {
   "cell_type": "code",
   "execution_count": 234,
   "metadata": {
    "ExecuteTime": {
     "end_time": "2019-09-27T09:38:52.580084Z",
     "start_time": "2019-09-27T09:38:09.025350Z"
    }
   },
   "outputs": [
    {
     "name": "stdout",
     "output_type": "stream",
     "text": [
      "0.74956+-0.00107\n"
     ]
    }
   ],
   "source": [
    "cols_to_use = ['Month', 'DayofMonth', 'DayOfWeek', 'Distance', 'DepTime', 'hour']\n",
    "\n",
    "X_train = pd.concat([X[cols_to_use], train_df_fe], axis=1)\n",
    "\n",
    "regr = xgb.XGBRegressor(random_state=42, n_jobs=-1, max_depth=9, n_estimators=250)\n",
    "cv_score = cross_val_score(regr, X_train, y, cv=skf, scoring='roc_auc')\n",
    "print(f'{cv_score.mean():.5f}+-{cv_score.std():.5f}')"
   ]
  },
  {
   "cell_type": "code",
   "execution_count": 235,
   "metadata": {
    "ExecuteTime": {
     "end_time": "2019-09-27T09:39:36.137277Z",
     "start_time": "2019-09-27T09:38:52.742190Z"
    }
   },
   "outputs": [
    {
     "name": "stdout",
     "output_type": "stream",
     "text": [
      "0.74885+-0.00270\n"
     ]
    }
   ],
   "source": [
    "cols_to_use = ['Month', 'DayofMonth', 'DayOfWeek', 'Distance', 'DepTime', 'minutes']\n",
    "\n",
    "X_train = pd.concat([X[cols_to_use], train_df_fe], axis=1)\n",
    "\n",
    "regr = xgb.XGBRegressor(random_state=42, n_jobs=-1, max_depth=9, n_estimators=250)\n",
    "cv_score = cross_val_score(regr, X_train, y, cv=skf, scoring='roc_auc')\n",
    "print(f'{cv_score.mean():.5f}+-{cv_score.std():.5f}')"
   ]
  },
  {
   "cell_type": "markdown",
   "metadata": {},
   "source": [
    "BEST = 0.7488953150242457  \n",
    "BEST = 0.7551942290037679"
   ]
  },
  {
   "cell_type": "markdown",
   "metadata": {},
   "source": [
    "# Train"
   ]
  },
  {
   "cell_type": "code",
   "execution_count": 243,
   "metadata": {
    "ExecuteTime": {
     "end_time": "2019-09-27T10:11:16.734576Z",
     "start_time": "2019-09-27T10:11:16.721637Z"
    }
   },
   "outputs": [],
   "source": [
    "cols_to_use = ['Month', 'DayofMonth', 'DayOfWeek', 'Distance', 'DepTime']\n",
    "\n",
    "X_train = pd.concat([X[cols_to_use], train_df_fe], axis=1)"
   ]
  },
  {
   "cell_type": "code",
   "execution_count": 244,
   "metadata": {
    "ExecuteTime": {
     "end_time": "2019-09-27T10:11:25.493974Z",
     "start_time": "2019-09-27T10:11:16.950209Z"
    }
   },
   "outputs": [
    {
     "data": {
      "text/plain": [
       "XGBRegressor(base_score=0.5, booster='gbtree', colsample_bylevel=1,\n",
       "       colsample_bytree=1, gamma=0, importance_type='gain',\n",
       "       learning_rate=0.1, max_delta_step=0, max_depth=9,\n",
       "       min_child_weight=1, missing=None, n_estimators=250, n_jobs=-1,\n",
       "       nthread=None, objective='reg:linear', random_state=42, reg_alpha=0,\n",
       "       reg_lambda=1, scale_pos_weight=1, seed=None, silent=True,\n",
       "       subsample=1)"
      ]
     },
     "execution_count": 244,
     "metadata": {},
     "output_type": "execute_result"
    }
   ],
   "source": [
    "regr = xgb.XGBRegressor(random_state=42, n_jobs=-1, max_depth=9, n_estimators=250)\n",
    "regr.fit(X_train, y)"
   ]
  },
  {
   "cell_type": "code",
   "execution_count": 246,
   "metadata": {
    "ExecuteTime": {
     "end_time": "2019-09-27T10:12:00.168006Z",
     "start_time": "2019-09-27T10:11:59.382079Z"
    }
   },
   "outputs": [],
   "source": [
    "X_test_ = pd.concat([X_test[cols_to_use], test_df_fe], axis=1)\n",
    "\n",
    "ctb_test_pred = regr.predict(X_test_)\n",
    "\n",
    "with warnings.catch_warnings():\n",
    "    warnings.simplefilter(\"ignore\")\n",
    "    \n",
    "    sample_sub = pd.read_csv(PATH_TO_DATA / 'sample_submission.csv', \n",
    "                             index_col='id')\n",
    "    sample_sub['dep_delayed_15min'] = ctb_test_pred\n",
    "    sample_sub.to_csv(PATH_TO_DATA / 'ctb_pred2.csv')"
   ]
  },
  {
   "cell_type": "code",
   "execution_count": null,
   "metadata": {},
   "outputs": [],
   "source": []
  }
 ],
 "metadata": {
  "kernelspec": {
   "display_name": "Python 3",
   "language": "python",
   "name": "python3"
  },
  "language_info": {
   "codemirror_mode": {
    "name": "ipython",
    "version": 3
   },
   "file_extension": ".py",
   "mimetype": "text/x-python",
   "name": "python",
   "nbconvert_exporter": "python",
   "pygments_lexer": "ipython3",
   "version": "3.7.3"
  },
  "varInspector": {
   "cols": {
    "lenName": 16,
    "lenType": 16,
    "lenVar": 40
   },
   "kernels_config": {
    "python": {
     "delete_cmd_postfix": "",
     "delete_cmd_prefix": "del ",
     "library": "var_list.py",
     "varRefreshCmd": "print(var_dic_list())"
    },
    "r": {
     "delete_cmd_postfix": ") ",
     "delete_cmd_prefix": "rm(",
     "library": "var_list.r",
     "varRefreshCmd": "cat(var_dic_list()) "
    }
   },
   "types_to_exclude": [
    "module",
    "function",
    "builtin_function_or_method",
    "instance",
    "_Feature"
   ],
   "window_display": false
  }
 },
 "nbformat": 4,
 "nbformat_minor": 2
}
