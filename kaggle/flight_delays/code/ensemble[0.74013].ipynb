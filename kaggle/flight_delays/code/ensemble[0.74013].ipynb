{
 "cells": [
  {
   "cell_type": "code",
   "execution_count": 2,
   "metadata": {
    "ExecuteTime": {
     "end_time": "2019-10-02T10:31:54.714731Z",
     "start_time": "2019-10-02T10:31:53.953639Z"
    }
   },
   "outputs": [],
   "source": [
    "import warnings\n",
    "warnings.filterwarnings('ignore')\n",
    "\n",
    "import numpy as np\n",
    "import pandas as pd\n",
    "from pathlib import Path\n",
    "\n",
    "%matplotlib inline\n",
    "import matplotlib.pyplot as plt\n",
    "import seaborn as sns\n",
    "\n",
    "from sklearn.model_selection import train_test_split\n",
    "from sklearn.metrics import roc_auc_score\n",
    "from sklearn.preprocessing import LabelEncoder\n",
    "from sklearn.model_selection import GridSearchCV, StratifiedKFold, cross_val_score, RandomizedSearchCV\n",
    "\n",
    "import lightgbm as lgb\n",
    "import xgboost as xgb\n",
    "from catboost import CatBoostClassifier"
   ]
  },
  {
   "cell_type": "code",
   "execution_count": 3,
   "metadata": {
    "ExecuteTime": {
     "end_time": "2019-10-02T10:31:54.772479Z",
     "start_time": "2019-10-02T10:31:54.716612Z"
    }
   },
   "outputs": [],
   "source": [
    "def label_encode(train_data, test_data, columns):\n",
    "    'Returns a DataFrame with encoded columns'\n",
    "    encoded_cols = []\n",
    "    for col in columns:\n",
    "        factorised = pd.factorize(train_data[col])[1]\n",
    "        labels = pd.Series(range(len(factorised)), index=factorised)\n",
    "        encoded_col_train = train_data[col].map(labels) \n",
    "        encoded_col_test = test_data[col].map(labels)\n",
    "        encoded_col = pd.concat([encoded_col_train, encoded_col_test], axis=0)\n",
    "        encoded_col[encoded_col.isnull()] = -1\n",
    "        encoded_cols.append(pd.DataFrame({'label_'+col:encoded_col}))\n",
    "    all_encoded = pd.concat(encoded_cols, axis=1)\n",
    "    return (all_encoded.loc[train_data.index,:], \n",
    "            all_encoded.loc[test_data.index,:])\n",
    "\n",
    "def freq_encode(train_data, test_data, columns):\n",
    "    '''Returns a DataFrame with encoded columns'''\n",
    "    encoded_cols = []\n",
    "    nsamples = train_data.shape[0]\n",
    "    for col in columns:    \n",
    "        freqs_cat = train_data.groupby(col)[col].count()/nsamples\n",
    "        encoded_col_train = train_data[col].map(freqs_cat)\n",
    "        encoded_col_test = test_data[col].map(freqs_cat)\n",
    "        encoded_col = pd.concat([encoded_col_train, encoded_col_test], axis=0)\n",
    "        encoded_col[encoded_col.isnull()] = 0\n",
    "        encoded_cols.append(pd.DataFrame({'freq_'+col:encoded_col}))\n",
    "    all_encoded = pd.concat(encoded_cols, axis=1)\n",
    "    return (all_encoded.loc[train_data.index,:], \n",
    "            all_encoded.loc[test_data.index,:])\n",
    "\n",
    "def mean_encode(train_data, test_data, columns, target_col, reg_method=None,\n",
    "                alpha=0, add_random=False, rmean=0, rstd=0.1, folds=1):\n",
    "    '''Returns a DataFrame with encoded columns'''\n",
    "    encoded_cols = []\n",
    "    target_mean_global = train_data[target_col].mean()\n",
    "    for col in columns:\n",
    "        # Getting means for test data\n",
    "        nrows_cat = train_data.groupby(col)[target_col].count()\n",
    "        target_means_cats = train_data.groupby(col)[target_col].mean()\n",
    "        target_means_cats_adj = (target_means_cats*nrows_cat + \n",
    "                                 target_mean_global*alpha)/(nrows_cat+alpha)\n",
    "        # Mapping means to test data\n",
    "        encoded_col_test = test_data[col].map(target_means_cats_adj)\n",
    "        # Getting a train encodings\n",
    "        if reg_method == 'expanding_mean':\n",
    "            train_data_shuffled = train_data.sample(frac=1, random_state=1)\n",
    "            cumsum = train_data_shuffled.groupby(col)[target_col].cumsum() - train_data_shuffled[target_col]\n",
    "            cumcnt = train_data_shuffled.groupby(col).cumcount()\n",
    "            encoded_col_train = cumsum/(cumcnt)\n",
    "            encoded_col_train.fillna(target_mean_global, inplace=True)\n",
    "            if add_random:\n",
    "                encoded_col_train = encoded_col_train + normal(loc=rmean, scale=rstd, \n",
    "                                                               size=(encoded_col_train.shape[0]))\n",
    "        elif (reg_method == 'k_fold') and (folds > 1):\n",
    "            kfold = StratifiedKFold(folds, shuffle=True, random_state=1)\n",
    "            parts = []\n",
    "            for tr_in, val_ind in kfold.split(train_data[columns].values, train_data[target_col].values):\n",
    "                # divide data\n",
    "                df_for_estimation, df_estimated = train_data.iloc[tr_in], train_data.iloc[val_ind]\n",
    "                # getting means on data for estimation (all folds except estimated)\n",
    "                nrows_cat = df_for_estimation.groupby(col)[target_col].count()\n",
    "                target_means_cats = df_for_estimation.groupby(col)[target_col].mean()\n",
    "                target_means_cats_adj = (target_means_cats*nrows_cat + \n",
    "                                         target_mean_global*alpha)/(nrows_cat+alpha)\n",
    "                # Mapping means to estimated fold\n",
    "                encoded_col_train_part = df_estimated[col].map(target_means_cats_adj)\n",
    "                if add_random:\n",
    "                    encoded_col_train_part = encoded_col_train_part + normal(loc=rmean, scale=rstd, \n",
    "                                                                             size=(encoded_col_train_part.shape[0]))\n",
    "                # Saving estimated encodings for a fold\n",
    "                parts.append(encoded_col_train_part)\n",
    "            encoded_col_train = pd.concat(parts, axis=0)\n",
    "            encoded_col_train.fillna(target_mean_global, inplace=True)\n",
    "        else:\n",
    "            encoded_col_train = train_data[col].map(target_means_cats_adj)\n",
    "            if add_random:\n",
    "                encoded_col_train = encoded_col_train + normal(loc=rmean, scale=rstd, \n",
    "                                                               size=(encoded_col_train.shape[0]))\n",
    "\n",
    "        # Saving the column with means\n",
    "        encoded_col = pd.concat([encoded_col_train, encoded_col_test], axis=0)\n",
    "        encoded_col[encoded_col.isnull()] = target_mean_global\n",
    "        encoded_cols.append(pd.DataFrame({'mean_'+target_col+'_'+col:encoded_col}))\n",
    "    all_encoded = pd.concat(encoded_cols, axis=1)\n",
    "    return (all_encoded.loc[train_data.index,:], \n",
    "            all_encoded.loc[test_data.index,:])"
   ]
  },
  {
   "cell_type": "code",
   "execution_count": 4,
   "metadata": {
    "ExecuteTime": {
     "end_time": "2019-10-02T10:31:54.978910Z",
     "start_time": "2019-10-02T10:31:54.774480Z"
    }
   },
   "outputs": [
    {
     "data": {
      "text/html": [
       "<div>\n",
       "<style scoped>\n",
       "    .dataframe tbody tr th:only-of-type {\n",
       "        vertical-align: middle;\n",
       "    }\n",
       "\n",
       "    .dataframe tbody tr th {\n",
       "        vertical-align: top;\n",
       "    }\n",
       "\n",
       "    .dataframe thead th {\n",
       "        text-align: right;\n",
       "    }\n",
       "</style>\n",
       "<table border=\"1\" class=\"dataframe\">\n",
       "  <thead>\n",
       "    <tr style=\"text-align: right;\">\n",
       "      <th></th>\n",
       "      <th>Month</th>\n",
       "      <th>DayofMonth</th>\n",
       "      <th>DayOfWeek</th>\n",
       "      <th>DepTime</th>\n",
       "      <th>UniqueCarrier</th>\n",
       "      <th>Origin</th>\n",
       "      <th>Dest</th>\n",
       "      <th>Distance</th>\n",
       "      <th>dep_delayed_15min</th>\n",
       "    </tr>\n",
       "  </thead>\n",
       "  <tbody>\n",
       "    <tr>\n",
       "      <th>0</th>\n",
       "      <td>c-8</td>\n",
       "      <td>c-21</td>\n",
       "      <td>c-7</td>\n",
       "      <td>1934</td>\n",
       "      <td>AA</td>\n",
       "      <td>ATL</td>\n",
       "      <td>DFW</td>\n",
       "      <td>732</td>\n",
       "      <td>N</td>\n",
       "    </tr>\n",
       "    <tr>\n",
       "      <th>1</th>\n",
       "      <td>c-4</td>\n",
       "      <td>c-20</td>\n",
       "      <td>c-3</td>\n",
       "      <td>1548</td>\n",
       "      <td>US</td>\n",
       "      <td>PIT</td>\n",
       "      <td>MCO</td>\n",
       "      <td>834</td>\n",
       "      <td>N</td>\n",
       "    </tr>\n",
       "    <tr>\n",
       "      <th>2</th>\n",
       "      <td>c-9</td>\n",
       "      <td>c-2</td>\n",
       "      <td>c-5</td>\n",
       "      <td>1422</td>\n",
       "      <td>XE</td>\n",
       "      <td>RDU</td>\n",
       "      <td>CLE</td>\n",
       "      <td>416</td>\n",
       "      <td>N</td>\n",
       "    </tr>\n",
       "    <tr>\n",
       "      <th>3</th>\n",
       "      <td>c-11</td>\n",
       "      <td>c-25</td>\n",
       "      <td>c-6</td>\n",
       "      <td>1015</td>\n",
       "      <td>OO</td>\n",
       "      <td>DEN</td>\n",
       "      <td>MEM</td>\n",
       "      <td>872</td>\n",
       "      <td>N</td>\n",
       "    </tr>\n",
       "    <tr>\n",
       "      <th>4</th>\n",
       "      <td>c-10</td>\n",
       "      <td>c-7</td>\n",
       "      <td>c-6</td>\n",
       "      <td>1828</td>\n",
       "      <td>WN</td>\n",
       "      <td>MDW</td>\n",
       "      <td>OMA</td>\n",
       "      <td>423</td>\n",
       "      <td>Y</td>\n",
       "    </tr>\n",
       "  </tbody>\n",
       "</table>\n",
       "</div>"
      ],
      "text/plain": [
       "  Month DayofMonth DayOfWeek  DepTime UniqueCarrier Origin Dest  Distance  \\\n",
       "0   c-8       c-21       c-7     1934            AA    ATL  DFW       732   \n",
       "1   c-4       c-20       c-3     1548            US    PIT  MCO       834   \n",
       "2   c-9        c-2       c-5     1422            XE    RDU  CLE       416   \n",
       "3  c-11       c-25       c-6     1015            OO    DEN  MEM       872   \n",
       "4  c-10        c-7       c-6     1828            WN    MDW  OMA       423   \n",
       "\n",
       "  dep_delayed_15min  \n",
       "0                 N  \n",
       "1                 N  \n",
       "2                 N  \n",
       "3                 N  \n",
       "4                 Y  "
      ]
     },
     "execution_count": 4,
     "metadata": {},
     "output_type": "execute_result"
    }
   ],
   "source": [
    "PATH_TO_DATA = Path('../input/flight-delays-fall-2018/')\n",
    "\n",
    "train_df = pd.read_csv(PATH_TO_DATA / 'flight_delays_train.csv')\n",
    "test_df = pd.read_csv(PATH_TO_DATA / 'flight_delays_test.csv')\n",
    "test_df.index = range(100000, 200000)\n",
    "\n",
    "air = pd.read_csv(PATH_TO_DATA / 'airports.csv')\n",
    "air = air.set_index('IATA_CODE')\n",
    "\n",
    "train_df.head()"
   ]
  },
  {
   "cell_type": "code",
   "execution_count": 5,
   "metadata": {
    "ExecuteTime": {
     "end_time": "2019-10-02T10:31:54.985891Z",
     "start_time": "2019-10-02T10:31:54.980932Z"
    }
   },
   "outputs": [],
   "source": [
    "air_city = air['CITY'].to_dict()\n",
    "air_state = air['STATE'].to_dict()\n",
    "air_country = air['COUNTRY'].to_dict()\n",
    "air_lat = air['LATITUDE'].to_dict()\n",
    "air_long = air['LONGITUDE'].to_dict()"
   ]
  },
  {
   "cell_type": "markdown",
   "metadata": {},
   "source": [
    "## Preproc"
   ]
  },
  {
   "cell_type": "code",
   "execution_count": 6,
   "metadata": {
    "ExecuteTime": {
     "end_time": "2019-10-02T10:31:55.008830Z",
     "start_time": "2019-10-02T10:31:54.986889Z"
    }
   },
   "outputs": [],
   "source": [
    "def upd_time(val):\n",
    "    hour = val // 100\n",
    "    minutes = val % 100\n",
    "    if hour >= 24:\n",
    "        hour = hour - 24\n",
    "    return hour * 60 + minutes\n",
    "\n",
    "def preproc(df, test=False):\n",
    "    df['Month'] = df['Month'].apply(lambda x: int(x[2:]))\n",
    "    df['DayofMonth'] = df['DayofMonth'].apply(lambda x: int(x[2:]))\n",
    "    df['DayOfWeek'] = df['DayOfWeek'].apply(lambda x: int(x[2:]))\n",
    "    \n",
    "    df['DepTime'] = df['DepTime'].apply(upd_time)\n",
    "    \n",
    "    minutes_in_day = 24 * 60\n",
    "    df['sin_time'] = np.sin(2 * np.pi * df['DepTime'] / minutes_in_day)\n",
    "    df['cos_time'] = np.cos(2 * np.pi * df['DepTime'] / minutes_in_day)\n",
    "    df['hour'] = df['DepTime'] // 60\n",
    "    df['minutes'] = df['DepTime'] % 60\n",
    "    \n",
    "    df['Distance_orig'] = df['Distance'].values\n",
    "    df['Distance'] = df['Distance'].apply(np.log)\n",
    "\n",
    "    \n",
    "    for col in ['Origin', 'Dest']:\n",
    "        df[col+'CITY'] = df[col].map(air_city).fillna('other')\n",
    "        df[col+'STATE'] = df[col].map(air_state).fillna('other')\n",
    "        df[col+'COUNTRY'] = df[col].map(air_country).fillna('other')\n",
    "\n",
    "        df[col+'LATITUDE'] = df[col].map(air_lat)\n",
    "        df[col+'LONGITUDE'] = df[col].map(air_long)\n",
    "\n",
    "        df[col+'x_coord'] = np.cos(df[col+'LATITUDE']) * np.cos(df[col+'LONGITUDE'])\n",
    "        df[col+'y_coord'] = np.cos(df[col+'LATITUDE']) * np.sin(df[col+'LONGITUDE'])\n",
    "        df[col+'z_coord'] = np.sin(df[col+'LATITUDE'])\n",
    "        \n",
    "    df['x_coord'] = df['Originx_coord'] - df['Destx_coord']\n",
    "    df['y_coord'] = df['Originy_coord'] - df['Desty_coord']\n",
    "    df['z_coord'] = df['Originz_coord'] - df['Destz_coord']\n",
    "    df['LATITUDE'] = df['OriginLATITUDE'] - df['DestLATITUDE']\n",
    "    df['LONGITUDE'] = df['OriginLONGITUDE'] - df['DestLONGITUDE']\n",
    "    \n",
    "    df['flight'] = df['Origin'] + '-->' + df['Dest']\n",
    "    df['flight_city'] = df['OriginCITY'] + '-->' + df['DestCITY']\n",
    "    df['flight_state'] = df['OriginSTATE'] + '-->' + df['DestSTATE']\n",
    "    \n",
    "    \n",
    "    df.loc[~df['Origin'].isin(or_dest), 'Origin'] = 'other'\n",
    "    df.loc[~df['Dest'].isin(or_dest), 'Dest'] = 'other'\n",
    "    df.loc[~df['UniqueCarrier'].isin(unique_carrier), 'UniqueCarrier'] = 'other'\n",
    "    df.loc[~df['flight'].isin(flight_set), 'flight'] = 'other'\n",
    "    df.loc[~df['flight_city'].isin(flight_city), 'flight_city'] = 'other'\n",
    "    df.loc[~df['flight_state'].isin(flight_state), 'flight_state'] = 'other'\n",
    "    \n",
    "    if not test:\n",
    "        le_carrier.fit(df['UniqueCarrier'])\n",
    "        le_or_dest.fit(pd.concat([df['Origin'], df['Dest']]))\n",
    "        le_flight.fit(df['flight'])\n",
    "        le_flight_city.fit(df['flight_city'])\n",
    "        le_flight_state.fit(df['flight_state'])\n",
    "#         del df['dep_delayed_15min']\n",
    "    \n",
    "    df['UniqueCarrierLabel'] = le_carrier.transform(df['UniqueCarrier'])\n",
    "    df['OriginLabel'] = le_or_dest.transform(df['Origin'])\n",
    "    df['DestLabel'] = le_or_dest.transform(df['Dest'])\n",
    "    df['flight'] = le_flight.transform(df['flight'])\n",
    "    df['flight_city'] = le_flight_city.transform(df['flight_city'])\n",
    "    df['flight_state'] = le_flight_state.transform(df['flight_state'])\n",
    "\n",
    "    return df\n",
    "\n",
    "le_carrier = LabelEncoder()\n",
    "le_or_dest = LabelEncoder()\n",
    "le_target = LabelEncoder()\n",
    "le_flight = LabelEncoder()\n",
    "le_flight_city = LabelEncoder()\n",
    "le_flight_state = LabelEncoder()"
   ]
  },
  {
   "cell_type": "code",
   "execution_count": 7,
   "metadata": {
    "ExecuteTime": {
     "end_time": "2019-10-02T10:31:55.385714Z",
     "start_time": "2019-10-02T10:31:55.011823Z"
    }
   },
   "outputs": [],
   "source": [
    "for df in [train_df, test_df]:\n",
    "    for col in ['Origin', 'Dest']:\n",
    "        df[col+'CITY'] = df[col].map(air_city).fillna('other')\n",
    "        df[col+'STATE'] = df[col].map(air_state).fillna('other')\n",
    "    df['flight'] = df['Origin'] + '-->' + df['Dest']\n",
    "    df['flight_city'] = df['OriginCITY'] + '-->' + df['DestCITY']\n",
    "    df['flight_state'] = df['OriginSTATE'] + '-->' + df['DestSTATE']\n",
    "\n",
    "unique_carrier = list(set(train_df['UniqueCarrier']) & set(test_df['UniqueCarrier']))\n",
    "or_dest = list(set(train_df['Origin']) & set(test_df['Origin']) & set(train_df['Dest']) & set(test_df['Dest']))\n",
    "flight_set = list(set(train_df['flight']) & set(test_df['flight']))\n",
    "flight_city = list(set(train_df['flight_city']) & set(test_df['flight_city']))\n",
    "flight_state = list(set(train_df['flight_state']) & set(test_df['flight_state']))"
   ]
  },
  {
   "cell_type": "code",
   "execution_count": 8,
   "metadata": {
    "ExecuteTime": {
     "end_time": "2019-10-02T10:31:56.750205Z",
     "start_time": "2019-10-02T10:31:55.386618Z"
    }
   },
   "outputs": [
    {
     "data": {
      "text/html": [
       "<div>\n",
       "<style scoped>\n",
       "    .dataframe tbody tr th:only-of-type {\n",
       "        vertical-align: middle;\n",
       "    }\n",
       "\n",
       "    .dataframe tbody tr th {\n",
       "        vertical-align: top;\n",
       "    }\n",
       "\n",
       "    .dataframe thead th {\n",
       "        text-align: right;\n",
       "    }\n",
       "</style>\n",
       "<table border=\"1\" class=\"dataframe\">\n",
       "  <thead>\n",
       "    <tr style=\"text-align: right;\">\n",
       "      <th></th>\n",
       "      <th>Month</th>\n",
       "      <th>DayofMonth</th>\n",
       "      <th>DayOfWeek</th>\n",
       "      <th>DepTime</th>\n",
       "      <th>UniqueCarrier</th>\n",
       "      <th>Origin</th>\n",
       "      <th>Dest</th>\n",
       "      <th>Distance</th>\n",
       "      <th>dep_delayed_15min</th>\n",
       "      <th>OriginCITY</th>\n",
       "      <th>...</th>\n",
       "      <th>Desty_coord</th>\n",
       "      <th>Destz_coord</th>\n",
       "      <th>x_coord</th>\n",
       "      <th>y_coord</th>\n",
       "      <th>z_coord</th>\n",
       "      <th>LATITUDE</th>\n",
       "      <th>LONGITUDE</th>\n",
       "      <th>UniqueCarrierLabel</th>\n",
       "      <th>OriginLabel</th>\n",
       "      <th>DestLabel</th>\n",
       "    </tr>\n",
       "  </thead>\n",
       "  <tbody>\n",
       "    <tr>\n",
       "      <th>0</th>\n",
       "      <td>8</td>\n",
       "      <td>21</td>\n",
       "      <td>7</td>\n",
       "      <td>1174</td>\n",
       "      <td>AA</td>\n",
       "      <td>ATL</td>\n",
       "      <td>DFW</td>\n",
       "      <td>6.595781</td>\n",
       "      <td>N</td>\n",
       "      <td>Atlanta</td>\n",
       "      <td>...</td>\n",
       "      <td>-0.031268</td>\n",
       "      <td>0.995883</td>\n",
       "      <td>0.646148</td>\n",
       "      <td>0.265882</td>\n",
       "      <td>-0.202054</td>\n",
       "      <td>0.74449</td>\n",
       "      <td>12.61026</td>\n",
       "      <td>0</td>\n",
       "      <td>17</td>\n",
       "      <td>77</td>\n",
       "    </tr>\n",
       "    <tr>\n",
       "      <th>1</th>\n",
       "      <td>4</td>\n",
       "      <td>20</td>\n",
       "      <td>3</td>\n",
       "      <td>948</td>\n",
       "      <td>US</td>\n",
       "      <td>PIT</td>\n",
       "      <td>MCO</td>\n",
       "      <td>6.726233</td>\n",
       "      <td>N</td>\n",
       "      <td>Pittsburgh</td>\n",
       "      <td>...</td>\n",
       "      <td>-0.353044</td>\n",
       "      <td>-0.153942</td>\n",
       "      <td>0.808264</td>\n",
       "      <td>-0.579577</td>\n",
       "      <td>0.496120</td>\n",
       "      <td>12.06258</td>\n",
       "      <td>1.08316</td>\n",
       "      <td>15</td>\n",
       "      <td>209</td>\n",
       "      <td>166</td>\n",
       "    </tr>\n",
       "    <tr>\n",
       "      <th>2</th>\n",
       "      <td>9</td>\n",
       "      <td>2</td>\n",
       "      <td>5</td>\n",
       "      <td>862</td>\n",
       "      <td>XE</td>\n",
       "      <td>RDU</td>\n",
       "      <td>CLE</td>\n",
       "      <td>6.030685</td>\n",
       "      <td>N</td>\n",
       "      <td>Raleigh</td>\n",
       "      <td>...</td>\n",
       "      <td>0.140751</td>\n",
       "      <td>-0.539788</td>\n",
       "      <td>1.070441</td>\n",
       "      <td>-0.201557</td>\n",
       "      <td>-0.428957</td>\n",
       "      <td>-5.53325</td>\n",
       "      <td>3.06193</td>\n",
       "      <td>17</td>\n",
       "      <td>220</td>\n",
       "      <td>58</td>\n",
       "    </tr>\n",
       "    <tr>\n",
       "      <th>3</th>\n",
       "      <td>11</td>\n",
       "      <td>25</td>\n",
       "      <td>6</td>\n",
       "      <td>615</td>\n",
       "      <td>OO</td>\n",
       "      <td>DEN</td>\n",
       "      <td>MEM</td>\n",
       "      <td>6.770789</td>\n",
       "      <td>N</td>\n",
       "      <td>Denver</td>\n",
       "      <td>...</td>\n",
       "      <td>0.799970</td>\n",
       "      <td>-0.466121</td>\n",
       "      <td>-0.075340</td>\n",
       "      <td>-1.265410</td>\n",
       "      <td>1.297894</td>\n",
       "      <td>4.81599</td>\n",
       "      <td>-14.69033</td>\n",
       "      <td>13</td>\n",
       "      <td>76</td>\n",
       "      <td>170</td>\n",
       "    </tr>\n",
       "    <tr>\n",
       "      <th>4</th>\n",
       "      <td>10</td>\n",
       "      <td>7</td>\n",
       "      <td>6</td>\n",
       "      <td>1108</td>\n",
       "      <td>WN</td>\n",
       "      <td>MDW</td>\n",
       "      <td>OMA</td>\n",
       "      <td>6.047372</td>\n",
       "      <td>Y</td>\n",
       "      <td>Chicago</td>\n",
       "      <td>...</td>\n",
       "      <td>0.892688</td>\n",
       "      <td>-0.445574</td>\n",
       "      <td>-0.640000</td>\n",
       "      <td>-1.015991</td>\n",
       "      <td>-0.365084</td>\n",
       "      <td>0.48346</td>\n",
       "      <td>8.14175</td>\n",
       "      <td>16</td>\n",
       "      <td>168</td>\n",
       "      <td>194</td>\n",
       "    </tr>\n",
       "  </tbody>\n",
       "</table>\n",
       "<p>5 rows × 41 columns</p>\n",
       "</div>"
      ],
      "text/plain": [
       "   Month  DayofMonth  DayOfWeek  DepTime UniqueCarrier Origin Dest  Distance  \\\n",
       "0      8          21          7     1174            AA    ATL  DFW  6.595781   \n",
       "1      4          20          3      948            US    PIT  MCO  6.726233   \n",
       "2      9           2          5      862            XE    RDU  CLE  6.030685   \n",
       "3     11          25          6      615            OO    DEN  MEM  6.770789   \n",
       "4     10           7          6     1108            WN    MDW  OMA  6.047372   \n",
       "\n",
       "  dep_delayed_15min  OriginCITY  ... Desty_coord Destz_coord   x_coord  \\\n",
       "0                 N     Atlanta  ...   -0.031268    0.995883  0.646148   \n",
       "1                 N  Pittsburgh  ...   -0.353044   -0.153942  0.808264   \n",
       "2                 N     Raleigh  ...    0.140751   -0.539788  1.070441   \n",
       "3                 N      Denver  ...    0.799970   -0.466121 -0.075340   \n",
       "4                 Y     Chicago  ...    0.892688   -0.445574 -0.640000   \n",
       "\n",
       "    y_coord   z_coord  LATITUDE  LONGITUDE  UniqueCarrierLabel  OriginLabel  \\\n",
       "0  0.265882 -0.202054   0.74449   12.61026                   0           17   \n",
       "1 -0.579577  0.496120  12.06258    1.08316                  15          209   \n",
       "2 -0.201557 -0.428957  -5.53325    3.06193                  17          220   \n",
       "3 -1.265410  1.297894   4.81599  -14.69033                  13           76   \n",
       "4 -1.015991 -0.365084   0.48346    8.14175                  16          168   \n",
       "\n",
       "   DestLabel  \n",
       "0         77  \n",
       "1        166  \n",
       "2         58  \n",
       "3        170  \n",
       "4        194  \n",
       "\n",
       "[5 rows x 41 columns]"
      ]
     },
     "execution_count": 8,
     "metadata": {},
     "output_type": "execute_result"
    }
   ],
   "source": [
    "y = le_target.fit_transform(train_df['dep_delayed_15min'])\n",
    "X = preproc(train_df)\n",
    "X_test = preproc(test_df, test=True)\n",
    "\n",
    "X.head()"
   ]
  },
  {
   "cell_type": "code",
   "execution_count": 9,
   "metadata": {
    "ExecuteTime": {
     "end_time": "2019-10-02T10:32:00.548100Z",
     "start_time": "2019-10-02T10:31:56.752169Z"
    },
    "scrolled": true
   },
   "outputs": [],
   "source": [
    "train_df['dep_delayed_15min'] = y\n",
    "\n",
    "categ_cols = ['UniqueCarrier', 'Origin', 'Dest', \n",
    "              'OriginCITY', 'OriginSTATE', 'OriginCOUNTRY', \n",
    "              'DestCITY', 'DestSTATE', 'DestCOUNTRY']\n",
    "train_df_fe, test_df_fe = freq_encode(train_df, test_df, columns=categ_cols)\n",
    "\n",
    "train_df_mekf, test_df_mekf = mean_encode(train_df, test_df, columns=categ_cols, target_col='dep_delayed_15min', \n",
    "                                                        reg_method='k_fold', alpha=5, folds=5)\n",
    "\n",
    "train_df_meem, test_df_meem = mean_encode(train_df, test_df, columns=categ_cols, target_col='dep_delayed_15min', \n",
    "                                                        reg_method='expanding_mean', alpha=5)"
   ]
  },
  {
   "cell_type": "code",
   "execution_count": 10,
   "metadata": {
    "ExecuteTime": {
     "end_time": "2019-10-02T10:32:00.555083Z",
     "start_time": "2019-10-02T10:32:00.550096Z"
    }
   },
   "outputs": [],
   "source": [
    "del train_df['dep_delayed_15min']"
   ]
  },
  {
   "cell_type": "markdown",
   "metadata": {},
   "source": [
    "### CV"
   ]
  },
  {
   "cell_type": "code",
   "execution_count": 11,
   "metadata": {
    "ExecuteTime": {
     "end_time": "2019-10-02T10:32:00.560069Z",
     "start_time": "2019-10-02T10:32:00.557105Z"
    }
   },
   "outputs": [],
   "source": [
    "skf = StratifiedKFold(n_splits=5, shuffle=True, random_state=38)"
   ]
  },
  {
   "cell_type": "code",
   "execution_count": 12,
   "metadata": {
    "ExecuteTime": {
     "end_time": "2019-10-02T10:33:00.611413Z",
     "start_time": "2019-10-02T10:32:00.562064Z"
    }
   },
   "outputs": [
    {
     "name": "stdout",
     "output_type": "stream",
     "text": [
      "0.76278+-0.00226\n"
     ]
    }
   ],
   "source": [
    "cols_to_use = ['Month', 'DayofMonth', 'DayOfWeek', 'DepTime', 'Distance',\n",
    "       'OriginLATITUDE', 'OriginLONGITUDE', 'Originx_coord', 'Originy_coord',\n",
    "       'Originz_coord', 'DestLONGITUDE', 'Desty_coord', 'x_coord', 'y_coord',\n",
    "       'z_coord', 'LATITUDE', 'LONGITUDE', 'flight', 'flight_city',\n",
    "       'flight_state', 'sin_time', 'cos_time', 'minutes',\n",
    "       'UniqueCarrierLabel']\n",
    "\n",
    "X_train = X[cols_to_use]\n",
    "\n",
    "params = {'subsample': 0.55,\n",
    "         'reg_lambda': 0.35,\n",
    "         'reg_alpha': 0.7,\n",
    "         'num_leaves': 147,\n",
    "         'n_estimators': 743,\n",
    "         'learning_rate': 0.048496934285281984,\n",
    "         'class_weight': None}\n",
    "\n",
    "clf = lgb.LGBMClassifier(random_state=42, silent=True, n_jobs=-1, **params)\n",
    "cv_score = cross_val_score(clf, X_train, y, cv=skf, scoring='roc_auc')\n",
    "print(f'{cv_score.mean():.5f}+-{cv_score.std():.5f}')"
   ]
  },
  {
   "cell_type": "markdown",
   "metadata": {},
   "source": [
    "## Voting"
   ]
  },
  {
   "cell_type": "code",
   "execution_count": 19,
   "metadata": {
    "ExecuteTime": {
     "end_time": "2019-10-02T10:46:54.494773Z",
     "start_time": "2019-10-02T10:46:54.490785Z"
    }
   },
   "outputs": [],
   "source": [
    "from sklearn.ensemble import VotingClassifier\n",
    "from sklearn.model_selection import cross_val_predict\n",
    "from sklearn.metrics import roc_auc_score"
   ]
  },
  {
   "cell_type": "code",
   "execution_count": 14,
   "metadata": {
    "ExecuteTime": {
     "end_time": "2019-10-02T10:33:00.681226Z",
     "start_time": "2019-10-02T10:33:00.618394Z"
    }
   },
   "outputs": [],
   "source": [
    "cols_to_use = ['Month', 'DayofMonth', 'DayOfWeek', 'DepTime', 'Distance',\n",
    "       'OriginLATITUDE', 'OriginLONGITUDE', 'Originx_coord', 'Originy_coord',\n",
    "       'Originz_coord', 'DestLONGITUDE', 'Desty_coord', 'x_coord', 'y_coord',\n",
    "       'z_coord', 'LATITUDE', 'LONGITUDE', 'flight', 'flight_city',\n",
    "       'flight_state', 'sin_time', 'cos_time', 'minutes',\n",
    "       'UniqueCarrierLabel']\n",
    "\n",
    "cols_to_use_cb = ['Month', 'DayofMonth', 'DayOfWeek', 'Distance', 'DepTime', \n",
    "               'OriginLATITUDE', 'OriginLONGITUDE', 'DestLATITUDE', 'DestLONGITUDE',\n",
    "              'UniqueCarrier', 'Origin', 'Dest', 'flight']\n",
    "\n",
    "X_train = X[cols_to_use]\n",
    "X_test_ = X_test[cols_to_use]\n",
    "\n",
    "X_train_cb = X[cols_to_use]\n",
    "X_test_cb_ = X_test[cols_to_use]"
   ]
  },
  {
   "cell_type": "code",
   "execution_count": 15,
   "metadata": {
    "ExecuteTime": {
     "end_time": "2019-10-02T10:33:00.688209Z",
     "start_time": "2019-10-02T10:33:00.682223Z"
    }
   },
   "outputs": [],
   "source": [
    "lgb_params = {'subsample': 0.55,\n",
    "         'reg_lambda': 0.35,\n",
    "         'reg_alpha': 0.7,\n",
    "         'num_leaves': 147,\n",
    "         'n_estimators': 743,\n",
    "         'learning_rate': 0.048496934285281984,\n",
    "         'class_weight': None}\n",
    "\n",
    "cb_params = {'learning_rate': 0.1,\n",
    "         'leaf_estimation_iterations': 31,\n",
    "         'l2_leaf_reg': 2310.1297000831582,\n",
    "         'iterations': 2000,\n",
    "         'depth': 6,\n",
    "         'border_count': 254}\n",
    "\n",
    "categ_feat_idx = np.where(X_train_cb.dtypes == 'object')[0]\n",
    "fit_params = {'cat_features': categ_feat_idx}"
   ]
  },
  {
   "cell_type": "code",
   "execution_count": 16,
   "metadata": {
    "ExecuteTime": {
     "end_time": "2019-10-02T10:33:00.694193Z",
     "start_time": "2019-10-02T10:33:00.689205Z"
    }
   },
   "outputs": [],
   "source": [
    "lgb_clf = lgb.LGBMClassifier(random_state=42, silent=True, n_jobs=-1, **lgb_params)\n",
    "xgb_clf = xgb.XGBClassifier(random_state=42, n_jobs=-1, max_depth=9, n_estimators=250)\n",
    "cb_clf = CatBoostClassifier(random_state=42, silent=True, **cb_params)"
   ]
  },
  {
   "cell_type": "code",
   "execution_count": 39,
   "metadata": {
    "ExecuteTime": {
     "end_time": "2019-10-02T11:36:45.247470Z",
     "start_time": "2019-10-02T11:22:48.410368Z"
    }
   },
   "outputs": [
    {
     "name": "stdout",
     "output_type": "stream",
     "text": [
      "new split\n",
      "new split\n",
      "new split\n",
      "new split\n",
      "new split\n"
     ]
    }
   ],
   "source": [
    "y_pred_lgb = np.zeros(y.shape)\n",
    "y_pred_xgb = np.zeros(y.shape)\n",
    "y_pred_cb = np.zeros(y.shape)\n",
    "\n",
    "for train_idx, test_idx in skf.split(X_train, y):\n",
    "    print(\"new split\")\n",
    "    lgb_clf = lgb.LGBMClassifier(random_state=42, silent=True, n_jobs=-1, **lgb_params)\n",
    "    xgb_clf = xgb.XGBClassifier(random_state=42, n_jobs=-1, max_depth=9, n_estimators=250)\n",
    "    cb_clf = CatBoostClassifier(random_state=42, silent=True, **cb_params)\n",
    "    \n",
    "    lgb_clf.fit(X_train.iloc[train_idx], y[train_idx])\n",
    "    xgb_clf.fit(X_train.iloc[train_idx], y[train_idx])\n",
    "    cb_clf.fit(X_train_cb.iloc[train_idx], y[train_idx])\n",
    "    \n",
    "    \n",
    "    y_pred_lgb[test_idx] = lgb_clf.predict_proba(X_train.iloc[test_idx])[:, 1]\n",
    "    y_pred_xgb[test_idx] = xgb_clf.predict_proba(X_train.iloc[test_idx])[:, 1]\n",
    "    y_pred_cb[test_idx] = cb_clf.predict_proba(X_train_cb.iloc[test_idx])[:, 1]\n",
    "    \n",
    "    \n",
    "# y_pred_lgb = cross_val_predict(lgb_clf, X_train, y, cv=skf)\n",
    "# y_pred_xgb = cross_val_predict(xgb_clf, X_train, y, cv=skf)\n",
    "# y_pred_cb = cross_val_predict(cb_clf, X_train_cb, y, cv=skf)"
   ]
  },
  {
   "cell_type": "code",
   "execution_count": 45,
   "metadata": {
    "ExecuteTime": {
     "end_time": "2019-10-02T11:37:33.764602Z",
     "start_time": "2019-10-02T11:37:33.680825Z"
    }
   },
   "outputs": [
    {
     "name": "stdout",
     "output_type": "stream",
     "text": [
      "0.76277 0.75920 0.75214\n"
     ]
    }
   ],
   "source": [
    "roc_lgb = roc_auc_score(y, y_pred_lgb)\n",
    "roc_xgb = roc_auc_score(y, y_pred_xgb)\n",
    "roc_cb = roc_auc_score(y, y_pred_cb)\n",
    "print(\"{:.5f} {:.5f} {:.5f}\".format(roc_lgb, roc_xgb, roc_cb))"
   ]
  },
  {
   "cell_type": "code",
   "execution_count": 46,
   "metadata": {
    "ExecuteTime": {
     "end_time": "2019-10-02T11:37:54.053285Z",
     "start_time": "2019-10-02T11:37:54.048271Z"
    }
   },
   "outputs": [],
   "source": [
    "preds = np.concatenate([y_pred_lgb[:, np.newaxis], y_pred_xgb[:, np.newaxis], y_pred_cb[:, np.newaxis]], axis=1)"
   ]
  },
  {
   "cell_type": "code",
   "execution_count": 48,
   "metadata": {
    "ExecuteTime": {
     "end_time": "2019-10-02T11:38:00.427715Z",
     "start_time": "2019-10-02T11:38:00.392783Z"
    }
   },
   "outputs": [
    {
     "data": {
      "text/plain": [
       "0.7638417637856059"
      ]
     },
     "execution_count": 48,
     "metadata": {},
     "output_type": "execute_result"
    }
   ],
   "source": [
    "y_ens_pred = np.average(preds, axis=1, weights=[0.25, 0.25, 0.50])\n",
    "roc_auc_score(y, y_ens_pred)"
   ]
  },
  {
   "cell_type": "code",
   "execution_count": 53,
   "metadata": {
    "ExecuteTime": {
     "end_time": "2019-10-02T11:38:35.072527Z",
     "start_time": "2019-10-02T11:38:35.030613Z"
    }
   },
   "outputs": [
    {
     "data": {
      "text/plain": [
       "0.7654257423256483"
      ]
     },
     "execution_count": 53,
     "metadata": {},
     "output_type": "execute_result"
    }
   ],
   "source": [
    "y_ens_pred = np.average(preds, axis=1, weights=[0.33, 0.33, 0.33])\n",
    "roc_auc_score(y, y_ens_pred)"
   ]
  },
  {
   "cell_type": "code",
   "execution_count": 50,
   "metadata": {
    "ExecuteTime": {
     "end_time": "2019-10-02T11:38:02.661711Z",
     "start_time": "2019-10-02T11:38:02.625808Z"
    }
   },
   "outputs": [
    {
     "data": {
      "text/plain": [
       "0.7521394870833552"
      ]
     },
     "execution_count": 50,
     "metadata": {},
     "output_type": "execute_result"
    }
   ],
   "source": [
    "y_ens_pred = np.average(preds, axis=1, weights=[0.00, 0.00, 1.0])\n",
    "roc_auc_score(y, y_ens_pred)"
   ]
  },
  {
   "cell_type": "markdown",
   "metadata": {},
   "source": [
    "Train ens"
   ]
  },
  {
   "cell_type": "code",
   "execution_count": 54,
   "metadata": {
    "ExecuteTime": {
     "end_time": "2019-10-02T11:42:01.446394Z",
     "start_time": "2019-10-02T11:42:01.425422Z"
    }
   },
   "outputs": [],
   "source": [
    "lgb_clf = lgb.LGBMClassifier(random_state=42, silent=True, n_jobs=-1, **lgb_params)\n",
    "xgb_clf = xgb.XGBClassifier(random_state=42, n_jobs=-1, max_depth=9, n_estimators=250)\n",
    "cb_clf = CatBoostClassifier(random_state=42, silent=True, **cb_params)"
   ]
  },
  {
   "cell_type": "code",
   "execution_count": 55,
   "metadata": {
    "ExecuteTime": {
     "end_time": "2019-10-02T11:45:00.645064Z",
     "start_time": "2019-10-02T11:42:02.514508Z"
    }
   },
   "outputs": [
    {
     "data": {
      "text/plain": [
       "<catboost.core.CatBoostClassifier at 0x1f77fd8b588>"
      ]
     },
     "execution_count": 55,
     "metadata": {},
     "output_type": "execute_result"
    }
   ],
   "source": [
    "lgb_clf.fit(X_train,y)\n",
    "xgb_clf.fit(X_train, y)\n",
    "cb_clf.fit(X_train_cb, y)"
   ]
  },
  {
   "cell_type": "code",
   "execution_count": 56,
   "metadata": {
    "ExecuteTime": {
     "end_time": "2019-10-02T11:45:03.693013Z",
     "start_time": "2019-10-02T11:45:01.675270Z"
    }
   },
   "outputs": [],
   "source": [
    "y_pred_lgb = lgb_clf.predict_proba(X_test_)[:, 1]\n",
    "y_pred_xgb = xgb_clf.predict_proba(X_test_)[:, 1]\n",
    "y_pred_cb = cb_clf.predict_proba(X_test_cb_)[:, 1]"
   ]
  },
  {
   "cell_type": "code",
   "execution_count": 57,
   "metadata": {
    "ExecuteTime": {
     "end_time": "2019-10-02T11:45:04.694337Z",
     "start_time": "2019-10-02T11:45:04.684363Z"
    }
   },
   "outputs": [],
   "source": [
    "preds = np.concatenate([y_pred_lgb[:, np.newaxis], y_pred_xgb[:, np.newaxis], y_pred_cb[:, np.newaxis]], axis=1)\n",
    "y_ens_pred = np.average(preds, axis=1, weights=[0.25, 0.25, 0.50])"
   ]
  },
  {
   "cell_type": "code",
   "execution_count": 58,
   "metadata": {
    "ExecuteTime": {
     "end_time": "2019-10-02T11:45:05.930058Z",
     "start_time": "2019-10-02T11:45:05.608890Z"
    }
   },
   "outputs": [],
   "source": [
    "with warnings.catch_warnings():\n",
    "    warnings.simplefilter(\"ignore\")\n",
    "    \n",
    "    sample_sub = pd.read_csv(PATH_TO_DATA / 'sample_submission.csv', \n",
    "                             index_col='id')\n",
    "    sample_sub['dep_delayed_15min'] = y_ens_pred\n",
    "    sample_sub.to_csv(PATH_TO_DATA / 'ens_pred_clf.csv')"
   ]
  },
  {
   "cell_type": "code",
   "execution_count": null,
   "metadata": {},
   "outputs": [],
   "source": []
  },
  {
   "cell_type": "code",
   "execution_count": null,
   "metadata": {},
   "outputs": [],
   "source": []
  },
  {
   "cell_type": "code",
   "execution_count": null,
   "metadata": {},
   "outputs": [],
   "source": []
  },
  {
   "cell_type": "code",
   "execution_count": null,
   "metadata": {},
   "outputs": [],
   "source": []
  },
  {
   "cell_type": "code",
   "execution_count": null,
   "metadata": {},
   "outputs": [],
   "source": [
    "# Example of hard voting \n",
    "from sklearn.ensemble import VotingClassifier\n",
    "\n",
    "clf = [rf, et, knn, svc, rg]\n",
    "eclf = VotingClassifier(estimators=[('Random Forests', rf), ('Extra Trees', et), ('KNeighbors', knn), ('SVC', svc), ('Ridge Classifier', rg)], voting='hard')\n",
    "\n",
    "for clf, label in zip([rf, et, knn, svc, rg, eclf], ['Random Forest', 'Extra Trees', 'KNeighbors', 'SVC', 'Ridge Classifier', 'Ensemble']):\n",
    "    scores = cross_val_score(clf, X, y, cv=10, scoring='accuracy')\n",
    "    print(\"Accuracy: %0.2f (+/- %0.2f) [%s]\" % (scores.mean(), scores.std(), label))# Results"
   ]
  },
  {
   "cell_type": "code",
   "execution_count": null,
   "metadata": {},
   "outputs": [],
   "source": []
  },
  {
   "cell_type": "code",
   "execution_count": null,
   "metadata": {},
   "outputs": [],
   "source": [
    "from itertools import combinations\n",
    "from sklearn.linear_model import LogisticRegressionlr = LogisticRegression()\n",
    "\n",
    "names = ['Random Forest', 'Extra Trees', 'KNeighbors', 'SVC', 'Ridge Classifier']\n",
    "\n",
    "def zip_stacked_classifiers(*args):\n",
    "    to_zip = []\n",
    "    for arg in args:\n",
    "        combined_items = sum([map(list, combinations(arg, i)) for i in range(len(arg) + 1)], [])\n",
    "        combined_items = filter(lambda x: len(x) > 0, combined_items)\n",
    "        to_zip.append(combined_items)\n",
    "    \n",
    "    return zip(to_zip[0], to_zip[1])\n",
    "\n",
    "stacked_clf_list = zip_stacked_classifiers(clf_array, names)\n",
    "best_combination = [0.00, \"\"]\n",
    "\n",
    "for clf in stacked_clf_list:\n",
    "    \n",
    "    ensemble = SuperLearner(scorer = accuracy_score, \n",
    "                            random_state = seed, \n",
    "                            folds = 10)\n",
    "    ensemble.add(clf[0])\n",
    "    ensemble.add_meta(lr)\n",
    "    ensemble.fit(X_train, y_train)\n",
    "    preds = ensemble.predict(X_test)\n",
    "    accuracy = accuracy_score(preds, y_test)\n",
    "    \n",
    "    if accuracy > best_combination[0]:\n",
    "        best_combination[0] = accuracy\n",
    "        best_combination[1] = clf[1]\n",
    "    \n",
    "    print(\"Accuracy score: {:.3f} {}\").format(accuracy, clf[1])\n",
    "print(\"\\nBest stacking model is {} with accuracy of: {:.3f}\").format(best_combination[1], best_combination[0])"
   ]
  },
  {
   "cell_type": "markdown",
   "metadata": {},
   "source": [
    "## Train"
   ]
  },
  {
   "cell_type": "code",
   "execution_count": 13,
   "metadata": {
    "ExecuteTime": {
     "end_time": "2019-10-02T09:58:31.121437Z",
     "start_time": "2019-10-02T09:58:31.089235Z"
    },
    "scrolled": true
   },
   "outputs": [],
   "source": [
    "cols_to_use = ['Month', 'DayofMonth', 'DayOfWeek', 'DepTime', 'Distance',\n",
    "       'OriginLATITUDE', 'OriginLONGITUDE', 'Originx_coord', 'Originy_coord',\n",
    "       'Originz_coord', 'DestLONGITUDE', 'Desty_coord', 'x_coord', 'y_coord',\n",
    "       'z_coord', 'LATITUDE', 'LONGITUDE', 'flight', 'flight_city',\n",
    "       'flight_state', 'sin_time', 'cos_time', 'minutes',\n",
    "       'UniqueCarrierLabel']\n",
    "\n",
    "X_train = X[cols_to_use]\n",
    "X_test_ = X_test[cols_to_use]"
   ]
  },
  {
   "cell_type": "code",
   "execution_count": 14,
   "metadata": {
    "ExecuteTime": {
     "end_time": "2019-10-02T09:58:43.626039Z",
     "start_time": "2019-10-02T09:58:32.311339Z"
    }
   },
   "outputs": [
    {
     "data": {
      "text/plain": [
       "LGBMClassifier(boosting_type='gbdt', class_weight=None, colsample_bytree=1.0,\n",
       "        importance_type='split', learning_rate=0.048496934285281984,\n",
       "        max_depth=-1, min_child_samples=20, min_child_weight=0.001,\n",
       "        min_split_gain=0.0, n_estimators=743, n_jobs=-1, num_leaves=147,\n",
       "        objective=None, random_state=42, reg_alpha=0.7, reg_lambda=0.35,\n",
       "        silent=True, subsample=0.55, subsample_for_bin=200000,\n",
       "        subsample_freq=0)"
      ]
     },
     "execution_count": 14,
     "metadata": {},
     "output_type": "execute_result"
    }
   ],
   "source": [
    "clf = lgb.LGBMClassifier(random_state=42, silent=True, n_jobs=-1, **params)\n",
    "clf.fit(X_train, y)"
   ]
  },
  {
   "cell_type": "code",
   "execution_count": 15,
   "metadata": {
    "ExecuteTime": {
     "end_time": "2019-10-02T09:58:46.078479Z",
     "start_time": "2019-10-02T09:58:44.543585Z"
    }
   },
   "outputs": [],
   "source": [
    "lgb_test_pred = clf.predict_proba(X_test_)[:, 1]\n",
    "\n",
    "with warnings.catch_warnings():\n",
    "    warnings.simplefilter(\"ignore\")\n",
    "    \n",
    "    sample_sub = pd.read_csv(PATH_TO_DATA / 'sample_submission.csv', \n",
    "                             index_col='id')\n",
    "    sample_sub['dep_delayed_15min'] = lgb_test_pred\n",
    "    sample_sub.to_csv(PATH_TO_DATA / 'lgbm_pred_clf.csv')"
   ]
  },
  {
   "cell_type": "code",
   "execution_count": 17,
   "metadata": {
    "ExecuteTime": {
     "end_time": "2019-10-02T09:58:49.518865Z",
     "start_time": "2019-10-02T09:58:49.512913Z"
    }
   },
   "outputs": [
    {
     "data": {
      "text/plain": [
       "array([0.01402563, 0.01632205, 0.01821385, ..., 0.11643435, 0.05704157,\n",
       "       0.08139562])"
      ]
     },
     "execution_count": 17,
     "metadata": {},
     "output_type": "execute_result"
    }
   ],
   "source": [
    "lgb_test_pred"
   ]
  },
  {
   "cell_type": "code",
   "execution_count": null,
   "metadata": {},
   "outputs": [],
   "source": []
  }
 ],
 "metadata": {
  "kernelspec": {
   "display_name": "Python 3",
   "language": "python",
   "name": "python3"
  },
  "language_info": {
   "codemirror_mode": {
    "name": "ipython",
    "version": 3
   },
   "file_extension": ".py",
   "mimetype": "text/x-python",
   "name": "python",
   "nbconvert_exporter": "python",
   "pygments_lexer": "ipython3",
   "version": "3.7.3"
  },
  "varInspector": {
   "cols": {
    "lenName": 16,
    "lenType": 16,
    "lenVar": 40
   },
   "kernels_config": {
    "python": {
     "delete_cmd_postfix": "",
     "delete_cmd_prefix": "del ",
     "library": "var_list.py",
     "varRefreshCmd": "print(var_dic_list())"
    },
    "r": {
     "delete_cmd_postfix": ") ",
     "delete_cmd_prefix": "rm(",
     "library": "var_list.r",
     "varRefreshCmd": "cat(var_dic_list()) "
    }
   },
   "types_to_exclude": [
    "module",
    "function",
    "builtin_function_or_method",
    "instance",
    "_Feature"
   ],
   "window_display": false
  }
 },
 "nbformat": 4,
 "nbformat_minor": 2
}
