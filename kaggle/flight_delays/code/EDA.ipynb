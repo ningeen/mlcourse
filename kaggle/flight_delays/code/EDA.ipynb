{
 "cells": [
  {
   "cell_type": "code",
   "execution_count": 1,
   "metadata": {
    "ExecuteTime": {
     "end_time": "2019-09-26T11:22:18.412692Z",
     "start_time": "2019-09-26T11:22:12.732008Z"
    }
   },
   "outputs": [],
   "source": [
    "import warnings\n",
    "import numpy as np\n",
    "import pandas as pd\n",
    "from pathlib import Path\n",
    "from sklearn.model_selection import train_test_split\n",
    "from sklearn.metrics import roc_auc_score"
   ]
  },
  {
   "cell_type": "code",
   "execution_count": 8,
   "metadata": {
    "ExecuteTime": {
     "end_time": "2019-09-26T11:25:59.083053Z",
     "start_time": "2019-09-26T11:25:58.607223Z"
    }
   },
   "outputs": [],
   "source": [
    "%matplotlib inline\n",
    "import matplotlib.pyplot as plt\n",
    "import seaborn as sns"
   ]
  },
  {
   "cell_type": "code",
   "execution_count": 48,
   "metadata": {
    "ExecuteTime": {
     "end_time": "2019-09-26T11:48:41.531363Z",
     "start_time": "2019-09-26T11:48:41.320899Z"
    }
   },
   "outputs": [
    {
     "data": {
      "text/html": [
       "<div>\n",
       "<style scoped>\n",
       "    .dataframe tbody tr th:only-of-type {\n",
       "        vertical-align: middle;\n",
       "    }\n",
       "\n",
       "    .dataframe tbody tr th {\n",
       "        vertical-align: top;\n",
       "    }\n",
       "\n",
       "    .dataframe thead th {\n",
       "        text-align: right;\n",
       "    }\n",
       "</style>\n",
       "<table border=\"1\" class=\"dataframe\">\n",
       "  <thead>\n",
       "    <tr style=\"text-align: right;\">\n",
       "      <th></th>\n",
       "      <th>Month</th>\n",
       "      <th>DayofMonth</th>\n",
       "      <th>DayOfWeek</th>\n",
       "      <th>DepTime</th>\n",
       "      <th>UniqueCarrier</th>\n",
       "      <th>Origin</th>\n",
       "      <th>Dest</th>\n",
       "      <th>Distance</th>\n",
       "      <th>dep_delayed_15min</th>\n",
       "    </tr>\n",
       "  </thead>\n",
       "  <tbody>\n",
       "    <tr>\n",
       "      <th>0</th>\n",
       "      <td>c-8</td>\n",
       "      <td>c-21</td>\n",
       "      <td>c-7</td>\n",
       "      <td>1934</td>\n",
       "      <td>AA</td>\n",
       "      <td>ATL</td>\n",
       "      <td>DFW</td>\n",
       "      <td>732</td>\n",
       "      <td>N</td>\n",
       "    </tr>\n",
       "    <tr>\n",
       "      <th>1</th>\n",
       "      <td>c-4</td>\n",
       "      <td>c-20</td>\n",
       "      <td>c-3</td>\n",
       "      <td>1548</td>\n",
       "      <td>US</td>\n",
       "      <td>PIT</td>\n",
       "      <td>MCO</td>\n",
       "      <td>834</td>\n",
       "      <td>N</td>\n",
       "    </tr>\n",
       "    <tr>\n",
       "      <th>2</th>\n",
       "      <td>c-9</td>\n",
       "      <td>c-2</td>\n",
       "      <td>c-5</td>\n",
       "      <td>1422</td>\n",
       "      <td>XE</td>\n",
       "      <td>RDU</td>\n",
       "      <td>CLE</td>\n",
       "      <td>416</td>\n",
       "      <td>N</td>\n",
       "    </tr>\n",
       "    <tr>\n",
       "      <th>3</th>\n",
       "      <td>c-11</td>\n",
       "      <td>c-25</td>\n",
       "      <td>c-6</td>\n",
       "      <td>1015</td>\n",
       "      <td>OO</td>\n",
       "      <td>DEN</td>\n",
       "      <td>MEM</td>\n",
       "      <td>872</td>\n",
       "      <td>N</td>\n",
       "    </tr>\n",
       "    <tr>\n",
       "      <th>4</th>\n",
       "      <td>c-10</td>\n",
       "      <td>c-7</td>\n",
       "      <td>c-6</td>\n",
       "      <td>1828</td>\n",
       "      <td>WN</td>\n",
       "      <td>MDW</td>\n",
       "      <td>OMA</td>\n",
       "      <td>423</td>\n",
       "      <td>Y</td>\n",
       "    </tr>\n",
       "  </tbody>\n",
       "</table>\n",
       "</div>"
      ],
      "text/plain": [
       "  Month DayofMonth DayOfWeek  DepTime UniqueCarrier Origin Dest  Distance  \\\n",
       "0   c-8       c-21       c-7     1934            AA    ATL  DFW       732   \n",
       "1   c-4       c-20       c-3     1548            US    PIT  MCO       834   \n",
       "2   c-9        c-2       c-5     1422            XE    RDU  CLE       416   \n",
       "3  c-11       c-25       c-6     1015            OO    DEN  MEM       872   \n",
       "4  c-10        c-7       c-6     1828            WN    MDW  OMA       423   \n",
       "\n",
       "  dep_delayed_15min  \n",
       "0                 N  \n",
       "1                 N  \n",
       "2                 N  \n",
       "3                 N  \n",
       "4                 Y  "
      ]
     },
     "execution_count": 48,
     "metadata": {},
     "output_type": "execute_result"
    }
   ],
   "source": [
    "PATH_TO_DATA = Path('../input/flight-delays-fall-2018/')\n",
    "\n",
    "train_df = pd.read_csv(PATH_TO_DATA / 'flight_delays_train.csv')\n",
    "test_df = pd.read_csv(PATH_TO_DATA / 'flight_delays_test.csv')\n",
    "\n",
    "train_df.head()"
   ]
  },
  {
   "cell_type": "markdown",
   "metadata": {},
   "source": [
    "### Analyze"
   ]
  },
  {
   "cell_type": "code",
   "execution_count": null,
   "metadata": {},
   "outputs": [],
   "source": [
    "df['Month'] = df['Month'].apply(lambda x: int(x[2:]))\n",
    "df['DayofMonth'] = df['DayofMonth'].apply(lambda x: int(x[2:]))\n",
    "df['DayOfWeek'] = df['DayOfWeek'].apply(lambda x: int(x[2:]))"
   ]
  },
  {
   "cell_type": "code",
   "execution_count": 3,
   "metadata": {
    "ExecuteTime": {
     "end_time": "2019-09-26T11:22:51.023807Z",
     "start_time": "2019-09-26T11:22:51.009868Z"
    }
   },
   "outputs": [
    {
     "data": {
      "text/plain": [
       "c-8     8830\n",
       "c-7     8706\n",
       "c-3     8595\n",
       "c-5     8543\n",
       "c-6     8414\n",
       "c-4     8408\n",
       "c-10    8405\n",
       "c-12    8265\n",
       "c-11    8178\n",
       "c-9     8163\n",
       "c-1     8075\n",
       "c-2     7418\n",
       "Name: Month, dtype: int64"
      ]
     },
     "execution_count": 3,
     "metadata": {},
     "output_type": "execute_result"
    }
   ],
   "source": [
    "train_df['Month'].value_counts()"
   ]
  },
  {
   "cell_type": "code",
   "execution_count": 4,
   "metadata": {
    "ExecuteTime": {
     "end_time": "2019-09-26T11:24:16.135500Z",
     "start_time": "2019-09-26T11:24:16.121538Z"
    }
   },
   "outputs": [
    {
     "data": {
      "text/plain": [
       "c-1     3399\n",
       "c-20    3380\n",
       "c-6     3377\n",
       "c-22    3374\n",
       "c-14    3366\n",
       "c-17    3347\n",
       "c-10    3342\n",
       "c-27    3330\n",
       "c-5     3321\n",
       "c-28    3321\n",
       "c-23    3314\n",
       "c-25    3314\n",
       "c-21    3312\n",
       "c-19    3305\n",
       "c-15    3297\n",
       "c-2     3285\n",
       "c-9     3283\n",
       "c-7     3272\n",
       "c-8     3258\n",
       "c-4     3249\n",
       "c-18    3246\n",
       "c-26    3241\n",
       "c-16    3240\n",
       "c-13    3238\n",
       "c-3     3228\n",
       "c-12    3212\n",
       "c-24    3210\n",
       "c-11    3168\n",
       "c-30    2976\n",
       "c-29    2837\n",
       "c-31    1958\n",
       "Name: DayofMonth, dtype: int64"
      ]
     },
     "execution_count": 4,
     "metadata": {},
     "output_type": "execute_result"
    }
   ],
   "source": [
    "train_df['DayofMonth'].value_counts()"
   ]
  },
  {
   "cell_type": "code",
   "execution_count": 6,
   "metadata": {
    "ExecuteTime": {
     "end_time": "2019-09-26T11:25:05.366596Z",
     "start_time": "2019-09-26T11:25:05.353434Z"
    }
   },
   "outputs": [
    {
     "data": {
      "text/plain": [
       "c-4    14736\n",
       "c-5    14657\n",
       "c-2    14604\n",
       "c-1    14569\n",
       "c-3    14508\n",
       "c-7    14097\n",
       "c-6    12829\n",
       "Name: DayOfWeek, dtype: int64"
      ]
     },
     "execution_count": 6,
     "metadata": {},
     "output_type": "execute_result"
    }
   ],
   "source": [
    "train_df['DayOfWeek'].value_counts()"
   ]
  },
  {
   "cell_type": "code",
   "execution_count": 12,
   "metadata": {
    "ExecuteTime": {
     "end_time": "2019-09-26T11:26:31.156535Z",
     "start_time": "2019-09-26T11:26:30.839358Z"
    }
   },
   "outputs": [
    {
     "data": {
      "image/png": "[encoded data removed]",
      "text/plain": [
       "<Figure size 432x288 with 1 Axes>"
      ]
     },
     "metadata": {
      "needs_background": "light"
     },
     "output_type": "display_data"
    }
   ],
   "source": [
    "sns.distplot(train_df['DepTime'], bins=100);"
   ]
  },
  {
   "cell_type": "code",
   "execution_count": 15,
   "metadata": {
    "ExecuteTime": {
     "end_time": "2019-09-26T11:26:56.997724Z",
     "start_time": "2019-09-26T11:26:56.983762Z"
    }
   },
   "outputs": [
    {
     "data": {
      "text/plain": [
       "WN    15082\n",
       "AA     9418\n",
       "DL     8128\n",
       "MQ     7443\n",
       "OO     7390\n",
       "UA     6876\n",
       "US     6482\n",
       "NW     6403\n",
       "XE     5901\n",
       "OH     4594\n",
       "CO     4334\n",
       "EV     3930\n",
       "FL     3039\n",
       "AS     2222\n",
       "YV     2128\n",
       "B6     1838\n",
       "HP     1378\n",
       "F9     1006\n",
       "DH      966\n",
       "HA      762\n",
       "TZ      446\n",
       "AQ      234\n",
       "Name: UniqueCarrier, dtype: int64"
      ]
     },
     "execution_count": 15,
     "metadata": {},
     "output_type": "execute_result"
    }
   ],
   "source": [
    "train_df['UniqueCarrier'].value_counts()"
   ]
  },
  {
   "cell_type": "code",
   "execution_count": 18,
   "metadata": {
    "ExecuteTime": {
     "end_time": "2019-09-26T11:29:53.542287Z",
     "start_time": "2019-09-26T11:29:53.528294Z"
    },
    "collapsed": true
   },
   "outputs": [
    {
     "data": {
      "text/plain": [
       "ATL    5834\n",
       "ORD    4870\n",
       "DFW    4270\n",
       "LAX    3259\n",
       "IAH    3048\n",
       "DEN    2973\n",
       "PHX    2729\n",
       "LAS    2513\n",
       "CVG    2346\n",
       "EWR    2196\n",
       "SLC    2103\n",
       "DTW    1863\n",
       "MSP    1856\n",
       "SFO    1839\n",
       "LGA    1737\n",
       "BOS    1731\n",
       "MCO    1708\n",
       "PHL    1617\n",
       "CLT    1611\n",
       "SEA    1526\n",
       "IAD    1516\n",
       "BWI    1497\n",
       "JFK    1496\n",
       "MDW    1366\n",
       "DCA    1354\n",
       "SAN    1338\n",
       "CLE    1241\n",
       "TPA    1122\n",
       "OAK    1025\n",
       "FLL     999\n",
       "       ... \n",
       "EYW       9\n",
       "STX       8\n",
       "LWS       8\n",
       "ISO       8\n",
       "WRG       8\n",
       "ACY       8\n",
       "HKY       7\n",
       "HVN       7\n",
       "APF       7\n",
       "BRW       7\n",
       "TUP       6\n",
       "BPT       6\n",
       "DLG       5\n",
       "ACK       5\n",
       "ADQ       5\n",
       "PSE       4\n",
       "LWB       4\n",
       "SCC       4\n",
       "PIE       3\n",
       "BLI       3\n",
       "OAJ       2\n",
       "RFD       2\n",
       "AKN       2\n",
       "TEX       2\n",
       "VIS       1\n",
       "WYS       1\n",
       "ADK       1\n",
       "GST       1\n",
       "VCT       1\n",
       "ILG       1\n",
       "Name: Origin, Length: 289, dtype: int64"
      ]
     },
     "execution_count": 18,
     "metadata": {},
     "output_type": "execute_result"
    }
   ],
   "source": [
    "train_df['Origin'].value_counts()"
   ]
  },
  {
   "cell_type": "code",
   "execution_count": 19,
   "metadata": {
    "ExecuteTime": {
     "end_time": "2019-09-26T11:30:24.967018Z",
     "start_time": "2019-09-26T11:30:24.954056Z"
    },
    "collapsed": true
   },
   "outputs": [
    {
     "data": {
      "text/plain": [
       "ATL    5795\n",
       "ORD    4933\n",
       "DFW    4337\n",
       "LAX    3205\n",
       "IAH    3056\n",
       "DEN    2866\n",
       "PHX    2749\n",
       "LAS    2475\n",
       "CVG    2434\n",
       "EWR    2190\n",
       "SLC    2170\n",
       "DTW    1898\n",
       "MSP    1822\n",
       "SFO    1808\n",
       "BOS    1803\n",
       "LGA    1741\n",
       "MCO    1728\n",
       "CLT    1604\n",
       "PHL    1600\n",
       "IAD    1577\n",
       "SEA    1520\n",
       "JFK    1467\n",
       "BWI    1461\n",
       "DCA    1358\n",
       "MDW    1295\n",
       "SAN    1229\n",
       "CLE    1218\n",
       "TPA    1121\n",
       "OAK    1030\n",
       "SJC     960\n",
       "       ... \n",
       "HVN      10\n",
       "MQT      10\n",
       "BPT       9\n",
       "FLG       9\n",
       "ISO       9\n",
       "SPI       9\n",
       "CDV       8\n",
       "BET       8\n",
       "SCC       8\n",
       "VIS       7\n",
       "ADQ       7\n",
       "CDC       7\n",
       "RFD       6\n",
       "BGM       5\n",
       "HKY       5\n",
       "PSE       5\n",
       "PIE       5\n",
       "WYS       4\n",
       "BRW       3\n",
       "BLI       3\n",
       "AKN       3\n",
       "GST       2\n",
       "ILG       2\n",
       "DLG       2\n",
       "SOP       2\n",
       "VCT       1\n",
       "TTN       1\n",
       "TEX       1\n",
       "ACK       1\n",
       "LWB       1\n",
       "Name: Dest, Length: 289, dtype: int64"
      ]
     },
     "execution_count": 19,
     "metadata": {},
     "output_type": "execute_result"
    }
   ],
   "source": [
    "train_df['Dest'].value_counts()"
   ]
  },
  {
   "cell_type": "code",
   "execution_count": 20,
   "metadata": {
    "ExecuteTime": {
     "end_time": "2019-09-26T11:34:12.215283Z",
     "start_time": "2019-09-26T11:34:12.210324Z"
    }
   },
   "outputs": [
    {
     "data": {
      "text/plain": [
       "Index(['Month', 'DayofMonth', 'DayOfWeek', 'DepTime', 'UniqueCarrier',\n",
       "       'Origin', 'Dest', 'Distance', 'dep_delayed_15min'],\n",
       "      dtype='object')"
      ]
     },
     "execution_count": 20,
     "metadata": {},
     "output_type": "execute_result"
    }
   ],
   "source": [
    "train_df.columns"
   ]
  },
  {
   "cell_type": "code",
   "execution_count": 22,
   "metadata": {
    "ExecuteTime": {
     "end_time": "2019-09-26T11:34:31.495859Z",
     "start_time": "2019-09-26T11:34:31.280410Z"
    }
   },
   "outputs": [
    {
     "data": {
      "image/png": "[encoded data removed]",
      "text/plain": [
       "<Figure size 432x288 with 1 Axes>"
      ]
     },
     "metadata": {
      "needs_background": "light"
     },
     "output_type": "display_data"
    }
   ],
   "source": [
    "sns.distplot(train_df['Distance']);"
   ]
  },
  {
   "cell_type": "code",
   "execution_count": 24,
   "metadata": {
    "ExecuteTime": {
     "end_time": "2019-09-26T11:34:54.029650Z",
     "start_time": "2019-09-26T11:34:54.016687Z"
    }
   },
   "outputs": [
    {
     "data": {
      "text/plain": [
       "N    80956\n",
       "Y    19044\n",
       "Name: dep_delayed_15min, dtype: int64"
      ]
     },
     "execution_count": 24,
     "metadata": {},
     "output_type": "execute_result"
    }
   ],
   "source": [
    "train_df['dep_delayed_15min'].value_counts()"
   ]
  },
  {
   "cell_type": "markdown",
   "metadata": {},
   "source": [
    "### Preproc"
   ]
  },
  {
   "cell_type": "code",
   "execution_count": 17,
   "metadata": {
    "ExecuteTime": {
     "end_time": "2019-09-26T11:28:49.780492Z",
     "start_time": "2019-09-26T11:28:49.776503Z"
    }
   },
   "outputs": [],
   "source": [
    "from sklearn.preprocessing import LabelEncoder"
   ]
  },
  {
   "cell_type": "code",
   "execution_count": 111,
   "metadata": {
    "ExecuteTime": {
     "end_time": "2019-09-26T12:06:45.815944Z",
     "start_time": "2019-09-26T12:06:45.619218Z"
    }
   },
   "outputs": [],
   "source": [
    "# train_df = pd.read_csv(PATH_TO_DATA / 'flight_delays_train.csv')\n",
    "# test_df = pd.read_csv(PATH_TO_DATA / 'flight_delays_test.csv')"
   ]
  },
  {
   "cell_type": "code",
   "execution_count": 112,
   "metadata": {
    "ExecuteTime": {
     "end_time": "2019-09-26T12:06:45.854958Z",
     "start_time": "2019-09-26T12:06:45.852936Z"
    }
   },
   "outputs": [],
   "source": [
    "le_carrier = LabelEncoder()\n",
    "le_or_dest = LabelEncoder()\n",
    "le_target = LabelEncoder()"
   ]
  },
  {
   "cell_type": "code",
   "execution_count": 113,
   "metadata": {
    "ExecuteTime": {
     "end_time": "2019-09-26T12:06:46.241068Z",
     "start_time": "2019-09-26T12:06:46.128176Z"
    }
   },
   "outputs": [],
   "source": [
    "unique_carrier = list(set(train_df['UniqueCarrier']) & set(train_df['UniqueCarrier']))\n",
    "or_dest = list(set(train_df['Origin']) & set(train_df['Origin']) & set(train_df['Dest']) & set(train_df['Dest']))\n",
    "\n",
    "train_df.loc[~train_df['Origin'].isin(or_dest), 'Origin'] = 'ATL'\n",
    "train_df.loc[~train_df['Dest'].isin(or_dest), 'Dest'] = 'ATL'\n",
    "train_df.loc[~train_df['UniqueCarrier'].isin(unique_carrier), 'UniqueCarrier'] = 'WN'\n",
    "\n",
    "test_df.loc[~test_df['Origin'].isin(or_dest), 'Origin'] = 'ATL'\n",
    "test_df.loc[~test_df['Dest'].isin(or_dest), 'Dest'] = 'ATL'\n",
    "test_df.loc[~test_df['UniqueCarrier'].isin(unique_carrier), 'UniqueCarrier'] = 'WN'"
   ]
  },
  {
   "cell_type": "code",
   "execution_count": 114,
   "metadata": {
    "ExecuteTime": {
     "end_time": "2019-09-26T12:06:49.777158Z",
     "start_time": "2019-09-26T12:06:49.770178Z"
    }
   },
   "outputs": [],
   "source": [
    "def preproc(df, test=False):\n",
    "    df['Month'] = df['Month'].apply(lambda x: int(x[2:]))\n",
    "    df['DayofMonth'] = df['DayofMonth'].apply(lambda x: int(x[2:]))\n",
    "    df['DayOfWeek'] = df['DayOfWeek'].apply(lambda x: int(x[2:]))\n",
    "    \n",
    "    if not test:\n",
    "        le_carrier.fit(df['UniqueCarrier'])\n",
    "        le_or_dest.fit(pd.concat([df['Origin'], df['Dest']]))\n",
    "        del df['dep_delayed_15min']\n",
    "    \n",
    "    df['UniqueCarrier'] = le_carrier.transform(df['UniqueCarrier'])\n",
    "    df['Origin'] = le_or_dest.transform(df['Origin'])\n",
    "    df['Dest'] = le_or_dest.transform(df['Dest'])\n",
    "    \n",
    "    return df"
   ]
  },
  {
   "cell_type": "code",
   "execution_count": 115,
   "metadata": {
    "ExecuteTime": {
     "end_time": "2019-09-26T12:06:55.832246Z",
     "start_time": "2019-09-26T12:06:55.397207Z"
    }
   },
   "outputs": [
    {
     "data": {
      "text/html": [
       "<div>\n",
       "<style scoped>\n",
       "    .dataframe tbody tr th:only-of-type {\n",
       "        vertical-align: middle;\n",
       "    }\n",
       "\n",
       "    .dataframe tbody tr th {\n",
       "        vertical-align: top;\n",
       "    }\n",
       "\n",
       "    .dataframe thead th {\n",
       "        text-align: right;\n",
       "    }\n",
       "</style>\n",
       "<table border=\"1\" class=\"dataframe\">\n",
       "  <thead>\n",
       "    <tr style=\"text-align: right;\">\n",
       "      <th></th>\n",
       "      <th>Month</th>\n",
       "      <th>DayofMonth</th>\n",
       "      <th>DayOfWeek</th>\n",
       "      <th>DepTime</th>\n",
       "      <th>UniqueCarrier</th>\n",
       "      <th>Origin</th>\n",
       "      <th>Dest</th>\n",
       "      <th>Distance</th>\n",
       "    </tr>\n",
       "  </thead>\n",
       "  <tbody>\n",
       "    <tr>\n",
       "      <th>0</th>\n",
       "      <td>8</td>\n",
       "      <td>21</td>\n",
       "      <td>7</td>\n",
       "      <td>1934</td>\n",
       "      <td>0</td>\n",
       "      <td>17</td>\n",
       "      <td>78</td>\n",
       "      <td>732</td>\n",
       "    </tr>\n",
       "    <tr>\n",
       "      <th>1</th>\n",
       "      <td>4</td>\n",
       "      <td>20</td>\n",
       "      <td>3</td>\n",
       "      <td>1548</td>\n",
       "      <td>18</td>\n",
       "      <td>215</td>\n",
       "      <td>171</td>\n",
       "      <td>834</td>\n",
       "    </tr>\n",
       "    <tr>\n",
       "      <th>2</th>\n",
       "      <td>9</td>\n",
       "      <td>2</td>\n",
       "      <td>5</td>\n",
       "      <td>1422</td>\n",
       "      <td>20</td>\n",
       "      <td>226</td>\n",
       "      <td>59</td>\n",
       "      <td>416</td>\n",
       "    </tr>\n",
       "    <tr>\n",
       "      <th>3</th>\n",
       "      <td>11</td>\n",
       "      <td>25</td>\n",
       "      <td>6</td>\n",
       "      <td>1015</td>\n",
       "      <td>15</td>\n",
       "      <td>77</td>\n",
       "      <td>175</td>\n",
       "      <td>872</td>\n",
       "    </tr>\n",
       "    <tr>\n",
       "      <th>4</th>\n",
       "      <td>10</td>\n",
       "      <td>7</td>\n",
       "      <td>6</td>\n",
       "      <td>1828</td>\n",
       "      <td>19</td>\n",
       "      <td>173</td>\n",
       "      <td>199</td>\n",
       "      <td>423</td>\n",
       "    </tr>\n",
       "  </tbody>\n",
       "</table>\n",
       "</div>"
      ],
      "text/plain": [
       "   Month  DayofMonth  DayOfWeek  DepTime  UniqueCarrier  Origin  Dest  \\\n",
       "0      8          21          7     1934              0      17    78   \n",
       "1      4          20          3     1548             18     215   171   \n",
       "2      9           2          5     1422             20     226    59   \n",
       "3     11          25          6     1015             15      77   175   \n",
       "4     10           7          6     1828             19     173   199   \n",
       "\n",
       "   Distance  \n",
       "0       732  \n",
       "1       834  \n",
       "2       416  \n",
       "3       872  \n",
       "4       423  "
      ]
     },
     "execution_count": 115,
     "metadata": {},
     "output_type": "execute_result"
    }
   ],
   "source": [
    "y = le_target.fit_transform(train_df['dep_delayed_15min'])\n",
    "X = preproc(train_df)\n",
    "\n",
    "X_test = preproc(test_df, test=True)\n",
    "\n",
    "X.head()"
   ]
  },
  {
   "cell_type": "markdown",
   "metadata": {},
   "source": [
    "### CV"
   ]
  },
  {
   "cell_type": "code",
   "execution_count": 43,
   "metadata": {
    "ExecuteTime": {
     "end_time": "2019-09-26T11:47:07.571816Z",
     "start_time": "2019-09-26T11:47:07.567795Z"
    }
   },
   "outputs": [],
   "source": [
    "from sklearn.model_selection import GridSearchCV, StratifiedKFold, cross_val_score\n",
    "import xgboost as xgb"
   ]
  },
  {
   "cell_type": "code",
   "execution_count": 44,
   "metadata": {
    "ExecuteTime": {
     "end_time": "2019-09-26T11:47:07.874800Z",
     "start_time": "2019-09-26T11:47:07.871833Z"
    }
   },
   "outputs": [],
   "source": [
    "skf = StratifiedKFold(n_splits=10, shuffle=True, random_state=38)"
   ]
  },
  {
   "cell_type": "code",
   "execution_count": 116,
   "metadata": {
    "ExecuteTime": {
     "end_time": "2019-09-26T12:26:49.073609Z",
     "start_time": "2019-09-26T12:07:13.091875Z"
    }
   },
   "outputs": [
    {
     "data": {
      "text/plain": [
       "XGBRegressor(base_score=0.5, booster='gbtree', colsample_bylevel=1,\n",
       "       colsample_bytree=1, gamma=0, importance_type='gain',\n",
       "       learning_rate=0.1, max_delta_step=0, max_depth=7,\n",
       "       min_child_weight=1, missing=None, n_estimators=250, n_jobs=-1,\n",
       "       nthread=None, objective='reg:linear', random_state=42, reg_alpha=0,\n",
       "       reg_lambda=1, scale_pos_weight=1, seed=None, silent=True,\n",
       "       subsample=1)"
      ]
     },
     "execution_count": 116,
     "metadata": {},
     "output_type": "execute_result"
    }
   ],
   "source": [
    "params = {\n",
    "    'n_estimators': [50, 100, 250, 500],\n",
    "    'max_depth': [3, 5, 7, 9, 11]\n",
    "}\n",
    "\n",
    "regr = xgb.XGBRegressor(random_state=42, n_jobs=-1, max_depth=7, n_estimators=250)\n",
    "\n",
    "gscv = GridSearchCV(regr, params, cv=skf, scoring='roc_auc')\n",
    "\n",
    "gscv.fit(X, y)\n",
    "\n",
    "gscv.best_estimator_"
   ]
  },
  {
   "cell_type": "code",
   "execution_count": 117,
   "metadata": {
    "ExecuteTime": {
     "end_time": "2019-09-26T12:27:29.589261Z",
     "start_time": "2019-09-26T12:27:29.584260Z"
    }
   },
   "outputs": [
    {
     "data": {
      "text/plain": [
       "0.7488953150242457"
      ]
     },
     "execution_count": 117,
     "metadata": {},
     "output_type": "execute_result"
    }
   ],
   "source": [
    "gscv.best_score_"
   ]
  },
  {
   "cell_type": "markdown",
   "metadata": {},
   "source": [
    "# Train"
   ]
  },
  {
   "cell_type": "code",
   "execution_count": 118,
   "metadata": {
    "ExecuteTime": {
     "end_time": "2019-09-26T12:33:08.940658Z",
     "start_time": "2019-09-26T12:33:08.936666Z"
    }
   },
   "outputs": [],
   "source": [
    "import warnings"
   ]
  },
  {
   "cell_type": "code",
   "execution_count": 119,
   "metadata": {
    "ExecuteTime": {
     "end_time": "2019-09-26T12:33:18.445578Z",
     "start_time": "2019-09-26T12:33:09.686265Z"
    }
   },
   "outputs": [
    {
     "data": {
      "text/plain": [
       "XGBRegressor(base_score=0.5, booster='gbtree', colsample_bylevel=1,\n",
       "       colsample_bytree=1, gamma=0, importance_type='gain',\n",
       "       learning_rate=0.1, max_delta_step=0, max_depth=7,\n",
       "       min_child_weight=1, missing=None, n_estimators=250, n_jobs=-1,\n",
       "       nthread=None, objective='reg:linear', random_state=42, reg_alpha=0,\n",
       "       reg_lambda=1, scale_pos_weight=1, seed=None, silent=True,\n",
       "       subsample=1)"
      ]
     },
     "execution_count": 119,
     "metadata": {},
     "output_type": "execute_result"
    }
   ],
   "source": [
    "regr = xgb.XGBRegressor(random_state=42, n_jobs=-1, max_depth=7, n_estimators=250)\n",
    "regr.fit(X, y)"
   ]
  },
  {
   "cell_type": "code",
   "execution_count": 120,
   "metadata": {
    "ExecuteTime": {
     "end_time": "2019-09-26T12:34:17.277598Z",
     "start_time": "2019-09-26T12:34:16.633310Z"
    }
   },
   "outputs": [],
   "source": [
    "ctb_test_pred = regr.predict(X_test)\n",
    "\n",
    "with warnings.catch_warnings():\n",
    "    warnings.simplefilter(\"ignore\")\n",
    "    \n",
    "    sample_sub = pd.read_csv(PATH_TO_DATA / 'sample_submission.csv', \n",
    "                             index_col='id')\n",
    "    sample_sub['dep_delayed_15min'] = ctb_test_pred\n",
    "    sample_sub.to_csv(PATH_TO_DATA / 'ctb_pred.csv')"
   ]
  },
  {
   "cell_type": "code",
   "execution_count": null,
   "metadata": {},
   "outputs": [],
   "source": []
  }
 ],
 "metadata": {
  "kernelspec": {
   "display_name": "Python 3",
   "language": "python",
   "name": "python3"
  },
  "language_info": {
   "codemirror_mode": {
    "name": "ipython",
    "version": 3
   },
   "file_extension": ".py",
   "mimetype": "text/x-python",
   "name": "python",
   "nbconvert_exporter": "python",
   "pygments_lexer": "ipython3",
   "version": "3.7.3"
  },
  "varInspector": {
   "cols": {
    "lenName": 16,
    "lenType": 16,
    "lenVar": 40
   },
   "kernels_config": {
    "python": {
     "delete_cmd_postfix": "",
     "delete_cmd_prefix": "del ",
     "library": "var_list.py",
     "varRefreshCmd": "print(var_dic_list())"
    },
    "r": {
     "delete_cmd_postfix": ") ",
     "delete_cmd_prefix": "rm(",
     "library": "var_list.r",
     "varRefreshCmd": "cat(var_dic_list()) "
    }
   },
   "types_to_exclude": [
    "module",
    "function",
    "builtin_function_or_method",
    "instance",
    "_Feature"
   ],
   "window_display": false
  }
 },
 "nbformat": 4,
 "nbformat_minor": 2
}
