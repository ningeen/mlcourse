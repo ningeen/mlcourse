{
 "cells": [
  {
   "cell_type": "markdown",
   "metadata": {},
   "source": [
    "# Main"
   ]
  },
  {
   "cell_type": "code",
   "execution_count": 14,
   "metadata": {
    "ExecuteTime": {
     "end_time": "2019-10-02T12:19:30.720983Z",
     "start_time": "2019-10-02T12:19:30.712009Z"
    }
   },
   "outputs": [],
   "source": [
    "import warnings\n",
    "warnings.filterwarnings('ignore')\n",
    "\n",
    "import numpy as np\n",
    "import pandas as pd\n",
    "from pathlib import Path\n",
    "\n",
    "%matplotlib inline\n",
    "import matplotlib.pyplot as plt\n",
    "import seaborn as sns\n",
    "\n",
    "from sklearn.model_selection import train_test_split\n",
    "from sklearn.metrics import roc_auc_score\n",
    "from sklearn.preprocessing import LabelEncoder\n",
    "from sklearn.model_selection import GridSearchCV, StratifiedKFold, cross_val_score, RandomizedSearchCV\n",
    "\n",
    "from catboost import CatBoostClassifier"
   ]
  },
  {
   "cell_type": "code",
   "execution_count": 15,
   "metadata": {
    "ExecuteTime": {
     "end_time": "2019-10-02T12:19:30.749905Z",
     "start_time": "2019-10-02T12:19:30.722979Z"
    }
   },
   "outputs": [],
   "source": [
    "def label_encode(train_data, test_data, columns):\n",
    "    'Returns a DataFrame with encoded columns'\n",
    "    encoded_cols = []\n",
    "    for col in columns:\n",
    "        factorised = pd.factorize(train_data[col])[1]\n",
    "        labels = pd.Series(range(len(factorised)), index=factorised)\n",
    "        encoded_col_train = train_data[col].map(labels) \n",
    "        encoded_col_test = test_data[col].map(labels)\n",
    "        encoded_col = pd.concat([encoded_col_train, encoded_col_test], axis=0)\n",
    "        encoded_col[encoded_col.isnull()] = -1\n",
    "        encoded_cols.append(pd.DataFrame({'label_'+col:encoded_col}))\n",
    "    all_encoded = pd.concat(encoded_cols, axis=1)\n",
    "    return (all_encoded.loc[train_data.index,:], \n",
    "            all_encoded.loc[test_data.index,:])\n",
    "\n",
    "def freq_encode(train_data, test_data, columns):\n",
    "    '''Returns a DataFrame with encoded columns'''\n",
    "    encoded_cols = []\n",
    "    nsamples = train_data.shape[0]\n",
    "    for col in columns:    \n",
    "        freqs_cat = train_data.groupby(col)[col].count()/nsamples\n",
    "        encoded_col_train = train_data[col].map(freqs_cat)\n",
    "        encoded_col_test = test_data[col].map(freqs_cat)\n",
    "        encoded_col = pd.concat([encoded_col_train, encoded_col_test], axis=0)\n",
    "        encoded_col[encoded_col.isnull()] = 0\n",
    "        encoded_cols.append(pd.DataFrame({'freq_'+col:encoded_col}))\n",
    "    all_encoded = pd.concat(encoded_cols, axis=1)\n",
    "    return (all_encoded.loc[train_data.index,:], \n",
    "            all_encoded.loc[test_data.index,:])\n",
    "\n",
    "def mean_encode(train_data, test_data, columns, target_col, reg_method=None,\n",
    "                alpha=0, add_random=False, rmean=0, rstd=0.1, folds=1):\n",
    "    '''Returns a DataFrame with encoded columns'''\n",
    "    encoded_cols = []\n",
    "    target_mean_global = train_data[target_col].mean()\n",
    "    for col in columns:\n",
    "        # Getting means for test data\n",
    "        nrows_cat = train_data.groupby(col)[target_col].count()\n",
    "        target_means_cats = train_data.groupby(col)[target_col].mean()\n",
    "        target_means_cats_adj = (target_means_cats*nrows_cat + \n",
    "                                 target_mean_global*alpha)/(nrows_cat+alpha)\n",
    "        # Mapping means to test data\n",
    "        encoded_col_test = test_data[col].map(target_means_cats_adj)\n",
    "        # Getting a train encodings\n",
    "        if reg_method == 'expanding_mean':\n",
    "            train_data_shuffled = train_data.sample(frac=1, random_state=1)\n",
    "            cumsum = train_data_shuffled.groupby(col)[target_col].cumsum() - train_data_shuffled[target_col]\n",
    "            cumcnt = train_data_shuffled.groupby(col).cumcount()\n",
    "            encoded_col_train = cumsum/(cumcnt)\n",
    "            encoded_col_train.fillna(target_mean_global, inplace=True)\n",
    "            if add_random:\n",
    "                encoded_col_train = encoded_col_train + normal(loc=rmean, scale=rstd, \n",
    "                                                               size=(encoded_col_train.shape[0]))\n",
    "        elif (reg_method == 'k_fold') and (folds > 1):\n",
    "            kfold = StratifiedKFold(folds, shuffle=True, random_state=1)\n",
    "            parts = []\n",
    "            for tr_in, val_ind in kfold.split(train_data[columns].values, train_data[target_col].values):\n",
    "                # divide data\n",
    "                df_for_estimation, df_estimated = train_data.iloc[tr_in], train_data.iloc[val_ind]\n",
    "                # getting means on data for estimation (all folds except estimated)\n",
    "                nrows_cat = df_for_estimation.groupby(col)[target_col].count()\n",
    "                target_means_cats = df_for_estimation.groupby(col)[target_col].mean()\n",
    "                target_means_cats_adj = (target_means_cats*nrows_cat + \n",
    "                                         target_mean_global*alpha)/(nrows_cat+alpha)\n",
    "                # Mapping means to estimated fold\n",
    "                encoded_col_train_part = df_estimated[col].map(target_means_cats_adj)\n",
    "                if add_random:\n",
    "                    encoded_col_train_part = encoded_col_train_part + normal(loc=rmean, scale=rstd, \n",
    "                                                                             size=(encoded_col_train_part.shape[0]))\n",
    "                # Saving estimated encodings for a fold\n",
    "                parts.append(encoded_col_train_part)\n",
    "            encoded_col_train = pd.concat(parts, axis=0)\n",
    "            encoded_col_train.fillna(target_mean_global, inplace=True)\n",
    "        else:\n",
    "            encoded_col_train = train_data[col].map(target_means_cats_adj)\n",
    "            if add_random:\n",
    "                encoded_col_train = encoded_col_train + normal(loc=rmean, scale=rstd, \n",
    "                                                               size=(encoded_col_train.shape[0]))\n",
    "\n",
    "        # Saving the column with means\n",
    "        encoded_col = pd.concat([encoded_col_train, encoded_col_test], axis=0)\n",
    "        encoded_col[encoded_col.isnull()] = target_mean_global\n",
    "        encoded_cols.append(pd.DataFrame({'mean_'+target_col+'_'+col:encoded_col}))\n",
    "    all_encoded = pd.concat(encoded_cols, axis=1)\n",
    "    return (all_encoded.loc[train_data.index,:], \n",
    "            all_encoded.loc[test_data.index,:])"
   ]
  },
  {
   "cell_type": "code",
   "execution_count": 101,
   "metadata": {
    "ExecuteTime": {
     "end_time": "2019-10-03T04:15:01.387123Z",
     "start_time": "2019-10-03T04:15:01.374181Z"
    }
   },
   "outputs": [],
   "source": [
    "def reduce_mem_usage(df, verbose=True):\n",
    "    numerics = ['int16', 'int32', 'int64', 'float16', 'float32', 'float64']\n",
    "    start_mem = df.memory_usage().sum() / 1024**2    \n",
    "    for col in df.columns:\n",
    "        col_type = df[col].dtypes\n",
    "        if col_type in numerics:\n",
    "            c_min = df[col].min()\n",
    "            c_max = df[col].max()\n",
    "            if str(col_type)[:3] == 'int':\n",
    "                if c_min > np.iinfo(np.int8).min and c_max < np.iinfo(np.int8).max:\n",
    "                    df[col] = df[col].astype(np.int8)\n",
    "                elif c_min > np.iinfo(np.int16).min and c_max < np.iinfo(np.int16).max:\n",
    "                    df[col] = df[col].astype(np.int16)\n",
    "                elif c_min > np.iinfo(np.int32).min and c_max < np.iinfo(np.int32).max:\n",
    "                    df[col] = df[col].astype(np.int32)\n",
    "                elif c_min > np.iinfo(np.int64).min and c_max < np.iinfo(np.int64).max:\n",
    "                    df[col] = df[col].astype(np.int64)  \n",
    "            else:\n",
    "                if c_min > np.finfo(np.float16).min and c_max < np.finfo(np.float16).max:\n",
    "                    df[col] = df[col].astype(np.float16) \n",
    "                elif c_min > np.finfo(np.float32).min and c_max < np.finfo(np.float32).max:\n",
    "                    df[col] = df[col].astype(np.float32)\n",
    "                else:\n",
    "                    df[col] = df[col].astype(np.float64) \n",
    "    end_mem = df.memory_usage().sum() / 1024**2\n",
    "    if verbose: print('Mem. usage decreased to {:5.2f} Mb ({:.1f}% reduction)'.format(end_mem, 100 * (start_mem - end_mem) / start_mem))\n",
    "    return df"
   ]
  },
  {
   "cell_type": "code",
   "execution_count": 173,
   "metadata": {
    "ExecuteTime": {
     "end_time": "2019-10-04T05:08:48.291345Z",
     "start_time": "2019-10-04T05:08:48.080936Z"
    }
   },
   "outputs": [
    {
     "data": {
      "text/html": [
       "<div>\n",
       "<style scoped>\n",
       "    .dataframe tbody tr th:only-of-type {\n",
       "        vertical-align: middle;\n",
       "    }\n",
       "\n",
       "    .dataframe tbody tr th {\n",
       "        vertical-align: top;\n",
       "    }\n",
       "\n",
       "    .dataframe thead th {\n",
       "        text-align: right;\n",
       "    }\n",
       "</style>\n",
       "<table border=\"1\" class=\"dataframe\">\n",
       "  <thead>\n",
       "    <tr style=\"text-align: right;\">\n",
       "      <th></th>\n",
       "      <th>Month</th>\n",
       "      <th>DayofMonth</th>\n",
       "      <th>DayOfWeek</th>\n",
       "      <th>DepTime</th>\n",
       "      <th>UniqueCarrier</th>\n",
       "      <th>Origin</th>\n",
       "      <th>Dest</th>\n",
       "      <th>Distance</th>\n",
       "      <th>dep_delayed_15min</th>\n",
       "    </tr>\n",
       "  </thead>\n",
       "  <tbody>\n",
       "    <tr>\n",
       "      <th>0</th>\n",
       "      <td>c-8</td>\n",
       "      <td>c-21</td>\n",
       "      <td>c-7</td>\n",
       "      <td>1934</td>\n",
       "      <td>AA</td>\n",
       "      <td>ATL</td>\n",
       "      <td>DFW</td>\n",
       "      <td>732</td>\n",
       "      <td>N</td>\n",
       "    </tr>\n",
       "    <tr>\n",
       "      <th>1</th>\n",
       "      <td>c-4</td>\n",
       "      <td>c-20</td>\n",
       "      <td>c-3</td>\n",
       "      <td>1548</td>\n",
       "      <td>US</td>\n",
       "      <td>PIT</td>\n",
       "      <td>MCO</td>\n",
       "      <td>834</td>\n",
       "      <td>N</td>\n",
       "    </tr>\n",
       "    <tr>\n",
       "      <th>2</th>\n",
       "      <td>c-9</td>\n",
       "      <td>c-2</td>\n",
       "      <td>c-5</td>\n",
       "      <td>1422</td>\n",
       "      <td>XE</td>\n",
       "      <td>RDU</td>\n",
       "      <td>CLE</td>\n",
       "      <td>416</td>\n",
       "      <td>N</td>\n",
       "    </tr>\n",
       "    <tr>\n",
       "      <th>3</th>\n",
       "      <td>c-11</td>\n",
       "      <td>c-25</td>\n",
       "      <td>c-6</td>\n",
       "      <td>1015</td>\n",
       "      <td>OO</td>\n",
       "      <td>DEN</td>\n",
       "      <td>MEM</td>\n",
       "      <td>872</td>\n",
       "      <td>N</td>\n",
       "    </tr>\n",
       "    <tr>\n",
       "      <th>4</th>\n",
       "      <td>c-10</td>\n",
       "      <td>c-7</td>\n",
       "      <td>c-6</td>\n",
       "      <td>1828</td>\n",
       "      <td>WN</td>\n",
       "      <td>MDW</td>\n",
       "      <td>OMA</td>\n",
       "      <td>423</td>\n",
       "      <td>Y</td>\n",
       "    </tr>\n",
       "  </tbody>\n",
       "</table>\n",
       "</div>"
      ],
      "text/plain": [
       "  Month DayofMonth DayOfWeek  DepTime UniqueCarrier Origin Dest  Distance  \\\n",
       "0   c-8       c-21       c-7     1934            AA    ATL  DFW       732   \n",
       "1   c-4       c-20       c-3     1548            US    PIT  MCO       834   \n",
       "2   c-9        c-2       c-5     1422            XE    RDU  CLE       416   \n",
       "3  c-11       c-25       c-6     1015            OO    DEN  MEM       872   \n",
       "4  c-10        c-7       c-6     1828            WN    MDW  OMA       423   \n",
       "\n",
       "  dep_delayed_15min  \n",
       "0                 N  \n",
       "1                 N  \n",
       "2                 N  \n",
       "3                 N  \n",
       "4                 Y  "
      ]
     },
     "execution_count": 173,
     "metadata": {},
     "output_type": "execute_result"
    }
   ],
   "source": [
    "PATH_TO_DATA = Path('../input/flight-delays-fall-2018/')\n",
    "\n",
    "train_df = pd.read_csv(PATH_TO_DATA / 'flight_delays_train.csv')\n",
    "test_df = pd.read_csv(PATH_TO_DATA / 'flight_delays_test.csv')\n",
    "test_df.index = range(100000, 200000)\n",
    "\n",
    "air = pd.read_csv(PATH_TO_DATA / 'airports.csv')\n",
    "air = air.set_index('IATA_CODE')\n",
    "\n",
    "train_df.head()"
   ]
  },
  {
   "cell_type": "code",
   "execution_count": 174,
   "metadata": {
    "ExecuteTime": {
     "end_time": "2019-10-04T05:08:49.184954Z",
     "start_time": "2019-10-04T05:08:49.179967Z"
    }
   },
   "outputs": [],
   "source": [
    "air_city = air['CITY'].to_dict()\n",
    "air_state = air['STATE'].to_dict()\n",
    "air_country = air['COUNTRY'].to_dict()\n",
    "air_lat = air['LATITUDE'].to_dict()\n",
    "air_long = air['LONGITUDE'].to_dict()"
   ]
  },
  {
   "cell_type": "markdown",
   "metadata": {},
   "source": [
    "# Preproc"
   ]
  },
  {
   "cell_type": "code",
   "execution_count": 175,
   "metadata": {
    "ExecuteTime": {
     "end_time": "2019-10-04T05:08:50.414774Z",
     "start_time": "2019-10-04T05:08:50.054627Z"
    }
   },
   "outputs": [],
   "source": [
    "for df in [train_df, test_df]:\n",
    "    for col in ['Origin', 'Dest']:\n",
    "        df[col+'CITY'] = df[col].map(air_city).fillna('other')\n",
    "        df[col+'STATE'] = df[col].map(air_state).fillna('other')\n",
    "    df['flight'] = df['Origin'] + '-->' + df['Dest']\n",
    "    df['flight_city'] = df['OriginCITY'] + '-->' + df['DestCITY']\n",
    "    df['flight_state'] = df['OriginSTATE'] + '-->' + df['DestSTATE']\n",
    "\n",
    "unique_carrier = list(set(train_df['UniqueCarrier']) & set(test_df['UniqueCarrier']))\n",
    "or_dest = list(set(train_df['Origin']) & set(test_df['Origin']) & set(train_df['Dest']) & set(test_df['Dest']))\n",
    "flight_set = list(set(train_df['flight']) & set(test_df['flight']))\n",
    "flight_city = list(set(train_df['flight_city']) & set(test_df['flight_city']))\n",
    "flight_state = list(set(train_df['flight_state']) & set(test_df['flight_state']))"
   ]
  },
  {
   "cell_type": "code",
   "execution_count": 176,
   "metadata": {
    "ExecuteTime": {
     "end_time": "2019-10-04T05:08:51.281345Z",
     "start_time": "2019-10-04T05:08:51.264390Z"
    }
   },
   "outputs": [
    {
     "data": {
      "text/html": [
       "<div>\n",
       "<style scoped>\n",
       "    .dataframe tbody tr th:only-of-type {\n",
       "        vertical-align: middle;\n",
       "    }\n",
       "\n",
       "    .dataframe tbody tr th {\n",
       "        vertical-align: top;\n",
       "    }\n",
       "\n",
       "    .dataframe thead th {\n",
       "        text-align: right;\n",
       "    }\n",
       "</style>\n",
       "<table border=\"1\" class=\"dataframe\">\n",
       "  <thead>\n",
       "    <tr style=\"text-align: right;\">\n",
       "      <th></th>\n",
       "      <th>Month</th>\n",
       "      <th>DayofMonth</th>\n",
       "      <th>DayOfWeek</th>\n",
       "      <th>DepTime</th>\n",
       "      <th>UniqueCarrier</th>\n",
       "      <th>Origin</th>\n",
       "      <th>Dest</th>\n",
       "      <th>Distance</th>\n",
       "      <th>dep_delayed_15min</th>\n",
       "      <th>OriginCITY</th>\n",
       "      <th>OriginSTATE</th>\n",
       "      <th>DestCITY</th>\n",
       "      <th>DestSTATE</th>\n",
       "      <th>flight</th>\n",
       "      <th>flight_city</th>\n",
       "      <th>flight_state</th>\n",
       "    </tr>\n",
       "  </thead>\n",
       "  <tbody>\n",
       "    <tr>\n",
       "      <th>0</th>\n",
       "      <td>c-8</td>\n",
       "      <td>c-21</td>\n",
       "      <td>c-7</td>\n",
       "      <td>1934</td>\n",
       "      <td>AA</td>\n",
       "      <td>ATL</td>\n",
       "      <td>DFW</td>\n",
       "      <td>732</td>\n",
       "      <td>N</td>\n",
       "      <td>Atlanta</td>\n",
       "      <td>GA</td>\n",
       "      <td>Dallas-Fort Worth</td>\n",
       "      <td>TX</td>\n",
       "      <td>ATL--&gt;DFW</td>\n",
       "      <td>Atlanta--&gt;Dallas-Fort Worth</td>\n",
       "      <td>GA--&gt;TX</td>\n",
       "    </tr>\n",
       "    <tr>\n",
       "      <th>1</th>\n",
       "      <td>c-4</td>\n",
       "      <td>c-20</td>\n",
       "      <td>c-3</td>\n",
       "      <td>1548</td>\n",
       "      <td>US</td>\n",
       "      <td>PIT</td>\n",
       "      <td>MCO</td>\n",
       "      <td>834</td>\n",
       "      <td>N</td>\n",
       "      <td>Pittsburgh</td>\n",
       "      <td>PA</td>\n",
       "      <td>Orlando</td>\n",
       "      <td>FL</td>\n",
       "      <td>PIT--&gt;MCO</td>\n",
       "      <td>Pittsburgh--&gt;Orlando</td>\n",
       "      <td>PA--&gt;FL</td>\n",
       "    </tr>\n",
       "    <tr>\n",
       "      <th>2</th>\n",
       "      <td>c-9</td>\n",
       "      <td>c-2</td>\n",
       "      <td>c-5</td>\n",
       "      <td>1422</td>\n",
       "      <td>XE</td>\n",
       "      <td>RDU</td>\n",
       "      <td>CLE</td>\n",
       "      <td>416</td>\n",
       "      <td>N</td>\n",
       "      <td>Raleigh</td>\n",
       "      <td>NC</td>\n",
       "      <td>Cleveland</td>\n",
       "      <td>OH</td>\n",
       "      <td>RDU--&gt;CLE</td>\n",
       "      <td>Raleigh--&gt;Cleveland</td>\n",
       "      <td>NC--&gt;OH</td>\n",
       "    </tr>\n",
       "    <tr>\n",
       "      <th>3</th>\n",
       "      <td>c-11</td>\n",
       "      <td>c-25</td>\n",
       "      <td>c-6</td>\n",
       "      <td>1015</td>\n",
       "      <td>OO</td>\n",
       "      <td>DEN</td>\n",
       "      <td>MEM</td>\n",
       "      <td>872</td>\n",
       "      <td>N</td>\n",
       "      <td>Denver</td>\n",
       "      <td>CO</td>\n",
       "      <td>Memphis</td>\n",
       "      <td>TN</td>\n",
       "      <td>DEN--&gt;MEM</td>\n",
       "      <td>Denver--&gt;Memphis</td>\n",
       "      <td>CO--&gt;TN</td>\n",
       "    </tr>\n",
       "    <tr>\n",
       "      <th>4</th>\n",
       "      <td>c-10</td>\n",
       "      <td>c-7</td>\n",
       "      <td>c-6</td>\n",
       "      <td>1828</td>\n",
       "      <td>WN</td>\n",
       "      <td>MDW</td>\n",
       "      <td>OMA</td>\n",
       "      <td>423</td>\n",
       "      <td>Y</td>\n",
       "      <td>Chicago</td>\n",
       "      <td>IL</td>\n",
       "      <td>Omaha</td>\n",
       "      <td>NE</td>\n",
       "      <td>MDW--&gt;OMA</td>\n",
       "      <td>Chicago--&gt;Omaha</td>\n",
       "      <td>IL--&gt;NE</td>\n",
       "    </tr>\n",
       "  </tbody>\n",
       "</table>\n",
       "</div>"
      ],
      "text/plain": [
       "  Month DayofMonth DayOfWeek  DepTime UniqueCarrier Origin Dest  Distance  \\\n",
       "0   c-8       c-21       c-7     1934            AA    ATL  DFW       732   \n",
       "1   c-4       c-20       c-3     1548            US    PIT  MCO       834   \n",
       "2   c-9        c-2       c-5     1422            XE    RDU  CLE       416   \n",
       "3  c-11       c-25       c-6     1015            OO    DEN  MEM       872   \n",
       "4  c-10        c-7       c-6     1828            WN    MDW  OMA       423   \n",
       "\n",
       "  dep_delayed_15min  OriginCITY OriginSTATE           DestCITY DestSTATE  \\\n",
       "0                 N     Atlanta          GA  Dallas-Fort Worth        TX   \n",
       "1                 N  Pittsburgh          PA            Orlando        FL   \n",
       "2                 N     Raleigh          NC          Cleveland        OH   \n",
       "3                 N      Denver          CO            Memphis        TN   \n",
       "4                 Y     Chicago          IL              Omaha        NE   \n",
       "\n",
       "      flight                  flight_city flight_state  \n",
       "0  ATL-->DFW  Atlanta-->Dallas-Fort Worth      GA-->TX  \n",
       "1  PIT-->MCO         Pittsburgh-->Orlando      PA-->FL  \n",
       "2  RDU-->CLE          Raleigh-->Cleveland      NC-->OH  \n",
       "3  DEN-->MEM             Denver-->Memphis      CO-->TN  \n",
       "4  MDW-->OMA              Chicago-->Omaha      IL-->NE  "
      ]
     },
     "execution_count": 176,
     "metadata": {},
     "output_type": "execute_result"
    }
   ],
   "source": [
    "train_df.head()"
   ]
  },
  {
   "cell_type": "code",
   "execution_count": 182,
   "metadata": {
    "ExecuteTime": {
     "end_time": "2019-10-04T05:12:21.394687Z",
     "start_time": "2019-10-04T05:12:21.356789Z"
    }
   },
   "outputs": [],
   "source": [
    "minutes_in_day = 24 * 60\n",
    "\n",
    "def upd_time(val):\n",
    "    hour = val // 100\n",
    "    minutes = val % 100\n",
    "    if hour >= 24:\n",
    "        hour = hour - 24\n",
    "    return hour * 60 + minutes\n",
    "\n",
    "def preproc(df, test=False):\n",
    "    df['Month'] = df['Month'].apply(lambda x: int(x[2:]))\n",
    "    df['DayofMonth'] = df['DayofMonth'].apply(lambda x: int(x[2:]))\n",
    "    df['DayOfWeek'] = df['DayOfWeek'].apply(lambda x: int(x[2:]))\n",
    "    df['Holiday'] = (df['DayOfWeek'] > 5).astype('int')\n",
    "    \n",
    "    df['DepTime'] = df['DepTime'].apply(upd_time)\n",
    "    df['sin_time'] = np.sin(2 * np.pi * df['DepTime'] / minutes_in_day)\n",
    "    df['cos_time'] = np.cos(2 * np.pi * df['DepTime'] / minutes_in_day)\n",
    "    df['hour'] = df['DepTime'] // 60\n",
    "    df['minutes'] = df['DepTime'] % 60\n",
    "    \n",
    "    df['morning'] = ((df['hour'] >= 6) & (df['hour'] < 12)).astype('int')\n",
    "    df['day'] = ((df['hour'] >= 12) & (df['hour'] < 18)).astype('int')\n",
    "    df['evening'] = ((df['hour'] >= 18) & (df['hour'] < 24)).astype('int')\n",
    "    df['night'] = ((df['hour'] >= 0) & (df['hour'] < 6)).astype('int')\n",
    "    df['dtimeLabel'] = df['morning'] + df['day'] * 2 + df['evening'] * 3 + df['night'] * 4\n",
    "    \n",
    "    df['low_delay'] = ((df['hour'] >= 4) & (df['hour'] < 9)).astype('int')\n",
    "    df['other_time'] = ((df['hour'] < 9) & (df['hour'] >=5)).astype('int')\n",
    "    df['delay_time'] = ((df['hour'] >= 13) & (df['hour'] < 24) | (df['hour'] < 5)).astype('int')\n",
    "    df['middle_time'] = ((df['hour'] >= 9) & (df['hour'] < 13)).astype('int')\n",
    "    \n",
    "    df['hour_bins'] = pd.cut(df['hour'], [-1, 5, 8, 10, 12, 50], right=False)\n",
    "\n",
    "    df['winter'] = ((df['Month'].isin([12, 1, 2]))).astype('int')\n",
    "    df['spring'] = ((df['Month'].isin([3, 4, 5]))).astype('int')\n",
    "    df['summer'] = ((df['Month'].isin([6, 7, 8]))).astype('int')\n",
    "    df['autumn'] = ((df['Month'].isin([9, 10, 11]))).astype('int')\n",
    "    df['4seasonsLabel'] = df['winter'] + df['spring'] * 2 + df['summer'] * 3 + df['autumn'] * 4\n",
    "\n",
    "    df['Distance_log'] = df['Distance'].apply(np.log)\n",
    "    \n",
    "    for col in ['Origin', 'Dest']:\n",
    "        df[col+'CITY'] = df[col].map(air_city).fillna('other')\n",
    "        df[col+'STATE'] = df[col].map(air_state).fillna('other')\n",
    "        df[col+'COUNTRY'] = df[col].map(air_country).fillna('other')\n",
    "\n",
    "        df[col+'LATITUDE'] = df[col].map(air_lat)\n",
    "        df[col+'LONGITUDE'] = df[col].map(air_long)\n",
    "\n",
    "        df[col+'x_coord'] = np.cos(df[col+'LATITUDE']) * np.cos(df[col+'LONGITUDE'])\n",
    "        df[col+'y_coord'] = np.cos(df[col+'LATITUDE']) * np.sin(df[col+'LONGITUDE'])\n",
    "        df[col+'z_coord'] = np.sin(df[col+'LATITUDE'])\n",
    "        \n",
    "    df['x_coord'] = df['Originx_coord'] - df['Destx_coord']\n",
    "    df['y_coord'] = df['Originy_coord'] - df['Desty_coord']\n",
    "    df['z_coord'] = df['Originz_coord'] - df['Destz_coord']\n",
    "    df['LATITUDE'] = df['OriginLATITUDE'] - df['DestLATITUDE']\n",
    "    df['LONGITUDE'] = df['OriginLONGITUDE'] - df['DestLONGITUDE']\n",
    "    \n",
    "    df['flight'] = df['Origin'] + '-->' + df['Dest']\n",
    "    df['flight_city'] = df['OriginCITY'] + '-->' + df['DestCITY']\n",
    "    df['flight_state'] = df['OriginSTATE'] + '-->' + df['DestSTATE']\n",
    "    \n",
    "    df.loc[~df['Origin'].isin(or_dest), 'Origin'] = 'other'\n",
    "    df.loc[~df['Dest'].isin(or_dest), 'Dest'] = 'other'\n",
    "    df.loc[~df['UniqueCarrier'].isin(unique_carrier), 'UniqueCarrier'] = 'other'\n",
    "    df.loc[~df['flight'].isin(flight_set), 'flight'] = 'other'\n",
    "    df.loc[~df['flight_city'].isin(flight_city), 'flight_city'] = 'other'\n",
    "    df.loc[~df['flight_state'].isin(flight_state), 'flight_state'] = 'other'\n",
    "    \n",
    "    if not test:\n",
    "        le_carrier.fit(df['UniqueCarrier'])\n",
    "        le_or_dest.fit(pd.concat([df['Origin'], df['Dest']]))\n",
    "        le_flight.fit(df['flight'])\n",
    "        le_flight_city.fit(df['flight_city'])\n",
    "        le_flight_state.fit(df['flight_state'])\n",
    "        le_hour.fit(df['hour_bins'])\n",
    "    \n",
    "    df['UniqueCarrierLabel'] = le_carrier.transform(df['UniqueCarrier'])\n",
    "    df['OriginLabel'] = le_or_dest.transform(df['Origin'])\n",
    "    df['DestLabel'] = le_or_dest.transform(df['Dest'])\n",
    "    df['flightLabel'] = le_flight.transform(df['flight'])\n",
    "    df['flight_cityLabel'] = le_flight_city.transform(df['flight_city'])\n",
    "    df['flight_stateLabel'] = le_flight_state.transform(df['flight_state'])\n",
    "    df['hour_binsLabel'] = le_hour.transform(df['hour_bins'])\n",
    "\n",
    "    for col in df.columns:\n",
    "        if df[col].isna().sum() > 0:\n",
    "            if df[col].dtype != 'object':\n",
    "                df[col] = df[col].fillna(df[col].median())\n",
    "            else:\n",
    "                common_val = df[col].value_counts().index[0]\n",
    "                df[col] = df[col].fillna(common_val)\n",
    "    \n",
    "    return df\n",
    "\n",
    "le_carrier = LabelEncoder()\n",
    "le_or_dest = LabelEncoder()\n",
    "le_target = LabelEncoder()\n",
    "le_flight = LabelEncoder()\n",
    "le_flight_city = LabelEncoder()\n",
    "le_flight_state = LabelEncoder()\n",
    "le_hour = LabelEncoder()"
   ]
  },
  {
   "cell_type": "code",
   "execution_count": 183,
   "metadata": {
    "ExecuteTime": {
     "end_time": "2019-10-04T05:12:25.266252Z",
     "start_time": "2019-10-04T05:12:23.555561Z"
    }
   },
   "outputs": [],
   "source": [
    "train_df['dep_delayed_15min'] = le_target.fit_transform(train_df['dep_delayed_15min'])\n",
    "categ_cols = ['UniqueCarrier', 'Origin', 'Dest', 'flight']\n",
    "\n",
    "train_df_fe, test_df_fe = freq_encode(train_df, test_df, columns=categ_cols)\n",
    "\n",
    "train_df_mekf, test_df_mekf = mean_encode(train_df, test_df, columns=categ_cols, target_col='dep_delayed_15min', \n",
    "                                                        reg_method='k_fold', alpha=5, folds=5)\n",
    "\n",
    "train_df_meem, test_df_meem = mean_encode(train_df, test_df, columns=categ_cols, target_col='dep_delayed_15min', \n",
    "                                                        reg_method='expanding_mean', alpha=5)\n",
    "\n",
    "train_df_meem.columns = [col + 'expanding_mean' for col in categ_cols]\n",
    "test_df_meem.columns = [col + 'expanding_mean' for col in categ_cols]"
   ]
  },
  {
   "cell_type": "code",
   "execution_count": 184,
   "metadata": {
    "ExecuteTime": {
     "end_time": "2019-10-04T05:12:31.272964Z",
     "start_time": "2019-10-04T05:12:28.522585Z"
    }
   },
   "outputs": [
    {
     "data": {
      "text/html": [
       "<div>\n",
       "<style scoped>\n",
       "    .dataframe tbody tr th:only-of-type {\n",
       "        vertical-align: middle;\n",
       "    }\n",
       "\n",
       "    .dataframe tbody tr th {\n",
       "        vertical-align: top;\n",
       "    }\n",
       "\n",
       "    .dataframe thead th {\n",
       "        text-align: right;\n",
       "    }\n",
       "</style>\n",
       "<table border=\"1\" class=\"dataframe\">\n",
       "  <thead>\n",
       "    <tr style=\"text-align: right;\">\n",
       "      <th></th>\n",
       "      <th>Month</th>\n",
       "      <th>DayofMonth</th>\n",
       "      <th>DayOfWeek</th>\n",
       "      <th>DepTime</th>\n",
       "      <th>UniqueCarrier</th>\n",
       "      <th>Origin</th>\n",
       "      <th>Dest</th>\n",
       "      <th>Distance</th>\n",
       "      <th>OriginCITY</th>\n",
       "      <th>OriginSTATE</th>\n",
       "      <th>...</th>\n",
       "      <th>freq_Dest</th>\n",
       "      <th>freq_flight</th>\n",
       "      <th>mean_dep_delayed_15min_UniqueCarrier</th>\n",
       "      <th>mean_dep_delayed_15min_Origin</th>\n",
       "      <th>mean_dep_delayed_15min_Dest</th>\n",
       "      <th>mean_dep_delayed_15min_flight</th>\n",
       "      <th>UniqueCarrierexpanding_mean</th>\n",
       "      <th>Originexpanding_mean</th>\n",
       "      <th>Destexpanding_mean</th>\n",
       "      <th>flightexpanding_mean</th>\n",
       "    </tr>\n",
       "  </thead>\n",
       "  <tbody>\n",
       "    <tr>\n",
       "      <th>0</th>\n",
       "      <td>8</td>\n",
       "      <td>21</td>\n",
       "      <td>7</td>\n",
       "      <td>1174</td>\n",
       "      <td>AA</td>\n",
       "      <td>ATL</td>\n",
       "      <td>DFW</td>\n",
       "      <td>732</td>\n",
       "      <td>Atlanta</td>\n",
       "      <td>GA</td>\n",
       "      <td>...</td>\n",
       "      <td>0.04337</td>\n",
       "      <td>0.00136</td>\n",
       "      <td>0.185031</td>\n",
       "      <td>0.255794</td>\n",
       "      <td>0.153744</td>\n",
       "      <td>0.254111</td>\n",
       "      <td>0.184438</td>\n",
       "      <td>0.255592</td>\n",
       "      <td>0.153869</td>\n",
       "      <td>0.236364</td>\n",
       "    </tr>\n",
       "    <tr>\n",
       "      <th>1</th>\n",
       "      <td>4</td>\n",
       "      <td>20</td>\n",
       "      <td>3</td>\n",
       "      <td>948</td>\n",
       "      <td>US</td>\n",
       "      <td>PIT</td>\n",
       "      <td>MCO</td>\n",
       "      <td>834</td>\n",
       "      <td>Pittsburgh</td>\n",
       "      <td>PA</td>\n",
       "      <td>...</td>\n",
       "      <td>0.01728</td>\n",
       "      <td>0.00054</td>\n",
       "      <td>0.171243</td>\n",
       "      <td>0.168373</td>\n",
       "      <td>0.188049</td>\n",
       "      <td>0.162290</td>\n",
       "      <td>0.174815</td>\n",
       "      <td>0.125000</td>\n",
       "      <td>0.193103</td>\n",
       "      <td>0.000000</td>\n",
       "    </tr>\n",
       "    <tr>\n",
       "      <th>2</th>\n",
       "      <td>9</td>\n",
       "      <td>2</td>\n",
       "      <td>5</td>\n",
       "      <td>862</td>\n",
       "      <td>XE</td>\n",
       "      <td>RDU</td>\n",
       "      <td>CLE</td>\n",
       "      <td>416</td>\n",
       "      <td>Raleigh</td>\n",
       "      <td>NC</td>\n",
       "      <td>...</td>\n",
       "      <td>0.01218</td>\n",
       "      <td>0.00022</td>\n",
       "      <td>0.172890</td>\n",
       "      <td>0.191850</td>\n",
       "      <td>0.183729</td>\n",
       "      <td>0.113546</td>\n",
       "      <td>0.170219</td>\n",
       "      <td>0.176938</td>\n",
       "      <td>0.180328</td>\n",
       "      <td>0.200000</td>\n",
       "    </tr>\n",
       "    <tr>\n",
       "      <th>3</th>\n",
       "      <td>11</td>\n",
       "      <td>25</td>\n",
       "      <td>6</td>\n",
       "      <td>615</td>\n",
       "      <td>OO</td>\n",
       "      <td>DEN</td>\n",
       "      <td>MEM</td>\n",
       "      <td>872</td>\n",
       "      <td>Denver</td>\n",
       "      <td>CO</td>\n",
       "      <td>...</td>\n",
       "      <td>0.00629</td>\n",
       "      <td>0.00014</td>\n",
       "      <td>0.170996</td>\n",
       "      <td>0.195163</td>\n",
       "      <td>0.147418</td>\n",
       "      <td>0.122012</td>\n",
       "      <td>0.171821</td>\n",
       "      <td>0.186235</td>\n",
       "      <td>0.162791</td>\n",
       "      <td>0.333333</td>\n",
       "    </tr>\n",
       "    <tr>\n",
       "      <th>4</th>\n",
       "      <td>10</td>\n",
       "      <td>7</td>\n",
       "      <td>6</td>\n",
       "      <td>1108</td>\n",
       "      <td>WN</td>\n",
       "      <td>MDW</td>\n",
       "      <td>OMA</td>\n",
       "      <td>423</td>\n",
       "      <td>Chicago</td>\n",
       "      <td>IL</td>\n",
       "      <td>...</td>\n",
       "      <td>0.00311</td>\n",
       "      <td>0.00030</td>\n",
       "      <td>0.214693</td>\n",
       "      <td>0.249266</td>\n",
       "      <td>0.241468</td>\n",
       "      <td>0.412145</td>\n",
       "      <td>0.207071</td>\n",
       "      <td>0.206897</td>\n",
       "      <td>0.333333</td>\n",
       "      <td>1.000000</td>\n",
       "    </tr>\n",
       "  </tbody>\n",
       "</table>\n",
       "<p>5 rows × 72 columns</p>\n",
       "</div>"
      ],
      "text/plain": [
       "   Month  DayofMonth  DayOfWeek  DepTime UniqueCarrier Origin Dest  Distance  \\\n",
       "0      8          21          7     1174            AA    ATL  DFW       732   \n",
       "1      4          20          3      948            US    PIT  MCO       834   \n",
       "2      9           2          5      862            XE    RDU  CLE       416   \n",
       "3     11          25          6      615            OO    DEN  MEM       872   \n",
       "4     10           7          6     1108            WN    MDW  OMA       423   \n",
       "\n",
       "   OriginCITY OriginSTATE  ... freq_Dest freq_flight  \\\n",
       "0     Atlanta          GA  ...   0.04337     0.00136   \n",
       "1  Pittsburgh          PA  ...   0.01728     0.00054   \n",
       "2     Raleigh          NC  ...   0.01218     0.00022   \n",
       "3      Denver          CO  ...   0.00629     0.00014   \n",
       "4     Chicago          IL  ...   0.00311     0.00030   \n",
       "\n",
       "  mean_dep_delayed_15min_UniqueCarrier mean_dep_delayed_15min_Origin  \\\n",
       "0                             0.185031                      0.255794   \n",
       "1                             0.171243                      0.168373   \n",
       "2                             0.172890                      0.191850   \n",
       "3                             0.170996                      0.195163   \n",
       "4                             0.214693                      0.249266   \n",
       "\n",
       "  mean_dep_delayed_15min_Dest  mean_dep_delayed_15min_flight  \\\n",
       "0                    0.153744                       0.254111   \n",
       "1                    0.188049                       0.162290   \n",
       "2                    0.183729                       0.113546   \n",
       "3                    0.147418                       0.122012   \n",
       "4                    0.241468                       0.412145   \n",
       "\n",
       "   UniqueCarrierexpanding_mean  Originexpanding_mean  Destexpanding_mean  \\\n",
       "0                     0.184438              0.255592            0.153869   \n",
       "1                     0.174815              0.125000            0.193103   \n",
       "2                     0.170219              0.176938            0.180328   \n",
       "3                     0.171821              0.186235            0.162791   \n",
       "4                     0.207071              0.206897            0.333333   \n",
       "\n",
       "   flightexpanding_mean  \n",
       "0              0.236364  \n",
       "1              0.000000  \n",
       "2              0.200000  \n",
       "3              0.333333  \n",
       "4              1.000000  \n",
       "\n",
       "[5 rows x 72 columns]"
      ]
     },
     "execution_count": 184,
     "metadata": {},
     "output_type": "execute_result"
    }
   ],
   "source": [
    "y_train = train_df['dep_delayed_15min']\n",
    "\n",
    "X_train_full = preproc(train_df.copy())\n",
    "X_test_full = preproc(test_df.copy(), test=True)\n",
    "\n",
    "del X_train_full['dep_delayed_15min']\n",
    "\n",
    "X_train_full = pd.concat([X_train_full, train_df_fe, train_df_mekf, train_df_meem], axis=1)\n",
    "X_test_full = pd.concat([X_test_full, test_df_fe, test_df_mekf, test_df_meem], axis=1)\n",
    "\n",
    "X_train_full.head()"
   ]
  },
  {
   "cell_type": "markdown",
   "metadata": {},
   "source": [
    "# CV"
   ]
  },
  {
   "cell_type": "code",
   "execution_count": 187,
   "metadata": {
    "ExecuteTime": {
     "end_time": "2019-10-04T05:20:54.331417Z",
     "start_time": "2019-10-04T05:20:54.136938Z"
    }
   },
   "outputs": [],
   "source": [
    "X_tr, X_valid, y_tr, y_valid = train_test_split(X_train_full, y_train, test_size=0.25, random_state=174)"
   ]
  },
  {
   "cell_type": "code",
   "execution_count": 191,
   "metadata": {
    "ExecuteTime": {
     "end_time": "2019-10-04T05:26:13.612808Z",
     "start_time": "2019-10-04T05:26:13.608817Z"
    }
   },
   "outputs": [],
   "source": [
    "skf = StratifiedKFold(n_splits=4, shuffle=True, random_state=11138)"
   ]
  },
  {
   "cell_type": "code",
   "execution_count": 192,
   "metadata": {
    "ExecuteTime": {
     "end_time": "2019-10-04T05:30:04.704965Z",
     "start_time": "2019-10-04T05:26:33.271934Z"
    }
   },
   "outputs": [
    {
     "name": "stdout",
     "output_type": "stream",
     "text": [
      "0.74169+-0.00689\n"
     ]
    }
   ],
   "source": [
    "cols_to_use = ['Month', 'DayofMonth', 'DayOfWeek', 'DepTime', 'UniqueCarrier', 'Origin', 'Dest', 'Distance']\n",
    "X_train = X_tr[cols_to_use]\n",
    "\n",
    "cat_cols = ['UniqueCarrier', 'Origin', 'Dest']\n",
    "categ_feat_idx = [i for i, col in enumerate(cols_to_use) if col in cat_cols]\n",
    "cat_features = {'cat_features': categ_feat_idx}\n",
    "\n",
    "clf = CatBoostClassifier(random_state=177, silent=True)\n",
    "cv_score = cross_val_score(clf, X_train, y_tr, cv=skf, scoring='roc_auc', fit_params=cat_features)\n",
    "print(f'{cv_score.mean():.5f}+-{cv_score.std():.5f}')"
   ]
  },
  {
   "cell_type": "code",
   "execution_count": 193,
   "metadata": {
    "ExecuteTime": {
     "end_time": "2019-10-04T05:33:52.237297Z",
     "start_time": "2019-10-04T05:30:05.679357Z"
    }
   },
   "outputs": [
    {
     "name": "stdout",
     "output_type": "stream",
     "text": [
      "0.74150+-0.00715\n"
     ]
    }
   ],
   "source": [
    "cols_to_use = ['Month', 'DayofMonth', 'DayOfWeek', 'DepTime', 'UniqueCarrier', 'Origin', 'Dest', 'Distance']\n",
    "X_train = X_tr[cols_to_use]\n",
    "\n",
    "cat_cols = ['Month', 'UniqueCarrier', 'Origin', 'Dest']\n",
    "categ_feat_idx = [i for i, col in enumerate(cols_to_use) if col in cat_cols]\n",
    "cat_features = {'cat_features': categ_feat_idx}\n",
    "\n",
    "clf = CatBoostClassifier(random_state=177, silent=True)\n",
    "cv_score = cross_val_score(clf, X_train, y_tr, cv=skf, scoring='roc_auc', fit_params=cat_features)\n",
    "print(f'{cv_score.mean():.5f}+-{cv_score.std():.5f}')"
   ]
  },
  {
   "cell_type": "code",
   "execution_count": 194,
   "metadata": {
    "ExecuteTime": {
     "end_time": "2019-10-04T05:38:04.655601Z",
     "start_time": "2019-10-04T05:33:53.360291Z"
    }
   },
   "outputs": [
    {
     "name": "stdout",
     "output_type": "stream",
     "text": [
      "0.74615+-0.00699\n"
     ]
    }
   ],
   "source": [
    "cols_to_use = ['Month', 'DayofMonth', 'DayOfWeek', 'DepTime', 'UniqueCarrier', 'Origin', 'Dest', 'Distance']\n",
    "X_train = X_tr[cols_to_use]\n",
    "\n",
    "cat_cols = ['Month', 'DayofMonth', 'UniqueCarrier', 'Origin', 'Dest']\n",
    "categ_feat_idx = [i for i, col in enumerate(cols_to_use) if col in cat_cols]\n",
    "cat_features = {'cat_features': categ_feat_idx}\n",
    "\n",
    "clf = CatBoostClassifier(random_state=177, silent=True)\n",
    "cv_score = cross_val_score(clf, X_train, y_tr, cv=skf, scoring='roc_auc', fit_params=cat_features)\n",
    "print(f'{cv_score.mean():.5f}+-{cv_score.std():.5f}')"
   ]
  },
  {
   "cell_type": "code",
   "execution_count": 196,
   "metadata": {
    "ExecuteTime": {
     "end_time": "2019-10-04T05:42:37.161568Z",
     "start_time": "2019-10-04T05:38:06.827450Z"
    }
   },
   "outputs": [
    {
     "name": "stdout",
     "output_type": "stream",
     "text": [
      "0.75272+-0.00655\n"
     ]
    }
   ],
   "source": [
    "cols_to_use = ['Month', 'DayofMonth', 'DayOfWeek', 'DepTime', 'UniqueCarrier', 'Origin', 'Dest', 'Distance']\n",
    "X_train = X_tr[cols_to_use]\n",
    "\n",
    "cat_cols = ['Month', 'DayofMonth', 'DayOfWeek', 'UniqueCarrier', 'Origin', 'Dest']\n",
    "categ_feat_idx = [i for i, col in enumerate(cols_to_use) if col in cat_cols]\n",
    "cat_features = {'cat_features': categ_feat_idx}\n",
    "\n",
    "clf = CatBoostClassifier(random_state=177, silent=True)\n",
    "cv_score = cross_val_score(clf, X_train, y_tr, cv=skf, scoring='roc_auc', fit_params=cat_features)\n",
    "print(f'{cv_score.mean():.5f}+-{cv_score.std():.5f}')"
   ]
  },
  {
   "cell_type": "code",
   "execution_count": 197,
   "metadata": {
    "ExecuteTime": {
     "end_time": "2019-10-04T05:46:58.420972Z",
     "start_time": "2019-10-04T05:42:38.174370Z"
    }
   },
   "outputs": [
    {
     "name": "stdout",
     "output_type": "stream",
     "text": [
      "0.75272+-0.00655\n"
     ]
    }
   ],
   "source": [
    "cols_to_use = ['Month', 'DayofMonth', 'DayOfWeek', 'DepTime', 'UniqueCarrier', 'Origin', 'Dest', 'Distance_log']\n",
    "X_train = X_tr[cols_to_use]\n",
    "\n",
    "cat_cols = ['Month', 'DayofMonth', 'DayOfWeek', 'UniqueCarrier', 'Origin', 'Dest']\n",
    "categ_feat_idx = [i for i, col in enumerate(cols_to_use) if col in cat_cols]\n",
    "cat_features = {'cat_features': categ_feat_idx}\n",
    "\n",
    "clf = CatBoostClassifier(random_state=177, silent=True)\n",
    "cv_score = cross_val_score(clf, X_train, y_tr, cv=skf, scoring='roc_auc', fit_params=cat_features)\n",
    "print(f'{cv_score.mean():.5f}+-{cv_score.std():.5f}')"
   ]
  },
  {
   "cell_type": "code",
   "execution_count": 198,
   "metadata": {
    "ExecuteTime": {
     "end_time": "2019-10-04T05:51:27.003174Z",
     "start_time": "2019-10-04T05:46:59.462186Z"
    }
   },
   "outputs": [
    {
     "name": "stdout",
     "output_type": "stream",
     "text": [
      "0.75308+-0.00738\n"
     ]
    }
   ],
   "source": [
    "cols_to_use = ['Month', 'DayofMonth', 'DayOfWeek', 'DepTime', 'UniqueCarrier', 'Origin', 'Dest', 'Distance_log',\n",
    "              '4seasonsLabel']\n",
    "X_train = X_tr[cols_to_use]\n",
    "\n",
    "cat_cols = ['4seasonsLabel', 'DayofMonth', 'DayOfWeek', 'UniqueCarrier', 'Origin', 'Dest']\n",
    "categ_feat_idx = [i for i, col in enumerate(cols_to_use) if col in cat_cols]\n",
    "cat_features = {'cat_features': categ_feat_idx}\n",
    "\n",
    "clf = CatBoostClassifier(random_state=177, silent=True)\n",
    "cv_score = cross_val_score(clf, X_train, y_tr, cv=skf, scoring='roc_auc', fit_params=cat_features)\n",
    "print(f'{cv_score.mean():.5f}+-{cv_score.std():.5f}')"
   ]
  },
  {
   "cell_type": "code",
   "execution_count": 204,
   "metadata": {
    "ExecuteTime": {
     "end_time": "2019-10-04T06:42:11.321934Z",
     "start_time": "2019-10-04T06:37:31.063994Z"
    }
   },
   "outputs": [
    {
     "name": "stdout",
     "output_type": "stream",
     "text": [
      "0.75252+-0.00679\n"
     ]
    }
   ],
   "source": [
    "cols_to_use = ['DayofMonth', 'DayOfWeek', 'DepTime', 'UniqueCarrier', 'Origin', 'Dest', 'Distance_log',\n",
    "              '4seasonsLabel']\n",
    "X_train = X_tr[cols_to_use]\n",
    "\n",
    "cat_cols = ['4seasonsLabel', 'DayofMonth', 'DayOfWeek', 'UniqueCarrier', 'Origin', 'Dest']\n",
    "categ_feat_idx = [i for i, col in enumerate(cols_to_use) if col in cat_cols]\n",
    "cat_features = {'cat_features': categ_feat_idx}\n",
    "\n",
    "clf = CatBoostClassifier(random_state=177, silent=True)\n",
    "cv_score = cross_val_score(clf, X_train, y_tr, cv=skf, scoring='roc_auc', fit_params=cat_features)\n",
    "print(f'{cv_score.mean():.5f}+-{cv_score.std():.5f}')"
   ]
  },
  {
   "cell_type": "code",
   "execution_count": 205,
   "metadata": {
    "ExecuteTime": {
     "end_time": "2019-10-04T06:47:13.043283Z",
     "start_time": "2019-10-04T06:42:12.557273Z"
    }
   },
   "outputs": [
    {
     "name": "stdout",
     "output_type": "stream",
     "text": [
      "0.75217+-0.00719\n"
     ]
    }
   ],
   "source": [
    "cols_to_use = ['Month', 'DayofMonth', 'DayOfWeek', 'DepTime', 'UniqueCarrier', 'Origin', 'Dest', 'Distance_log',\n",
    "              '4seasonsLabel', 'dtimeLabel']\n",
    "X_train = X_tr[cols_to_use]\n",
    "\n",
    "cat_cols = ['4seasonsLabel', 'DayofMonth', 'DayOfWeek', 'UniqueCarrier', 'Origin', 'Dest', \n",
    "            'dtimeLabel', 'hour_binsLabel']\n",
    "categ_feat_idx = [i for i, col in enumerate(cols_to_use) if col in cat_cols]\n",
    "cat_features = {'cat_features': categ_feat_idx}\n",
    "\n",
    "clf = CatBoostClassifier(random_state=177, silent=True)\n",
    "cv_score = cross_val_score(clf, X_train, y_tr, cv=skf, scoring='roc_auc', fit_params=cat_features)\n",
    "print(f'{cv_score.mean():.5f}+-{cv_score.std():.5f}')"
   ]
  },
  {
   "cell_type": "code",
   "execution_count": 207,
   "metadata": {
    "ExecuteTime": {
     "end_time": "2019-10-04T06:57:04.368344Z",
     "start_time": "2019-10-04T06:52:10.373509Z"
    }
   },
   "outputs": [
    {
     "name": "stdout",
     "output_type": "stream",
     "text": [
      "0.75340+-0.00677\n"
     ]
    }
   ],
   "source": [
    "cols_to_use = ['Month', 'DayofMonth', 'DayOfWeek', 'DepTime', 'UniqueCarrier', 'Origin', 'Dest', 'Distance_log',\n",
    "              '4seasonsLabel', 'hour']\n",
    "X_train = X_tr[cols_to_use]\n",
    "\n",
    "cat_cols = ['4seasonsLabel', 'DayofMonth', 'DayOfWeek', 'UniqueCarrier', 'Origin', 'Dest', \n",
    "            'dtimeLabel', 'hour_binsLabel']\n",
    "categ_feat_idx = [i for i, col in enumerate(cols_to_use) if col in cat_cols]\n",
    "cat_features = {'cat_features': categ_feat_idx}\n",
    "\n",
    "clf = CatBoostClassifier(random_state=177, silent=True)\n",
    "cv_score = cross_val_score(clf, X_train, y_tr, cv=skf, scoring='roc_auc', fit_params=cat_features)\n",
    "print(f'{cv_score.mean():.5f}+-{cv_score.std():.5f}')"
   ]
  },
  {
   "cell_type": "code",
   "execution_count": 208,
   "metadata": {
    "ExecuteTime": {
     "end_time": "2019-10-04T07:02:07.127309Z",
     "start_time": "2019-10-04T06:57:05.483424Z"
    }
   },
   "outputs": [
    {
     "name": "stdout",
     "output_type": "stream",
     "text": [
      "0.77118+-0.00761\n"
     ]
    }
   ],
   "source": [
    "cols_to_use = ['Month', 'DayofMonth', 'DayOfWeek', 'DepTime', 'UniqueCarrier', 'Origin', 'Dest', 'Distance_log',\n",
    "              '4seasonsLabel', 'hour']\n",
    "X_train = X_tr[cols_to_use]\n",
    "\n",
    "cat_cols = ['4seasonsLabel', 'DayofMonth', 'DayOfWeek', 'UniqueCarrier', 'Origin', 'Dest', \n",
    "            'dtimeLabel', 'hour_binsLabel', 'hour']\n",
    "categ_feat_idx = [i for i, col in enumerate(cols_to_use) if col in cat_cols]\n",
    "cat_features = {'cat_features': categ_feat_idx}\n",
    "\n",
    "clf = CatBoostClassifier(random_state=177, silent=True)\n",
    "cv_score = cross_val_score(clf, X_train, y_tr, cv=skf, scoring='roc_auc', fit_params=cat_features)\n",
    "print(f'{cv_score.mean():.5f}+-{cv_score.std():.5f}')"
   ]
  },
  {
   "cell_type": "code",
   "execution_count": 209,
   "metadata": {
    "ExecuteTime": {
     "end_time": "2019-10-04T07:07:42.126217Z",
     "start_time": "2019-10-04T07:03:04.232231Z"
    }
   },
   "outputs": [
    {
     "name": "stdout",
     "output_type": "stream",
     "text": [
      "0.75340+-0.00677\n"
     ]
    }
   ],
   "source": [
    "cols_to_use = ['Month', 'DayofMonth', 'DayOfWeek', 'DepTime', 'UniqueCarrier', 'Origin', 'Dest', 'Distance_log',\n",
    "              '4seasonsLabel', 'hour']\n",
    "X_train = X_tr[cols_to_use]\n",
    "\n",
    "cat_cols = ['4seasonsLabel', 'DayofMonth', 'DayOfWeek', 'UniqueCarrier', 'Origin', 'Dest', \n",
    "            'dtimeLabel', 'hour_binsLabel']\n",
    "categ_feat_idx = [i for i, col in enumerate(cols_to_use) if col in cat_cols]\n",
    "cat_features = {'cat_features': categ_feat_idx}\n",
    "\n",
    "clf = CatBoostClassifier(random_state=177, silent=True)\n",
    "cv_score = cross_val_score(clf, X_train, y_tr, cv=skf, scoring='roc_auc', fit_params=cat_features)\n",
    "print(f'{cv_score.mean():.5f}+-{cv_score.std():.5f}')"
   ]
  },
  {
   "cell_type": "code",
   "execution_count": 206,
   "metadata": {
    "ExecuteTime": {
     "end_time": "2019-10-04T06:52:09.334777Z",
     "start_time": "2019-10-04T06:47:14.089488Z"
    }
   },
   "outputs": [
    {
     "name": "stdout",
     "output_type": "stream",
     "text": [
      "0.75383+-0.00712\n"
     ]
    }
   ],
   "source": [
    "cols_to_use = ['Month', 'DayofMonth', 'DayOfWeek', 'DepTime', 'UniqueCarrier', 'Origin', 'Dest', 'Distance_log',\n",
    "              '4seasonsLabel', 'hour_binsLabel']\n",
    "X_train = X_tr[cols_to_use]\n",
    "\n",
    "cat_cols = ['4seasonsLabel', 'DayofMonth', 'DayOfWeek', 'UniqueCarrier', 'Origin', 'Dest', \n",
    "            'dtimeLabel', 'hour_binsLabel']\n",
    "categ_feat_idx = [i for i, col in enumerate(cols_to_use) if col in cat_cols]\n",
    "cat_features = {'cat_features': categ_feat_idx}\n",
    "\n",
    "clf = CatBoostClassifier(random_state=177, silent=True)\n",
    "cv_score = cross_val_score(clf, X_train, y_tr, cv=skf, scoring='roc_auc', fit_params=cat_features)\n",
    "print(f'{cv_score.mean():.5f}+-{cv_score.std():.5f}')"
   ]
  },
  {
   "cell_type": "code",
   "execution_count": 199,
   "metadata": {
    "ExecuteTime": {
     "end_time": "2019-10-04T05:56:18.666868Z",
     "start_time": "2019-10-04T05:51:28.104199Z"
    }
   },
   "outputs": [
    {
     "name": "stdout",
     "output_type": "stream",
     "text": [
      "0.75230+-0.00766\n"
     ]
    }
   ],
   "source": [
    "cols_to_use = ['Month', 'DayofMonth', 'DayOfWeek', 'DepTime', 'UniqueCarrier', 'Origin', 'Dest', 'Distance_log',\n",
    "              '4seasonsLabel', 'dtimeLabel', 'hour_binsLabel']\n",
    "X_train = X_tr[cols_to_use]\n",
    "\n",
    "cat_cols = ['4seasonsLabel', 'DayofMonth', 'DayOfWeek', 'UniqueCarrier', 'Origin', 'Dest', \n",
    "            'dtimeLabel', 'hour_binsLabel']\n",
    "categ_feat_idx = [i for i, col in enumerate(cols_to_use) if col in cat_cols]\n",
    "cat_features = {'cat_features': categ_feat_idx}\n",
    "\n",
    "clf = CatBoostClassifier(random_state=177, silent=True)\n",
    "cv_score = cross_val_score(clf, X_train, y_tr, cv=skf, scoring='roc_auc', fit_params=cat_features)\n",
    "print(f'{cv_score.mean():.5f}+-{cv_score.std():.5f}')"
   ]
  },
  {
   "cell_type": "code",
   "execution_count": 201,
   "metadata": {
    "ExecuteTime": {
     "end_time": "2019-10-04T06:09:20.418813Z",
     "start_time": "2019-10-04T06:03:50.022905Z"
    }
   },
   "outputs": [
    {
     "name": "stdout",
     "output_type": "stream",
     "text": [
      "0.75370+-0.00730\n"
     ]
    }
   ],
   "source": [
    "cols_to_use = ['Month', 'DayofMonth', 'DayOfWeek', 'DepTime', 'UniqueCarrier', 'Origin', 'Dest', 'Distance_log',\n",
    "              '4seasonsLabel', 'dtimeLabel', 'hour_binsLabel', 'flight']\n",
    "X_train = X_tr[cols_to_use]\n",
    "\n",
    "cat_cols = ['4seasonsLabel', 'DayofMonth', 'DayOfWeek', 'UniqueCarrier', 'Origin', 'Dest', 'flight', \n",
    "            'dtimeLabel', 'hour_binsLabel']\n",
    "categ_feat_idx = [i for i, col in enumerate(cols_to_use) if col in cat_cols]\n",
    "cat_features = {'cat_features': categ_feat_idx}\n",
    "\n",
    "clf = CatBoostClassifier(random_state=177, silent=True)\n",
    "cv_score = cross_val_score(clf, X_train, y_tr, cv=skf, scoring='roc_auc', fit_params=cat_features)\n",
    "print(f'{cv_score.mean():.5f}+-{cv_score.std():.5f}')"
   ]
  },
  {
   "cell_type": "code",
   "execution_count": 202,
   "metadata": {
    "ExecuteTime": {
     "end_time": "2019-10-04T06:13:54.874837Z",
     "start_time": "2019-10-04T06:09:21.526848Z"
    }
   },
   "outputs": [
    {
     "name": "stdout",
     "output_type": "stream",
     "text": [
      "0.74437+-0.00722\n"
     ]
    }
   ],
   "source": [
    "cols_to_use = ['Month', 'DayofMonth', 'DayOfWeek', 'DepTime', 'UniqueCarrier', 'Dest', 'Distance_log',\n",
    "              '4seasonsLabel', 'dtimeLabel', 'hour_binsLabel']\n",
    "X_train = X_tr[cols_to_use]\n",
    "\n",
    "cat_cols = ['4seasonsLabel', 'DayofMonth', 'DayOfWeek', 'UniqueCarrier', 'Dest', \n",
    "            'dtimeLabel', 'hour_binsLabel']\n",
    "categ_feat_idx = [i for i, col in enumerate(cols_to_use) if col in cat_cols]\n",
    "cat_features = {'cat_features': categ_feat_idx}\n",
    "\n",
    "clf = CatBoostClassifier(random_state=177, silent=True)\n",
    "cv_score = cross_val_score(clf, X_train, y_tr, cv=skf, scoring='roc_auc', fit_params=cat_features)\n",
    "print(f'{cv_score.mean():.5f}+-{cv_score.std():.5f}')"
   ]
  },
  {
   "cell_type": "code",
   "execution_count": 203,
   "metadata": {
    "ExecuteTime": {
     "end_time": "2019-10-04T06:18:27.983655Z",
     "start_time": "2019-10-04T06:13:55.980879Z"
    }
   },
   "outputs": [
    {
     "name": "stdout",
     "output_type": "stream",
     "text": [
      "0.74953+-0.00634\n"
     ]
    }
   ],
   "source": [
    "cols_to_use = ['Month', 'DayofMonth', 'DayOfWeek', 'DepTime', 'UniqueCarrier', 'Origin', 'Distance_log',\n",
    "              '4seasonsLabel', 'dtimeLabel', 'hour_binsLabel']\n",
    "X_train = X_tr[cols_to_use]\n",
    "\n",
    "cat_cols = ['4seasonsLabel', 'DayofMonth', 'DayOfWeek', 'UniqueCarrier', 'Origin', \n",
    "            'dtimeLabel', 'hour_binsLabel']\n",
    "categ_feat_idx = [i for i, col in enumerate(cols_to_use) if col in cat_cols]\n",
    "cat_features = {'cat_features': categ_feat_idx}\n",
    "\n",
    "clf = CatBoostClassifier(random_state=177, silent=True)\n",
    "cv_score = cross_val_score(clf, X_train, y_tr, cv=skf, scoring='roc_auc', fit_params=cat_features)\n",
    "print(f'{cv_score.mean():.5f}+-{cv_score.std():.5f}')"
   ]
  },
  {
   "cell_type": "code",
   "execution_count": 200,
   "metadata": {
    "ExecuteTime": {
     "end_time": "2019-10-04T06:01:16.761134Z",
     "start_time": "2019-10-04T05:56:19.688135Z"
    }
   },
   "outputs": [
    {
     "name": "stdout",
     "output_type": "stream",
     "text": [
      "0.74676+-0.00690\n"
     ]
    }
   ],
   "source": [
    "cols_to_use = ['Month', 'DayofMonth', 'DayOfWeek', 'DepTime', 'UniqueCarrier', 'Distance_log', 'flight',\n",
    "              '4seasonsLabel', 'dtimeLabel', 'hour_binsLabel']\n",
    "X_train = X_tr[cols_to_use]\n",
    "\n",
    "cat_cols = ['4seasonsLabel', 'DayofMonth', 'DayOfWeek', 'UniqueCarrier', 'flight',\n",
    "            'dtimeLabel', 'hour_binsLabel']\n",
    "categ_feat_idx = [i for i, col in enumerate(cols_to_use) if col in cat_cols]\n",
    "cat_features = {'cat_features': categ_feat_idx}\n",
    "\n",
    "clf = CatBoostClassifier(random_state=177, silent=True)\n",
    "cv_score = cross_val_score(clf, X_train, y_tr, cv=skf, scoring='roc_auc', fit_params=cat_features)\n",
    "print(f'{cv_score.mean():.5f}+-{cv_score.std():.5f}')"
   ]
  },
  {
   "cell_type": "code",
   "execution_count": 210,
   "metadata": {
    "ExecuteTime": {
     "end_time": "2019-10-04T07:09:23.199049Z",
     "start_time": "2019-10-04T07:09:23.192095Z"
    }
   },
   "outputs": [
    {
     "data": {
      "text/plain": [
       "Index(['Month', 'DayofMonth', 'DayOfWeek', 'DepTime', 'UniqueCarrier',\n",
       "       'Origin', 'Dest', 'Distance', 'OriginCITY', 'OriginSTATE', 'DestCITY',\n",
       "       'DestSTATE', 'flight', 'flight_city', 'flight_state', 'Holiday',\n",
       "       'sin_time', 'cos_time', 'hour', 'minutes', 'morning', 'day', 'evening',\n",
       "       'night', 'dtimeLabel', 'low_delay', 'other_time', 'delay_time',\n",
       "       'middle_time', 'hour_bins', 'winter', 'spring', 'summer', 'autumn',\n",
       "       '4seasonsLabel', 'Distance_log', 'OriginCOUNTRY', 'OriginLATITUDE',\n",
       "       'OriginLONGITUDE', 'Originx_coord', 'Originy_coord', 'Originz_coord',\n",
       "       'DestCOUNTRY', 'DestLATITUDE', 'DestLONGITUDE', 'Destx_coord',\n",
       "       'Desty_coord', 'Destz_coord', 'x_coord', 'y_coord', 'z_coord',\n",
       "       'LATITUDE', 'LONGITUDE', 'UniqueCarrierLabel', 'OriginLabel',\n",
       "       'DestLabel', 'flightLabel', 'flight_cityLabel', 'flight_stateLabel',\n",
       "       'hour_binsLabel', 'freq_UniqueCarrier', 'freq_Origin', 'freq_Dest',\n",
       "       'freq_flight', 'mean_dep_delayed_15min_UniqueCarrier',\n",
       "       'mean_dep_delayed_15min_Origin', 'mean_dep_delayed_15min_Dest',\n",
       "       'mean_dep_delayed_15min_flight', 'UniqueCarrierexpanding_mean',\n",
       "       'Originexpanding_mean', 'Destexpanding_mean', 'flightexpanding_mean'],\n",
       "      dtype='object')"
      ]
     },
     "execution_count": 210,
     "metadata": {},
     "output_type": "execute_result"
    }
   ],
   "source": [
    "X_tr.columns"
   ]
  },
  {
   "cell_type": "code",
   "execution_count": 211,
   "metadata": {
    "ExecuteTime": {
     "end_time": "2019-10-04T07:14:15.452136Z",
     "start_time": "2019-10-04T07:09:55.022225Z"
    }
   },
   "outputs": [
    {
     "name": "stdout",
     "output_type": "stream",
     "text": [
      "0.77827+-0.00528\n"
     ]
    }
   ],
   "source": [
    "cols_to_use = ['Month', 'DayofMonth', 'DayOfWeek', 'DepTime', 'UniqueCarrier', 'Origin', 'Dest', 'Distance_log',\n",
    "              '4seasonsLabel', 'hour', 'hour_binsLabel']\n",
    "X_train = X_tr[cols_to_use]\n",
    "\n",
    "cat_cols = ['4seasonsLabel', 'DayofMonth', 'DayOfWeek', 'UniqueCarrier', 'Origin', 'Dest', \n",
    "            'dtimeLabel', 'hour_binsLabel', 'hour']\n",
    "categ_feat_idx = [i for i, col in enumerate(cols_to_use) if col in cat_cols]\n",
    "cat_features = {'cat_features': categ_feat_idx}\n",
    "\n",
    "clf = CatBoostClassifier(random_state=177, silent=True, task_type='GPU')\n",
    "cv_score = cross_val_score(clf, X_train, y_tr, cv=skf, scoring='roc_auc', fit_params=cat_features)\n",
    "print(f'{cv_score.mean():.5f}+-{cv_score.std():.5f}')"
   ]
  },
  {
   "cell_type": "code",
   "execution_count": 212,
   "metadata": {
    "ExecuteTime": {
     "end_time": "2019-10-04T07:20:07.656975Z",
     "start_time": "2019-10-04T07:16:01.974385Z"
    }
   },
   "outputs": [
    {
     "name": "stdout",
     "output_type": "stream",
     "text": [
      "0.77388+-0.00506\n"
     ]
    }
   ],
   "source": [
    "cols_to_use = ['Month', 'DayofMonth', 'DayOfWeek', 'UniqueCarrier', 'Origin', 'Dest', 'Distance_log',\n",
    "              '4seasonsLabel', 'hour', 'hour_binsLabel']\n",
    "X_train = X_tr[cols_to_use]\n",
    "\n",
    "cat_cols = ['4seasonsLabel', 'DayofMonth', 'DayOfWeek', 'UniqueCarrier', 'Origin', 'Dest', \n",
    "            'dtimeLabel', 'hour_binsLabel', 'hour']\n",
    "categ_feat_idx = [i for i, col in enumerate(cols_to_use) if col in cat_cols]\n",
    "cat_features = {'cat_features': categ_feat_idx}\n",
    "\n",
    "clf = CatBoostClassifier(random_state=177, silent=True, task_type='GPU')\n",
    "cv_score = cross_val_score(clf, X_train, y_tr, cv=skf, scoring='roc_auc', fit_params=cat_features)\n",
    "print(f'{cv_score.mean():.5f}+-{cv_score.std():.5f}')"
   ]
  },
  {
   "cell_type": "code",
   "execution_count": 214,
   "metadata": {
    "ExecuteTime": {
     "end_time": "2019-10-04T07:28:53.645945Z",
     "start_time": "2019-10-04T07:24:46.223042Z"
    }
   },
   "outputs": [
    {
     "name": "stdout",
     "output_type": "stream",
     "text": [
      "0.77388+-0.00512\n"
     ]
    }
   ],
   "source": [
    "cols_to_use = ['Month', 'DayofMonth', 'DayOfWeek', 'UniqueCarrier', 'OriginLabel', 'DestLabel', 'Distance_log',\n",
    "              '4seasonsLabel', 'hour', 'hour_binsLabel']\n",
    "X_train = X_tr[cols_to_use]\n",
    "\n",
    "cat_cols = ['4seasonsLabel', 'DayofMonth', 'DayOfWeek', 'UniqueCarrier', 'OriginLabel', 'DestLabel', \n",
    "            'dtimeLabel', 'hour_binsLabel', 'hour']\n",
    "categ_feat_idx = [i for i, col in enumerate(cols_to_use) if col in cat_cols]\n",
    "cat_features = {'cat_features': categ_feat_idx}\n",
    "\n",
    "clf = CatBoostClassifier(random_state=177, silent=True, task_type='GPU')\n",
    "cv_score = cross_val_score(clf, X_train, y_tr, cv=skf, scoring='roc_auc', fit_params=cat_features)\n",
    "print(f'{cv_score.mean():.5f}+-{cv_score.std():.5f}')"
   ]
  },
  {
   "cell_type": "markdown",
   "metadata": {},
   "source": [
    "Check valid"
   ]
  },
  {
   "cell_type": "code",
   "execution_count": 216,
   "metadata": {
    "ExecuteTime": {
     "end_time": "2019-10-04T08:52:45.675635Z",
     "start_time": "2019-10-04T08:51:22.735617Z"
    },
    "collapsed": true
   },
   "outputs": [
    {
     "ename": "CatBoostError",
     "evalue": "Bad value for num_feature[0,12]=\"ORD-->LAX\": Cannot convert 'b'ORD-->LAX'' to float",
     "output_type": "error",
     "traceback": [
      "\u001b[1;31m---------------------------------------------------------------------------\u001b[0m",
      "\u001b[1;31mTypeError\u001b[0m                                 Traceback (most recent call last)",
      "\u001b[1;32m_catboost.pyx\u001b[0m in \u001b[0;36m_catboost.get_float_feature\u001b[1;34m()\u001b[0m\n",
      "\u001b[1;32m_catboost.pyx\u001b[0m in \u001b[0;36m_catboost._FloatOrNan\u001b[1;34m()\u001b[0m\n",
      "\u001b[1;32m_catboost.pyx\u001b[0m in \u001b[0;36m_catboost._FloatOrNanFromString\u001b[1;34m()\u001b[0m\n",
      "\u001b[1;31mTypeError\u001b[0m: Cannot convert 'b'ORD-->LAX'' to float",
      "\nDuring handling of the above exception, another exception occurred:\n",
      "\u001b[1;31mCatBoostError\u001b[0m                             Traceback (most recent call last)",
      "\u001b[1;32m<ipython-input-216-935114a826a2>\u001b[0m in \u001b[0;36m<module>\u001b[1;34m\u001b[0m\n\u001b[0;32m     10\u001b[0m \u001b[0mclf\u001b[0m \u001b[1;33m=\u001b[0m \u001b[0mCatBoostClassifier\u001b[0m\u001b[1;33m(\u001b[0m\u001b[0mrandom_state\u001b[0m\u001b[1;33m=\u001b[0m\u001b[1;36m177\u001b[0m\u001b[1;33m,\u001b[0m \u001b[0msilent\u001b[0m\u001b[1;33m=\u001b[0m\u001b[1;32mTrue\u001b[0m\u001b[1;33m,\u001b[0m \u001b[0mtask_type\u001b[0m\u001b[1;33m=\u001b[0m\u001b[1;34m'GPU'\u001b[0m\u001b[1;33m)\u001b[0m\u001b[1;33m\u001b[0m\u001b[1;33m\u001b[0m\u001b[0m\n\u001b[0;32m     11\u001b[0m \u001b[0mclf\u001b[0m\u001b[1;33m.\u001b[0m\u001b[0mfit\u001b[0m\u001b[1;33m(\u001b[0m\u001b[0mX_train\u001b[0m\u001b[1;33m,\u001b[0m \u001b[0my_tr\u001b[0m\u001b[1;33m,\u001b[0m \u001b[0mcat_features\u001b[0m\u001b[1;33m=\u001b[0m\u001b[0mcateg_feat_idx\u001b[0m\u001b[1;33m)\u001b[0m\u001b[1;33m\u001b[0m\u001b[1;33m\u001b[0m\u001b[0m\n\u001b[1;32m---> 12\u001b[1;33m \u001b[0my_valid_pred\u001b[0m \u001b[1;33m=\u001b[0m \u001b[0mclf\u001b[0m\u001b[1;33m.\u001b[0m\u001b[0mpredict_proba\u001b[0m\u001b[1;33m(\u001b[0m\u001b[0mX_valid\u001b[0m\u001b[1;33m)\u001b[0m\u001b[1;33m[\u001b[0m\u001b[1;33m:\u001b[0m\u001b[1;33m,\u001b[0m \u001b[1;36m1\u001b[0m\u001b[1;33m]\u001b[0m\u001b[1;33m\u001b[0m\u001b[1;33m\u001b[0m\u001b[0m\n\u001b[0m\u001b[0;32m     13\u001b[0m \u001b[0mscore\u001b[0m \u001b[1;33m=\u001b[0m \u001b[0mroc_auc_score\u001b[0m\u001b[1;33m(\u001b[0m\u001b[0my_valid\u001b[0m\u001b[1;33m,\u001b[0m \u001b[0my_valid_pred\u001b[0m\u001b[1;33m)\u001b[0m\u001b[1;33m\u001b[0m\u001b[1;33m\u001b[0m\u001b[0m\n\u001b[0;32m     14\u001b[0m \u001b[0mprint\u001b[0m\u001b[1;33m(\u001b[0m\u001b[0mscore\u001b[0m\u001b[1;33m)\u001b[0m\u001b[1;33m\u001b[0m\u001b[1;33m\u001b[0m\u001b[0m\n",
      "\u001b[1;32m~\\AppData\\Local\\Continuum\\anaconda3\\lib\\site-packages\\catboost\\core.py\u001b[0m in \u001b[0;36mpredict_proba\u001b[1;34m(self, data, ntree_start, ntree_end, thread_count, verbose)\u001b[0m\n\u001b[0;32m   2539\u001b[0m                 \u001b[1;32mwith\u001b[0m \u001b[0mprobability\u001b[0m \u001b[1;32mfor\u001b[0m \u001b[0mevery\u001b[0m \u001b[1;32mclass\u001b[0m \u001b[1;32mfor\u001b[0m \u001b[0meach\u001b[0m \u001b[0mobject\u001b[0m\u001b[1;33m.\u001b[0m\u001b[1;33m\u001b[0m\u001b[1;33m\u001b[0m\u001b[0m\n\u001b[0;32m   2540\u001b[0m         \"\"\"\n\u001b[1;32m-> 2541\u001b[1;33m         \u001b[1;32mreturn\u001b[0m \u001b[0mself\u001b[0m\u001b[1;33m.\u001b[0m\u001b[0m_predict\u001b[0m\u001b[1;33m(\u001b[0m\u001b[0mdata\u001b[0m\u001b[1;33m,\u001b[0m \u001b[1;34m'Probability'\u001b[0m\u001b[1;33m,\u001b[0m \u001b[0mntree_start\u001b[0m\u001b[1;33m,\u001b[0m \u001b[0mntree_end\u001b[0m\u001b[1;33m,\u001b[0m \u001b[0mthread_count\u001b[0m\u001b[1;33m,\u001b[0m \u001b[0mverbose\u001b[0m\u001b[1;33m,\u001b[0m \u001b[1;34m'predict_proba'\u001b[0m\u001b[1;33m)\u001b[0m\u001b[1;33m\u001b[0m\u001b[1;33m\u001b[0m\u001b[0m\n\u001b[0m\u001b[0;32m   2542\u001b[0m \u001b[1;33m\u001b[0m\u001b[0m\n\u001b[0;32m   2543\u001b[0m     \u001b[1;32mdef\u001b[0m \u001b[0mstaged_predict\u001b[0m\u001b[1;33m(\u001b[0m\u001b[0mself\u001b[0m\u001b[1;33m,\u001b[0m \u001b[0mdata\u001b[0m\u001b[1;33m,\u001b[0m \u001b[0mprediction_type\u001b[0m\u001b[1;33m=\u001b[0m\u001b[1;34m'Class'\u001b[0m\u001b[1;33m,\u001b[0m \u001b[0mntree_start\u001b[0m\u001b[1;33m=\u001b[0m\u001b[1;36m0\u001b[0m\u001b[1;33m,\u001b[0m \u001b[0mntree_end\u001b[0m\u001b[1;33m=\u001b[0m\u001b[1;36m0\u001b[0m\u001b[1;33m,\u001b[0m \u001b[0meval_period\u001b[0m\u001b[1;33m=\u001b[0m\u001b[1;36m1\u001b[0m\u001b[1;33m,\u001b[0m \u001b[0mthread_count\u001b[0m\u001b[1;33m=\u001b[0m\u001b[1;33m-\u001b[0m\u001b[1;36m1\u001b[0m\u001b[1;33m,\u001b[0m \u001b[0mverbose\u001b[0m\u001b[1;33m=\u001b[0m\u001b[1;32mNone\u001b[0m\u001b[1;33m)\u001b[0m\u001b[1;33m:\u001b[0m\u001b[1;33m\u001b[0m\u001b[1;33m\u001b[0m\u001b[0m\n",
      "\u001b[1;32m~\\AppData\\Local\\Continuum\\anaconda3\\lib\\site-packages\\catboost\\core.py\u001b[0m in \u001b[0;36m_predict\u001b[1;34m(self, data, prediction_type, ntree_start, ntree_end, thread_count, verbose, parent_method_name)\u001b[0m\n\u001b[0;32m   1331\u001b[0m             data = Pool(\n\u001b[0;32m   1332\u001b[0m                 \u001b[0mdata\u001b[0m\u001b[1;33m=\u001b[0m\u001b[1;33m[\u001b[0m\u001b[0mdata\u001b[0m\u001b[1;33m]\u001b[0m \u001b[1;32mif\u001b[0m \u001b[0mdata_is_single_object\u001b[0m \u001b[1;32melse\u001b[0m \u001b[0mdata\u001b[0m\u001b[1;33m,\u001b[0m\u001b[1;33m\u001b[0m\u001b[1;33m\u001b[0m\u001b[0m\n\u001b[1;32m-> 1333\u001b[1;33m                 \u001b[0mcat_features\u001b[0m\u001b[1;33m=\u001b[0m\u001b[0mself\u001b[0m\u001b[1;33m.\u001b[0m\u001b[0m_get_cat_feature_indices\u001b[0m\u001b[1;33m(\u001b[0m\u001b[1;33m)\u001b[0m \u001b[1;32mif\u001b[0m \u001b[1;32mnot\u001b[0m \u001b[0misinstance\u001b[0m\u001b[1;33m(\u001b[0m\u001b[0mdata\u001b[0m\u001b[1;33m,\u001b[0m \u001b[0mFeaturesData\u001b[0m\u001b[1;33m)\u001b[0m \u001b[1;32melse\u001b[0m \u001b[1;32mNone\u001b[0m\u001b[1;33m\u001b[0m\u001b[1;33m\u001b[0m\u001b[0m\n\u001b[0m\u001b[0;32m   1334\u001b[0m             )\n\u001b[0;32m   1335\u001b[0m         \u001b[1;32mif\u001b[0m \u001b[1;32mnot\u001b[0m \u001b[0misinstance\u001b[0m\u001b[1;33m(\u001b[0m\u001b[0mprediction_type\u001b[0m\u001b[1;33m,\u001b[0m \u001b[0mSTRING_TYPES\u001b[0m\u001b[1;33m)\u001b[0m\u001b[1;33m:\u001b[0m\u001b[1;33m\u001b[0m\u001b[1;33m\u001b[0m\u001b[0m\n",
      "\u001b[1;32m~\\AppData\\Local\\Continuum\\anaconda3\\lib\\site-packages\\catboost\\core.py\u001b[0m in \u001b[0;36m__init__\u001b[1;34m(self, data, label, cat_features, column_description, pairs, delimiter, has_header, weight, group_id, group_weight, subgroup_id, pairs_weight, baseline, feature_names, thread_count)\u001b[0m\n\u001b[0;32m    318\u001b[0m                         )\n\u001b[0;32m    319\u001b[0m \u001b[1;33m\u001b[0m\u001b[0m\n\u001b[1;32m--> 320\u001b[1;33m                 \u001b[0mself\u001b[0m\u001b[1;33m.\u001b[0m\u001b[0m_init\u001b[0m\u001b[1;33m(\u001b[0m\u001b[0mdata\u001b[0m\u001b[1;33m,\u001b[0m \u001b[0mlabel\u001b[0m\u001b[1;33m,\u001b[0m \u001b[0mcat_features\u001b[0m\u001b[1;33m,\u001b[0m \u001b[0mpairs\u001b[0m\u001b[1;33m,\u001b[0m \u001b[0mweight\u001b[0m\u001b[1;33m,\u001b[0m \u001b[0mgroup_id\u001b[0m\u001b[1;33m,\u001b[0m \u001b[0mgroup_weight\u001b[0m\u001b[1;33m,\u001b[0m \u001b[0msubgroup_id\u001b[0m\u001b[1;33m,\u001b[0m \u001b[0mpairs_weight\u001b[0m\u001b[1;33m,\u001b[0m \u001b[0mbaseline\u001b[0m\u001b[1;33m,\u001b[0m \u001b[0mfeature_names\u001b[0m\u001b[1;33m)\u001b[0m\u001b[1;33m\u001b[0m\u001b[1;33m\u001b[0m\u001b[0m\n\u001b[0m\u001b[0;32m    321\u001b[0m         \u001b[0msuper\u001b[0m\u001b[1;33m(\u001b[0m\u001b[0mPool\u001b[0m\u001b[1;33m,\u001b[0m \u001b[0mself\u001b[0m\u001b[1;33m)\u001b[0m\u001b[1;33m.\u001b[0m\u001b[0m__init__\u001b[0m\u001b[1;33m(\u001b[0m\u001b[1;33m)\u001b[0m\u001b[1;33m\u001b[0m\u001b[1;33m\u001b[0m\u001b[0m\n\u001b[0;32m    322\u001b[0m \u001b[1;33m\u001b[0m\u001b[0m\n",
      "\u001b[1;32m~\\AppData\\Local\\Continuum\\anaconda3\\lib\\site-packages\\catboost\\core.py\u001b[0m in \u001b[0;36m_init\u001b[1;34m(self, data, label, cat_features, pairs, weight, group_id, group_weight, subgroup_id, pairs_weight, baseline, feature_names)\u001b[0m\n\u001b[0;32m    670\u001b[0m             \u001b[0mbaseline\u001b[0m \u001b[1;33m=\u001b[0m \u001b[0mnp\u001b[0m\u001b[1;33m.\u001b[0m\u001b[0mreshape\u001b[0m\u001b[1;33m(\u001b[0m\u001b[0mbaseline\u001b[0m\u001b[1;33m,\u001b[0m \u001b[1;33m(\u001b[0m\u001b[0msamples_count\u001b[0m\u001b[1;33m,\u001b[0m \u001b[1;33m-\u001b[0m\u001b[1;36m1\u001b[0m\u001b[1;33m)\u001b[0m\u001b[1;33m)\u001b[0m\u001b[1;33m\u001b[0m\u001b[1;33m\u001b[0m\u001b[0m\n\u001b[0;32m    671\u001b[0m             \u001b[0mself\u001b[0m\u001b[1;33m.\u001b[0m\u001b[0m_check_baseline_shape\u001b[0m\u001b[1;33m(\u001b[0m\u001b[0mbaseline\u001b[0m\u001b[1;33m,\u001b[0m \u001b[0msamples_count\u001b[0m\u001b[1;33m)\u001b[0m\u001b[1;33m\u001b[0m\u001b[1;33m\u001b[0m\u001b[0m\n\u001b[1;32m--> 672\u001b[1;33m         \u001b[0mself\u001b[0m\u001b[1;33m.\u001b[0m\u001b[0m_init_pool\u001b[0m\u001b[1;33m(\u001b[0m\u001b[0mdata\u001b[0m\u001b[1;33m,\u001b[0m \u001b[0mlabel\u001b[0m\u001b[1;33m,\u001b[0m \u001b[0mcat_features\u001b[0m\u001b[1;33m,\u001b[0m \u001b[0mpairs\u001b[0m\u001b[1;33m,\u001b[0m \u001b[0mweight\u001b[0m\u001b[1;33m,\u001b[0m \u001b[0mgroup_id\u001b[0m\u001b[1;33m,\u001b[0m \u001b[0mgroup_weight\u001b[0m\u001b[1;33m,\u001b[0m \u001b[0msubgroup_id\u001b[0m\u001b[1;33m,\u001b[0m \u001b[0mpairs_weight\u001b[0m\u001b[1;33m,\u001b[0m \u001b[0mbaseline\u001b[0m\u001b[1;33m,\u001b[0m \u001b[0mfeature_names\u001b[0m\u001b[1;33m)\u001b[0m\u001b[1;33m\u001b[0m\u001b[1;33m\u001b[0m\u001b[0m\n\u001b[0m\u001b[0;32m    673\u001b[0m \u001b[1;33m\u001b[0m\u001b[0m\n\u001b[0;32m    674\u001b[0m \u001b[1;33m\u001b[0m\u001b[0m\n",
      "\u001b[1;32m_catboost.pyx\u001b[0m in \u001b[0;36m_catboost._PoolBase._init_pool\u001b[1;34m()\u001b[0m\n",
      "\u001b[1;32m_catboost.pyx\u001b[0m in \u001b[0;36m_catboost._PoolBase._init_pool\u001b[1;34m()\u001b[0m\n",
      "\u001b[1;32m_catboost.pyx\u001b[0m in \u001b[0;36m_catboost._PoolBase._init_features_order_layout_pool\u001b[1;34m()\u001b[0m\n",
      "\u001b[1;32m_catboost.pyx\u001b[0m in \u001b[0;36m_catboost._set_features_order_data_pd_data_frame\u001b[1;34m()\u001b[0m\n",
      "\u001b[1;32m_catboost.pyx\u001b[0m in \u001b[0;36m_catboost.create_num_factor_data\u001b[1;34m()\u001b[0m\n",
      "\u001b[1;32m_catboost.pyx\u001b[0m in \u001b[0;36m_catboost.get_float_feature\u001b[1;34m()\u001b[0m\n",
      "\u001b[1;31mCatBoostError\u001b[0m: Bad value for num_feature[0,12]=\"ORD-->LAX\": Cannot convert 'b'ORD-->LAX'' to float"
     ]
    }
   ],
   "source": [
    "cols_to_use = ['Month', 'DayofMonth', 'DayOfWeek', 'DepTime', 'UniqueCarrier', 'Origin', 'Dest', 'Distance_log',\n",
    "              '4seasonsLabel', 'hour', 'minutes', 'hour_binsLabel']\n",
    "X_train = X_tr[cols_to_use]\n",
    "\n",
    "cat_cols = ['DayofMonth', 'DayOfWeek', 'UniqueCarrier', 'Origin', 'Dest', \n",
    "            'dtimeLabel', 'hour_binsLabel', 'hour', 'minutes', '4seasonsLabel']\n",
    "categ_feat_idx = [i for i, col in enumerate(cols_to_use) if col in cat_cols]\n",
    "cat_features = {'cat_features': categ_feat_idx}\n",
    "\n",
    "clf = CatBoostClassifier(random_state=177, silent=True, task_type='GPU')\n",
    "clf.fit(X_train, y_tr, cat_features=categ_feat_idx)\n",
    "y_valid_pred = clf.predict_proba(X_valid[cols_to_use])[:, 1]\n",
    "score = roc_auc_score(y_valid, y_valid_pred)\n",
    "print(score)"
   ]
  },
  {
   "cell_type": "markdown",
   "metadata": {},
   "source": [
    "# Train"
   ]
  },
  {
   "cell_type": "code",
   "execution_count": 218,
   "metadata": {
    "ExecuteTime": {
     "end_time": "2019-10-04T08:56:31.823778Z",
     "start_time": "2019-10-04T08:54:47.023563Z"
    }
   },
   "outputs": [
    {
     "data": {
      "text/plain": [
       "<catboost.core.CatBoostClassifier at 0x176663cc358>"
      ]
     },
     "execution_count": 218,
     "metadata": {},
     "output_type": "execute_result"
    }
   ],
   "source": [
    "clf = CatBoostClassifier(random_state=177, silent=True, task_type='GPU')\n",
    "clf.fit(X_train_full[cols_to_use], y_train, cat_features=categ_feat_idx)"
   ]
  },
  {
   "cell_type": "code",
   "execution_count": 221,
   "metadata": {
    "ExecuteTime": {
     "end_time": "2019-10-04T08:57:08.088525Z",
     "start_time": "2019-10-04T08:57:06.194774Z"
    }
   },
   "outputs": [],
   "source": [
    "ctb_test_pred = clf.predict_proba(X_test_full[cols_to_use])[:, 1]\n",
    "\n",
    "with warnings.catch_warnings():\n",
    "    warnings.simplefilter(\"ignore\")\n",
    "    \n",
    "    sample_sub = pd.read_csv(PATH_TO_DATA / 'sample_submission.csv', \n",
    "                             index_col='id')\n",
    "    sample_sub['dep_delayed_15min'] = ctb_test_pred\n",
    "    sample_sub.to_csv(PATH_TO_DATA / 'catboost_more_cats.csv')"
   ]
  },
  {
   "cell_type": "code",
   "execution_count": null,
   "metadata": {},
   "outputs": [],
   "source": []
  }
 ],
 "metadata": {
  "kernelspec": {
   "display_name": "Python 3",
   "language": "python",
   "name": "python3"
  },
  "language_info": {
   "codemirror_mode": {
    "name": "ipython",
    "version": 3
   },
   "file_extension": ".py",
   "mimetype": "text/x-python",
   "name": "python",
   "nbconvert_exporter": "python",
   "pygments_lexer": "ipython3",
   "version": "3.7.3"
  },
  "varInspector": {
   "cols": {
    "lenName": 16,
    "lenType": 16,
    "lenVar": 40
   },
   "kernels_config": {
    "python": {
     "delete_cmd_postfix": "",
     "delete_cmd_prefix": "del ",
     "library": "var_list.py",
     "varRefreshCmd": "print(var_dic_list())"
    },
    "r": {
     "delete_cmd_postfix": ") ",
     "delete_cmd_prefix": "rm(",
     "library": "var_list.r",
     "varRefreshCmd": "cat(var_dic_list()) "
    }
   },
   "types_to_exclude": [
    "module",
    "function",
    "builtin_function_or_method",
    "instance",
    "_Feature"
   ],
   "window_display": false
  }
 },
 "nbformat": 4,
 "nbformat_minor": 2
}
