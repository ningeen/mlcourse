{
 "cells": [
  {
   "cell_type": "code",
   "execution_count": 1,
   "metadata": {},
   "outputs": [],
   "source": [
    "# Import libraries and set desired options\n",
    "\n",
    "from __future__ import division, print_function\n",
    "# Disable Anaconda warnings\n",
    "import warnings\n",
    "warnings.filterwarnings('ignore')\n",
    "%matplotlib inline\n",
    "from matplotlib import pyplot as plt\n",
    "import seaborn as sns\n",
    "\n",
    "import os\n",
    "import pickle\n",
    "import numpy as np\n",
    "import pandas as pd\n",
    "from scipy.sparse import csr_matrix\n",
    "from scipy.sparse import hstack\n",
    "from sklearn.preprocessing import StandardScaler, LabelEncoder, MinMaxScaler\n",
    "from sklearn.metrics import roc_auc_score\n",
    "from sklearn.linear_model import LogisticRegression, LogisticRegressionCV\n",
    "\n",
    "from sklearn.model_selection import TimeSeriesSplit, cross_val_score, GridSearchCV, RandomizedSearchCV, KFold\n",
    "from sklearn.feature_extraction.text import TfidfVectorizer, CountVectorizer\n",
    "from sklearn.base import BaseEstimator, TransformerMixin\n",
    "from sklearn.pipeline import Pipeline, FeatureUnion\n",
    "\n",
    "from sklearn.decomposition import FastICA, TruncatedSVD\n",
    "\n",
    "from sklearn.metrics.pairwise import cosine_similarity, cosine_distances, euclidean_distances, manhattan_distances"
   ]
  },
  {
   "cell_type": "code",
   "execution_count": 2,
   "metadata": {},
   "outputs": [],
   "source": [
    "# A helper function for writing predictions to a file\n",
    "def write_to_submission_file(predicted_labels, out_file,\n",
    "                             target='target', index_label=\"session_id\"):\n",
    "    predicted_df = pd.DataFrame(predicted_labels,\n",
    "                                index = np.arange(1, predicted_labels.shape[0] + 1),\n",
    "                                columns=[target])\n",
    "    predicted_df.to_csv(out_file, index_label=index_label)"
   ]
  },
  {
   "cell_type": "code",
   "execution_count": 3,
   "metadata": {},
   "outputs": [],
   "source": [
    "def analyze_results(cv_res):\n",
    "    import re \n",
    "    \n",
    "    results = pd.DataFrame(cv_res['params'])\n",
    "    results['mean_score'] = cv_res['mean_test_score']\n",
    "    results['std_score'] = cv_res['std_test_score']\n",
    "    results['rank'] = cv_res['rank_test_score']\n",
    "#     results = results.sort_values('rank')\n",
    "    \n",
    "    n_splits = len(cv_res['split0_test_score'])\n",
    "    cv_results = np.r_[[clf.cv_results_[k] for k in clf.cv_results_.keys() if re.match(r'split\\d+_test', k)]]\n",
    "    cv_results = pd.DataFrame(cv_results)\n",
    "    melted = cv_results.melt()\n",
    "    melted['split_num'] = list(range(cv_results.shape[0])) * cv_results.shape[1]\n",
    "    \n",
    "    fig, axes = plt.subplots(2, 2, figsize=(14, 10), gridspec_kw={'width_ratios':[2, 1]})\n",
    "    \n",
    "    sns.barplot(x='split_num', y='value', hue='variable', data=melted, ax=axes[0, 0]);\n",
    "    axes[0, 0].set_ylim(melted['value'].min()-.01, 1);\n",
    "    \n",
    "    sns.violinplot(x='variable', y='value', hue='variable', data=cv_results.melt(), ax=axes[0, 1], dodge=False);\n",
    "    sns.boxplot(x='variable', y='value', data=melted, ax=axes[1, 0]);\n",
    "    sns.barplot(x=results.index, y='std_score', data=results, ax=axes[1, 1]);\n",
    "    \n",
    "    sns.despine()\n",
    "    return results, cv_results"
   ]
  },
  {
   "cell_type": "markdown",
   "metadata": {},
   "source": [
    "## Load data"
   ]
  },
  {
   "cell_type": "code",
   "execution_count": 4,
   "metadata": {
    "scrolled": true
   },
   "outputs": [
    {
     "name": "stdout",
     "output_type": "stream",
     "text": [
      "Websites total: 48371\n"
     ]
    }
   ],
   "source": [
    "# Load websites dictionary\n",
    "with open(r\"data/site_dic.pkl\", \"rb\") as input_file:\n",
    "    site_dict = pickle.load(input_file)\n",
    "\n",
    "# Create dataframe for the dictionary\n",
    "sites_dict = pd.DataFrame(list(site_dict.keys()), index=list(site_dict.values()), columns=['site'])\n",
    "\n",
    "print(u'Websites total:', sites_dict.shape[0])"
   ]
  },
  {
   "cell_type": "code",
   "execution_count": 5,
   "metadata": {},
   "outputs": [
    {
     "data": {
      "text/html": [
       "<div>\n",
       "<style scoped>\n",
       "    .dataframe tbody tr th:only-of-type {\n",
       "        vertical-align: middle;\n",
       "    }\n",
       "\n",
       "    .dataframe tbody tr th {\n",
       "        vertical-align: top;\n",
       "    }\n",
       "\n",
       "    .dataframe thead th {\n",
       "        text-align: right;\n",
       "    }\n",
       "</style>\n",
       "<table border=\"1\" class=\"dataframe\">\n",
       "  <thead>\n",
       "    <tr style=\"text-align: right;\">\n",
       "      <th></th>\n",
       "      <th>data</th>\n",
       "      <th>user</th>\n",
       "    </tr>\n",
       "  </thead>\n",
       "  <tbody>\n",
       "    <tr>\n",
       "      <th>0</th>\n",
       "      <td>270 270 270 21 21 7832 21 7832 30 7832 29 7832...</td>\n",
       "      <td>Alice_log</td>\n",
       "    </tr>\n",
       "    <tr>\n",
       "      <th>1</th>\n",
       "      <td>63 66 53 52 49 52 21 196 52 197 52 55 56 55 58...</td>\n",
       "      <td>user2227</td>\n",
       "    </tr>\n",
       "    <tr>\n",
       "      <th>2</th>\n",
       "      <td>1 63 167 23 21 23 22 812 22 676 39 21 21 679 2...</td>\n",
       "      <td>user1666</td>\n",
       "    </tr>\n",
       "  </tbody>\n",
       "</table>\n",
       "</div>"
      ],
      "text/plain": [
       "                                                data       user\n",
       "0  270 270 270 21 21 7832 21 7832 30 7832 29 7832...  Alice_log\n",
       "1  63 66 53 52 49 52 21 196 52 197 52 55 56 55 58...   user2227\n",
       "2  1 63 167 23 21 23 22 812 22 676 39 21 21 679 2...   user1666"
      ]
     },
     "execution_count": 5,
     "metadata": {},
     "output_type": "execute_result"
    }
   ],
   "source": [
    "df_users = pd.read_csv('data/data_users.csv', index_col=0)\n",
    "df_users.head(3)"
   ]
  },
  {
   "cell_type": "code",
   "execution_count": 61,
   "metadata": {},
   "outputs": [],
   "source": [
    "df_alice = pd.read_csv('data/Alice_log.csv')\n",
    "df_alice['site'] = df_alice['site'].map(sites_dict.reset_index().set_index('site').iloc[:, 0])\n",
    "\n",
    "top_sites = dict()\n",
    "for i in [5, 10, 25, 50, 100, 250, 500, 1000]:\n",
    "    top_sites['top'+str(i)] = df_alice['site'].value_counts()[:i].index"
   ]
  },
  {
   "cell_type": "code",
   "execution_count": 7,
   "metadata": {},
   "outputs": [],
   "source": [
    "# Read the training and test data sets\n",
    "train_df = pd.read_csv('data/train_sessions.csv',\n",
    "                       index_col='session_id')\n",
    "# train_df = pd.read_csv('data/data_full.csv', index_col=0)\n",
    "# train_df = train_df.drop(['for_folds', 'user'], axis=1)\n",
    "\n",
    "test_df = pd.read_csv('data/test_sessions.csv',\n",
    "                      index_col='session_id')"
   ]
  },
  {
   "cell_type": "code",
   "execution_count": 8,
   "metadata": {},
   "outputs": [],
   "source": [
    "# Switch time1, ..., time10 columns to datetime type\n",
    "times = ['time%s' % i for i in range(1, 11)]\n",
    "train_df[times] = train_df[times].apply(pd.to_datetime)\n",
    "test_df[times] = test_df[times].apply(pd.to_datetime)\n",
    "\n",
    "# Sort the data by time\n",
    "train_df = train_df.sort_values(by='time1')\n",
    "\n",
    "# Change site1, ..., site10 columns type to integer and fill NA-values with zeros\n",
    "sites = ['site%s' % i for i in range(1, 11)]\n",
    "train_df[sites] = train_df[sites].fillna(0).astype('int')\n",
    "test_df[sites] = test_df[sites].fillna(0).astype('int')"
   ]
  },
  {
   "cell_type": "code",
   "execution_count": 9,
   "metadata": {},
   "outputs": [],
   "source": [
    "# Our target variable\n",
    "y_train = train_df['target']\n",
    "\n",
    "# United dataframe of the initial data \n",
    "full_df = pd.concat([train_df.drop('target', axis=1), test_df])\n",
    "\n",
    "# Dataframe with indices of visited websites in session\n",
    "full_sites = full_df[sites]\n",
    "\n",
    "# Index to split the training and test data sets\n",
    "idx_split = train_df.shape[0]"
   ]
  },
  {
   "cell_type": "markdown",
   "metadata": {},
   "source": [
    "### get time features"
   ]
  },
  {
   "cell_type": "code",
   "execution_count": 10,
   "metadata": {},
   "outputs": [],
   "source": [
    "def get_time_features(df):\n",
    "    time_df = pd.DataFrame(index=df.index)\n",
    "    \n",
    "    time_df['hour'] = df['time1'].dt.hour\n",
    "    time_df['day_'] = df['time1'].dt.day\n",
    "    time_df['month'] = df['time1'].dt.month\n",
    "    time_df['year'] = df['time1'].dt.year\n",
    "    time_df['myear'] = df['time1'].dt.year * 12 + df['time1'].dt.month\n",
    "    \n",
    "#     hour = df['time1'].apply(lambda ts: ts.hour)\n",
    "#     time_df['orig_spl0'] = ((hour >= 7) & (hour <= 11)).astype('int')\n",
    "#     time_df['orig_spl1'] = ((hour >= 12) & (hour <= 18)).astype('int')\n",
    "#     time_df['orig_spl2'] = ((hour >= 19) & (hour <= 23)).astype('int')\n",
    "\n",
    "#     month = df['time1'].dt.month\n",
    "#     month[month<=2] = month[month<=2] + 12\n",
    "#     cutted = pd.cut(month, bins=[0, 5, 8, 11, 100], labels=[str(num) for num in range(4)])\n",
    "#     month_dum = pd.get_dummies(cutted, prefix='month', prefix_sep='')\n",
    "#     time_df = pd.concat([time_df, month_dum], axis=1)\n",
    "    \n",
    "    time_df['minutes'] = df['time1'].dt.hour * 60 + df['time1'].dt.minute\n",
    "    time_df['minutes_sin'] = np.sin(2*np.pi*time_df['minutes']/1440.)\n",
    "    time_df['minutes_cos'] = np.cos(2*np.pi*time_df['minutes']/1440.)\n",
    "    time_df['n_null'] = df[times].isnull().sum(axis=1)\n",
    "         \n",
    "    for bins_spl in [[-1, 720, 1140, 100000]]:\n",
    "        cutted = pd.cut(time_df['minutes'], bins=bins_spl, labels=[str(num)+'b' for num in range(len(bins_spl)-1)])\n",
    "        hours_dum = pd.get_dummies(cutted, prefix=str(len(bins_spl))+'_spl', prefix_sep='')\n",
    "        time_df = pd.concat([time_df, hours_dum], axis=1)\n",
    "\n",
    "    time_df['dow'] = df['time1'].apply(lambda ts: ts.date().weekday())\n",
    "    dtimes = ['dt'+str(i) for i in range(2, 11)]\n",
    "    for i in range(2, 11):\n",
    "        time_df['dt'+str(i)] = (df['time'+str(i)] - df['time'+str(i-1)]).astype('timedelta64[s]')\n",
    "    time_df['dt'] = time_df[dtimes].mean(axis=1).fillna(0)\n",
    "    time_df['dt_std'] = time_df[dtimes].std(axis=1).fillna(0)\n",
    "    \n",
    "    for i in range(2, 11):\n",
    "        del time_df['dt'+str(i)]\n",
    "\n",
    "    return time_df"
   ]
  },
  {
   "cell_type": "code",
   "execution_count": 11,
   "metadata": {},
   "outputs": [
    {
     "name": "stdout",
     "output_type": "stream",
     "text": [
      "Index(['hour', 'day_', 'month', 'year', 'myear', 'minutes', 'minutes_sin',\n",
      "       'minutes_cos', 'n_null', '4_spl0b', '4_spl1b', '4_spl2b', 'dow', 'dt',\n",
      "       'dt_std'],\n",
      "      dtype='object')\n"
     ]
    }
   ],
   "source": [
    "full_time = get_time_features(full_df[times])\n",
    "ft_columns = full_time.columns\n",
    "\n",
    "# hours_dum = pd.get_dummies(pd.cut(full_time['hour'], bins=4, labels=['1', '2', '3', '4']), prefix='spl', prefix_sep='')\n",
    "# full_time = pd.concat([full_time, hours_dum], axis=1)\n",
    "print(ft_columns)"
   ]
  },
  {
   "cell_type": "markdown",
   "metadata": {},
   "source": [
    "### get site features"
   ]
  },
  {
   "cell_type": "code",
   "execution_count": 12,
   "metadata": {},
   "outputs": [],
   "source": [
    "text_cols = ['sites_num']\n",
    "df_text = pd.DataFrame(columns=text_cols)\n",
    "df_text['sites_num'] = full_sites.astype('str').apply(lambda x: ' '.join(x), axis=1)\n",
    "\n",
    "for k in top_sites.keys():\n",
    "    df_text[k] = full_sites.isin(top_sites[k]).sum(axis=1)"
   ]
  },
  {
   "cell_type": "markdown",
   "metadata": {},
   "source": [
    "### pairs feat"
   ]
  },
  {
   "cell_type": "code",
   "execution_count": 13,
   "metadata": {},
   "outputs": [],
   "source": [
    "pairs_tfidf = TfidfVectorizer(ngram_range=(1, 3), max_features=50000)\n",
    "u_df = pairs_tfidf.fit_transform(df_users['data'])\n",
    "s_df = pairs_tfidf.transform(df_text['sites_num'])\n",
    "df_text['cosd'] = cosine_distances(s_df, u_df[0])\n",
    "df_text['cos'] = cosine_similarity(s_df, u_df[0])\n",
    "df_text['euc'] = euclidean_distances(s_df, u_df[0])\n",
    "df_text['manh'] = manhattan_distances(s_df, u_df[0])\n",
    "\n",
    "df_text['cosd'] = df_text['cosd'].apply(lambda x:np.power(x, 40))\n",
    "df_text['cos'] = df_text['cos'].apply(lambda x:np.power(x, .2))\n",
    "df_text['euc'] = df_text['euc'].apply(lambda x:np.power(x, 50))"
   ]
  },
  {
   "cell_type": "markdown",
   "metadata": {},
   "source": [
    "### concat features"
   ]
  },
  {
   "cell_type": "code",
   "execution_count": 14,
   "metadata": {},
   "outputs": [
    {
     "data": {
      "text/html": [
       "<div>\n",
       "<style scoped>\n",
       "    .dataframe tbody tr th:only-of-type {\n",
       "        vertical-align: middle;\n",
       "    }\n",
       "\n",
       "    .dataframe tbody tr th {\n",
       "        vertical-align: top;\n",
       "    }\n",
       "\n",
       "    .dataframe thead th {\n",
       "        text-align: right;\n",
       "    }\n",
       "</style>\n",
       "<table border=\"1\" class=\"dataframe\">\n",
       "  <thead>\n",
       "    <tr style=\"text-align: right;\">\n",
       "      <th></th>\n",
       "      <th>sites_num</th>\n",
       "      <th>top5</th>\n",
       "      <th>top10</th>\n",
       "      <th>top25</th>\n",
       "      <th>top50</th>\n",
       "      <th>top100</th>\n",
       "      <th>top250</th>\n",
       "      <th>top500</th>\n",
       "      <th>top1000</th>\n",
       "      <th>cosd</th>\n",
       "      <th>...</th>\n",
       "      <th>minutes</th>\n",
       "      <th>minutes_sin</th>\n",
       "      <th>minutes_cos</th>\n",
       "      <th>n_null</th>\n",
       "      <th>4_spl0b</th>\n",
       "      <th>4_spl1b</th>\n",
       "      <th>4_spl2b</th>\n",
       "      <th>dow</th>\n",
       "      <th>dt</th>\n",
       "      <th>dt_std</th>\n",
       "    </tr>\n",
       "    <tr>\n",
       "      <th>session_id</th>\n",
       "      <th></th>\n",
       "      <th></th>\n",
       "      <th></th>\n",
       "      <th></th>\n",
       "      <th></th>\n",
       "      <th></th>\n",
       "      <th></th>\n",
       "      <th></th>\n",
       "      <th></th>\n",
       "      <th></th>\n",
       "      <th></th>\n",
       "      <th></th>\n",
       "      <th></th>\n",
       "      <th></th>\n",
       "      <th></th>\n",
       "      <th></th>\n",
       "      <th></th>\n",
       "      <th></th>\n",
       "      <th></th>\n",
       "      <th></th>\n",
       "      <th></th>\n",
       "    </tr>\n",
       "  </thead>\n",
       "  <tbody>\n",
       "    <tr>\n",
       "      <th>204762</th>\n",
       "      <td>222 3346 3346 3359 55 2891 3346 0 0 0</td>\n",
       "      <td>0</td>\n",
       "      <td>0</td>\n",
       "      <td>0</td>\n",
       "      <td>0</td>\n",
       "      <td>0</td>\n",
       "      <td>0</td>\n",
       "      <td>0</td>\n",
       "      <td>0</td>\n",
       "      <td>1.0</td>\n",
       "      <td>...</td>\n",
       "      <td>1419</td>\n",
       "      <td>-0.091502</td>\n",
       "      <td>0.995805</td>\n",
       "      <td>3</td>\n",
       "      <td>0</td>\n",
       "      <td>0</td>\n",
       "      <td>1</td>\n",
       "      <td>2</td>\n",
       "      <td>2.0</td>\n",
       "      <td>2.75681</td>\n",
       "    </tr>\n",
       "  </tbody>\n",
       "</table>\n",
       "<p>1 rows × 28 columns</p>\n",
       "</div>"
      ],
      "text/plain": [
       "                                        sites_num  top5  top10  top25  top50  \\\n",
       "session_id                                                                     \n",
       "204762      222 3346 3346 3359 55 2891 3346 0 0 0     0      0      0      0   \n",
       "\n",
       "            top100  top250  top500  top1000  cosd   ...     minutes  \\\n",
       "session_id                                          ...               \n",
       "204762           0       0       0        0   1.0   ...        1419   \n",
       "\n",
       "            minutes_sin  minutes_cos  n_null  4_spl0b  4_spl1b  4_spl2b  dow  \\\n",
       "session_id                                                                     \n",
       "204762        -0.091502     0.995805       3        0        0        1    2   \n",
       "\n",
       "             dt   dt_std  \n",
       "session_id                \n",
       "204762      2.0  2.75681  \n",
       "\n",
       "[1 rows x 28 columns]"
      ]
     },
     "execution_count": 14,
     "metadata": {},
     "output_type": "execute_result"
    }
   ],
   "source": [
    "X_train = pd.concat([df_text.iloc[:idx_split], full_time.iloc[:idx_split]], axis=1)\n",
    "X_test = pd.concat([df_text.iloc[idx_split:], full_time.iloc[idx_split:]], axis=1)\n",
    "\n",
    "X_train.tail(1)"
   ]
  },
  {
   "cell_type": "markdown",
   "metadata": {},
   "source": [
    "# EDA"
   ]
  },
  {
   "cell_type": "code",
   "execution_count": 62,
   "metadata": {},
   "outputs": [],
   "source": [
    "df_alice['timestamp'] = pd.to_datetime(df_alice['timestamp'])"
   ]
  },
  {
   "cell_type": "code",
   "execution_count": 63,
   "metadata": {},
   "outputs": [
    {
     "data": {
      "text/html": [
       "<div>\n",
       "<style scoped>\n",
       "    .dataframe tbody tr th:only-of-type {\n",
       "        vertical-align: middle;\n",
       "    }\n",
       "\n",
       "    .dataframe tbody tr th {\n",
       "        vertical-align: top;\n",
       "    }\n",
       "\n",
       "    .dataframe thead th {\n",
       "        text-align: right;\n",
       "    }\n",
       "</style>\n",
       "<table border=\"1\" class=\"dataframe\">\n",
       "  <thead>\n",
       "    <tr style=\"text-align: right;\">\n",
       "      <th></th>\n",
       "      <th>timestamp</th>\n",
       "      <th>site</th>\n",
       "    </tr>\n",
       "  </thead>\n",
       "  <tbody>\n",
       "    <tr>\n",
       "      <th>0</th>\n",
       "      <td>2013-02-12 16:25:10</td>\n",
       "      <td>270</td>\n",
       "    </tr>\n",
       "    <tr>\n",
       "      <th>1</th>\n",
       "      <td>2013-02-12 16:25:11</td>\n",
       "      <td>270</td>\n",
       "    </tr>\n",
       "    <tr>\n",
       "      <th>2</th>\n",
       "      <td>2013-02-12 16:32:10</td>\n",
       "      <td>270</td>\n",
       "    </tr>\n",
       "    <tr>\n",
       "      <th>3</th>\n",
       "      <td>2013-02-12 16:32:11</td>\n",
       "      <td>21</td>\n",
       "    </tr>\n",
       "    <tr>\n",
       "      <th>4</th>\n",
       "      <td>2013-02-12 16:32:24</td>\n",
       "      <td>21</td>\n",
       "    </tr>\n",
       "  </tbody>\n",
       "</table>\n",
       "</div>"
      ],
      "text/plain": [
       "            timestamp  site\n",
       "0 2013-02-12 16:25:10   270\n",
       "1 2013-02-12 16:25:11   270\n",
       "2 2013-02-12 16:32:10   270\n",
       "3 2013-02-12 16:32:11    21\n",
       "4 2013-02-12 16:32:24    21"
      ]
     },
     "execution_count": 63,
     "metadata": {},
     "output_type": "execute_result"
    }
   ],
   "source": [
    "df_alice.head()"
   ]
  },
  {
   "cell_type": "code",
   "execution_count": 64,
   "metadata": {},
   "outputs": [],
   "source": [
    "df_alice['group'] = 6\n",
    "df_alice.loc[df_alice['timestamp'] < '2013.06.01', 'group'] = 1\n",
    "df_alice.loc[(df_alice['timestamp'] >= '2013.06.01') & (df_alice['timestamp'] < '2013.10.01'), 'group'] = 2\n",
    "df_alice.loc[(df_alice['timestamp'] >= '2013.10.01') & (df_alice['timestamp'] < '2013.12.15'), 'group'] = 3\n",
    "df_alice.loc[(df_alice['timestamp'] >= '2013.12.15') & (df_alice['timestamp'] < '2014.02.10'), 'group'] = 4\n",
    "df_alice.loc[(df_alice['timestamp'] >= '2014.02.10') & (df_alice['timestamp'] < '2014.03.15'), 'group'] = 5"
   ]
  },
  {
   "cell_type": "code",
   "execution_count": 39,
   "metadata": {},
   "outputs": [
    {
     "data": {
      "image/png": "[encoded data removed]",
      "text/plain": [
       "<Figure size 1152x432 with 1 Axes>"
      ]
     },
     "metadata": {
      "needs_background": "light"
     },
     "output_type": "display_data"
    }
   ],
   "source": [
    "plt.figure(figsize = (16,6))\n",
    "ax = plt.plot(df_alice['timestamp'], df_alice.index.tolist(), lw=0, marker='o', ms=0.2);\n",
    "ax = plt.plot(df_alice['timestamp'], df_alice['group']*2000, lw=0, marker='o', ms=0.2);"
   ]
  },
  {
   "cell_type": "code",
   "execution_count": 65,
   "metadata": {},
   "outputs": [],
   "source": [
    "df_alice['hour'] = df_alice['timestamp'].dt.hour\n",
    "df_alice.loc[df_alice['hour']==9, 'hour'] = 10\n",
    "df_alice['weekday'] = df_alice['timestamp'].apply(lambda ts: ts.date().weekday())+1\n",
    "df_alice['hw'] = df_alice['weekday']*100 + df_alice['hour']\n",
    "\n",
    "a = df_alice['site'].value_counts()\n",
    "df_alice['vc'] = df_alice['site'].map(a)\n",
    "\n"
   ]
  },
  {
   "cell_type": "code",
   "execution_count": 76,
   "metadata": {},
   "outputs": [
    {
     "data": {
      "image/png": "[encoded data removed]",
      "text/plain": [
       "<Figure size 432x288 with 1 Axes>"
      ]
     },
     "metadata": {
      "needs_background": "light"
     },
     "output_type": "display_data"
    }
   ],
   "source": [
    "df_alice['hour'].value_counts().plot(kind='bar');"
   ]
  },
  {
   "cell_type": "code",
   "execution_count": 77,
   "metadata": {},
   "outputs": [
    {
     "data": {
      "image/png": "[encoded data removed]",
      "text/plain": [
       "<Figure size 432x288 with 1 Axes>"
      ]
     },
     "metadata": {
      "needs_background": "light"
     },
     "output_type": "display_data"
    }
   ],
   "source": [
    "df_alice['weekday'].value_counts().plot(kind='bar');"
   ]
  },
  {
   "cell_type": "code",
   "execution_count": null,
   "metadata": {},
   "outputs": [],
   "source": []
  },
  {
   "cell_type": "code",
   "execution_count": 66,
   "metadata": {},
   "outputs": [
    {
     "data": {
      "image/png": "[encoded data removed]",
      "text/plain": [
       "<Figure size 432x288 with 2 Axes>"
      ]
     },
     "metadata": {
      "needs_background": "light"
     },
     "output_type": "display_data"
    }
   ],
   "source": [
    "sns.heatmap(pd.crosstab(df_alice['group'], df_alice['hour']), cmap='BuGn');"
   ]
  },
  {
   "cell_type": "code",
   "execution_count": 67,
   "metadata": {},
   "outputs": [
    {
     "data": {
      "image/png": "[encoded data removed]",
      "text/plain": [
       "<Figure size 432x288 with 2 Axes>"
      ]
     },
     "metadata": {
      "needs_background": "light"
     },
     "output_type": "display_data"
    }
   ],
   "source": [
    "sns.heatmap(pd.crosstab(df_alice['group'], df_alice['weekday']), cmap='BuGn');"
   ]
  },
  {
   "cell_type": "code",
   "execution_count": 72,
   "metadata": {},
   "outputs": [
    {
     "data": {
      "image/png": "[encoded data removed]",
      "text/plain": [
       "<Figure size 1296x432 with 2 Axes>"
      ]
     },
     "metadata": {
      "needs_background": "light"
     },
     "output_type": "display_data"
    }
   ],
   "source": [
    "plt.figure(figsize = (18,6))\n",
    "ax = sns.heatmap(pd.crosstab(df_alice['group'], df_alice['hw']), cmap='BuGn');"
   ]
  },
  {
   "cell_type": "code",
   "execution_count": 58,
   "metadata": {},
   "outputs": [
    {
     "data": {
      "image/png": "[encoded data removed]",
      "text/plain": [
       "<Figure size 1152x432 with 2 Axes>"
      ]
     },
     "metadata": {
      "needs_background": "light"
     },
     "output_type": "display_data"
    }
   ],
   "source": [
    "plt.figure(figsize = (16,6))\n",
    "ax = sns.heatmap(pd.crosstab(df_alice.loc[df_alice['vc'] > 30, 'group'], df_alice.loc[df_alice['vc'] > 30, 'site']), cmap='BuGn');"
   ]
  },
  {
   "cell_type": "code",
   "execution_count": null,
   "metadata": {},
   "outputs": [],
   "source": []
  },
  {
   "cell_type": "code",
   "execution_count": null,
   "metadata": {},
   "outputs": [],
   "source": []
  },
  {
   "cell_type": "code",
   "execution_count": null,
   "metadata": {},
   "outputs": [],
   "source": []
  },
  {
   "cell_type": "code",
   "execution_count": null,
   "metadata": {},
   "outputs": [],
   "source": []
  },
  {
   "cell_type": "code",
   "execution_count": 25,
   "metadata": {},
   "outputs": [],
   "source": [
    "df_alice['myear'] = (df_alice['timestamp'].dt.year - df_alice['timestamp'].dt.year.min()) * 12 + df_alice['timestamp'].dt.month\n",
    "df_alice['hour'] = df_alice['timestamp'].dt.hour\n",
    "df_alice['dt'] = (df_alice['timestamp'] - df_alice['timestamp'].shift(1)).dt.seconds\n",
    "df_alice['dow'] = df_alice['timestamp'].apply(lambda ts: ts.date().weekday())"
   ]
  },
  {
   "cell_type": "code",
   "execution_count": 26,
   "metadata": {},
   "outputs": [
    {
     "data": {
      "text/html": [
       "<div>\n",
       "<style scoped>\n",
       "    .dataframe tbody tr th:only-of-type {\n",
       "        vertical-align: middle;\n",
       "    }\n",
       "\n",
       "    .dataframe tbody tr th {\n",
       "        vertical-align: top;\n",
       "    }\n",
       "\n",
       "    .dataframe thead th {\n",
       "        text-align: right;\n",
       "    }\n",
       "</style>\n",
       "<table border=\"1\" class=\"dataframe\">\n",
       "  <thead>\n",
       "    <tr style=\"text-align: right;\">\n",
       "      <th></th>\n",
       "      <th>timestamp</th>\n",
       "      <th>site</th>\n",
       "      <th>myear</th>\n",
       "      <th>hour</th>\n",
       "      <th>dt</th>\n",
       "      <th>dow</th>\n",
       "    </tr>\n",
       "  </thead>\n",
       "  <tbody>\n",
       "    <tr>\n",
       "      <th>0</th>\n",
       "      <td>2013-02-12 16:25:10</td>\n",
       "      <td>270</td>\n",
       "      <td>2</td>\n",
       "      <td>16</td>\n",
       "      <td>NaN</td>\n",
       "      <td>1</td>\n",
       "    </tr>\n",
       "    <tr>\n",
       "      <th>1</th>\n",
       "      <td>2013-02-12 16:25:11</td>\n",
       "      <td>270</td>\n",
       "      <td>2</td>\n",
       "      <td>16</td>\n",
       "      <td>1.0</td>\n",
       "      <td>1</td>\n",
       "    </tr>\n",
       "    <tr>\n",
       "      <th>2</th>\n",
       "      <td>2013-02-12 16:32:10</td>\n",
       "      <td>270</td>\n",
       "      <td>2</td>\n",
       "      <td>16</td>\n",
       "      <td>419.0</td>\n",
       "      <td>1</td>\n",
       "    </tr>\n",
       "    <tr>\n",
       "      <th>3</th>\n",
       "      <td>2013-02-12 16:32:11</td>\n",
       "      <td>21</td>\n",
       "      <td>2</td>\n",
       "      <td>16</td>\n",
       "      <td>1.0</td>\n",
       "      <td>1</td>\n",
       "    </tr>\n",
       "    <tr>\n",
       "      <th>4</th>\n",
       "      <td>2013-02-12 16:32:24</td>\n",
       "      <td>21</td>\n",
       "      <td>2</td>\n",
       "      <td>16</td>\n",
       "      <td>13.0</td>\n",
       "      <td>1</td>\n",
       "    </tr>\n",
       "  </tbody>\n",
       "</table>\n",
       "</div>"
      ],
      "text/plain": [
       "            timestamp  site  myear  hour     dt  dow\n",
       "0 2013-02-12 16:25:10   270      2    16    NaN    1\n",
       "1 2013-02-12 16:25:11   270      2    16    1.0    1\n",
       "2 2013-02-12 16:32:10   270      2    16  419.0    1\n",
       "3 2013-02-12 16:32:11    21      2    16    1.0    1\n",
       "4 2013-02-12 16:32:24    21      2    16   13.0    1"
      ]
     },
     "execution_count": 26,
     "metadata": {},
     "output_type": "execute_result"
    }
   ],
   "source": [
    "df_alice.head()"
   ]
  },
  {
   "cell_type": "code",
   "execution_count": 27,
   "metadata": {},
   "outputs": [
    {
     "data": {
      "text/plain": [
       "11    4440\n",
       "14    4049\n",
       "15    3961\n",
       "9     3762\n",
       "16    2998\n",
       "12    1328\n",
       "13    1253\n",
       "2      606\n",
       "4      372\n",
       "Name: myear, dtype: int64"
      ]
     },
     "execution_count": 27,
     "metadata": {},
     "output_type": "execute_result"
    }
   ],
   "source": [
    "df_alice['myear'].value_counts()"
   ]
  },
  {
   "cell_type": "code",
   "execution_count": 28,
   "metadata": {},
   "outputs": [],
   "source": [
    "# for my in df_alice['myear'].unique():\n",
    "#     print(f\"Month {my}\")\n",
    "#     print(df_alice.loc[df_alice['myear']==my, 'site'].value_counts()[:10].index)\n",
    "#     print()\n",
    "top = df_alice['site'].value_counts()[:50].index\n",
    "\n",
    "df_plot = pd.crosstab(df_alice.loc[df_alice['site'].isin(top), 'site'], df_alice.loc[df_alice['site'].isin(top), 'myear'])\n",
    "df_plot_h = pd.crosstab(df_alice['hour'], df_alice['myear'])\n",
    "df_plot_dow = pd.crosstab(df_alice['dow'], df_alice['myear'])"
   ]
  },
  {
   "cell_type": "code",
   "execution_count": 29,
   "metadata": {},
   "outputs": [
    {
     "data": {
      "text/html": [
       "<div>\n",
       "<style scoped>\n",
       "    .dataframe tbody tr th:only-of-type {\n",
       "        vertical-align: middle;\n",
       "    }\n",
       "\n",
       "    .dataframe tbody tr th {\n",
       "        vertical-align: top;\n",
       "    }\n",
       "\n",
       "    .dataframe thead th {\n",
       "        text-align: right;\n",
       "    }\n",
       "</style>\n",
       "<table border=\"1\" class=\"dataframe\">\n",
       "  <thead>\n",
       "    <tr style=\"text-align: right;\">\n",
       "      <th></th>\n",
       "      <th>count</th>\n",
       "      <th>mean</th>\n",
       "      <th>std</th>\n",
       "      <th>min</th>\n",
       "      <th>25%</th>\n",
       "      <th>50%</th>\n",
       "      <th>75%</th>\n",
       "      <th>max</th>\n",
       "    </tr>\n",
       "    <tr>\n",
       "      <th>myear</th>\n",
       "      <th></th>\n",
       "      <th></th>\n",
       "      <th></th>\n",
       "      <th></th>\n",
       "      <th></th>\n",
       "      <th></th>\n",
       "      <th></th>\n",
       "      <th></th>\n",
       "    </tr>\n",
       "  </thead>\n",
       "  <tbody>\n",
       "    <tr>\n",
       "      <th>2</th>\n",
       "      <td>605.0</td>\n",
       "      <td>11.287603</td>\n",
       "      <td>99.063395</td>\n",
       "      <td>0.0</td>\n",
       "      <td>0.0</td>\n",
       "      <td>0.0</td>\n",
       "      <td>1.0</td>\n",
       "      <td>1565.0</td>\n",
       "    </tr>\n",
       "    <tr>\n",
       "      <th>4</th>\n",
       "      <td>372.0</td>\n",
       "      <td>146.336022</td>\n",
       "      <td>2749.254228</td>\n",
       "      <td>0.0</td>\n",
       "      <td>0.0</td>\n",
       "      <td>0.0</td>\n",
       "      <td>1.0</td>\n",
       "      <td>53029.0</td>\n",
       "    </tr>\n",
       "    <tr>\n",
       "      <th>9</th>\n",
       "      <td>3762.0</td>\n",
       "      <td>8.526847</td>\n",
       "      <td>381.206025</td>\n",
       "      <td>0.0</td>\n",
       "      <td>0.0</td>\n",
       "      <td>1.0</td>\n",
       "      <td>2.0</td>\n",
       "      <td>23374.0</td>\n",
       "    </tr>\n",
       "    <tr>\n",
       "      <th>11</th>\n",
       "      <td>4440.0</td>\n",
       "      <td>73.796396</td>\n",
       "      <td>2183.986220</td>\n",
       "      <td>0.0</td>\n",
       "      <td>0.0</td>\n",
       "      <td>1.0</td>\n",
       "      <td>2.0</td>\n",
       "      <td>80734.0</td>\n",
       "    </tr>\n",
       "    <tr>\n",
       "      <th>12</th>\n",
       "      <td>1328.0</td>\n",
       "      <td>66.027108</td>\n",
       "      <td>1809.960965</td>\n",
       "      <td>0.0</td>\n",
       "      <td>0.0</td>\n",
       "      <td>1.0</td>\n",
       "      <td>2.0</td>\n",
       "      <td>65237.0</td>\n",
       "    </tr>\n",
       "    <tr>\n",
       "      <th>13</th>\n",
       "      <td>1253.0</td>\n",
       "      <td>219.538707</td>\n",
       "      <td>3693.138595</td>\n",
       "      <td>0.0</td>\n",
       "      <td>0.0</td>\n",
       "      <td>0.0</td>\n",
       "      <td>1.0</td>\n",
       "      <td>78185.0</td>\n",
       "    </tr>\n",
       "    <tr>\n",
       "      <th>14</th>\n",
       "      <td>4049.0</td>\n",
       "      <td>82.816498</td>\n",
       "      <td>2247.605867</td>\n",
       "      <td>0.0</td>\n",
       "      <td>0.0</td>\n",
       "      <td>1.0</td>\n",
       "      <td>1.0</td>\n",
       "      <td>78182.0</td>\n",
       "    </tr>\n",
       "    <tr>\n",
       "      <th>15</th>\n",
       "      <td>3961.0</td>\n",
       "      <td>66.836657</td>\n",
       "      <td>2070.394689</td>\n",
       "      <td>0.0</td>\n",
       "      <td>0.0</td>\n",
       "      <td>1.0</td>\n",
       "      <td>1.0</td>\n",
       "      <td>84777.0</td>\n",
       "    </tr>\n",
       "    <tr>\n",
       "      <th>16</th>\n",
       "      <td>2998.0</td>\n",
       "      <td>88.035357</td>\n",
       "      <td>2537.653697</td>\n",
       "      <td>0.0</td>\n",
       "      <td>0.0</td>\n",
       "      <td>1.0</td>\n",
       "      <td>2.0</td>\n",
       "      <td>83240.0</td>\n",
       "    </tr>\n",
       "  </tbody>\n",
       "</table>\n",
       "</div>"
      ],
      "text/plain": [
       "        count        mean          std  min  25%  50%  75%      max\n",
       "myear                                                              \n",
       "2       605.0   11.287603    99.063395  0.0  0.0  0.0  1.0   1565.0\n",
       "4       372.0  146.336022  2749.254228  0.0  0.0  0.0  1.0  53029.0\n",
       "9      3762.0    8.526847   381.206025  0.0  0.0  1.0  2.0  23374.0\n",
       "11     4440.0   73.796396  2183.986220  0.0  0.0  1.0  2.0  80734.0\n",
       "12     1328.0   66.027108  1809.960965  0.0  0.0  1.0  2.0  65237.0\n",
       "13     1253.0  219.538707  3693.138595  0.0  0.0  0.0  1.0  78185.0\n",
       "14     4049.0   82.816498  2247.605867  0.0  0.0  1.0  1.0  78182.0\n",
       "15     3961.0   66.836657  2070.394689  0.0  0.0  1.0  1.0  84777.0\n",
       "16     2998.0   88.035357  2537.653697  0.0  0.0  1.0  2.0  83240.0"
      ]
     },
     "execution_count": 29,
     "metadata": {},
     "output_type": "execute_result"
    }
   ],
   "source": [
    "df_alice.groupby('myear')['dt'].describe()"
   ]
  },
  {
   "cell_type": "code",
   "execution_count": 30,
   "metadata": {},
   "outputs": [
    {
     "name": "stdout",
     "output_type": "stream",
     "text": [
      "Col 2 : Site:0.2309 Hour:0.8044 Sum:0.7486\n",
      "Col 4 : Site:0.4966 Hour:0.0000 Sum:0.7449\n",
      "Col 9 : Site:0.6829 Hour:0.8755 Sum:1.4621\n",
      "Col 11: Site:0.7180 Hour:0.6336 Sum:1.3938\n",
      "Col 12: Site:0.1343 Hour:0.6994 Sum:0.5511\n",
      "Col 13: Site:0.6277 Hour:0.8930 Sum:1.3881\n",
      "Col 14: Site:0.7462 Hour:0.9875 Sum:1.6130\n",
      "Col 15: Site:0.9114 Hour:1.0000 Sum:1.8671\n",
      "Col 16: Site:1.0000 Hour:0.8657 Sum:1.9329\n"
     ]
    }
   ],
   "source": [
    "for i in range(len(df_plot.columns)):\n",
    "    z = cosine_similarity(df_plot.iloc[:, i].values.reshape(1, -1), df_plot.iloc[:, -1].values.reshape(1, -1))\n",
    "    zz = cosine_similarity(df_plot_h.iloc[:, i].values.reshape(1, -1), df_plot_h.iloc[:, -2].values.reshape(1, -1))\n",
    "    print(f'Col {df_plot.columns[i]:<2}: Site:{z[0][0]:.4f} Hour:{zz[0][0]:.4f} Sum:{1.5*z[0][0]+.5*zz[0][0]:.4f}')"
   ]
  },
  {
   "cell_type": "code",
   "execution_count": 31,
   "metadata": {},
   "outputs": [
    {
     "data": {
      "image/png": "[encoded data removed]",
      "text/plain": [
       "<Figure size 1152x864 with 9 Axes>"
      ]
     },
     "metadata": {
      "needs_background": "light"
     },
     "output_type": "display_data"
    }
   ],
   "source": [
    "fig, axes = plt.subplots(3, 3, figsize=(16, 12))\n",
    "for i in range(len(df_plot.columns)):\n",
    "    sns.barplot(x=df_plot.index, y=df_plot.columns[i], data=df_plot, ax=axes[i//3, i%3]);"
   ]
  },
  {
   "cell_type": "code",
   "execution_count": 32,
   "metadata": {},
   "outputs": [
    {
     "data": {
      "image/png": "[encoded data removed]",
      "text/plain": [
       "<Figure size 1152x864 with 9 Axes>"
      ]
     },
     "metadata": {
      "needs_background": "light"
     },
     "output_type": "display_data"
    }
   ],
   "source": [
    "fig, axes = plt.subplots(3, 3, figsize=(16, 12))\n",
    "for i in range(len(df_plot_h.columns)):\n",
    "    sns.barplot(x=df_plot_h.index, y=df_plot_h.columns[i], data=df_plot_h, ax=axes[i//3, i%3]);"
   ]
  },
  {
   "cell_type": "code",
   "execution_count": 33,
   "metadata": {},
   "outputs": [
    {
     "data": {
      "image/png": "[encoded data removed]",
      "text/plain": [
       "<Figure size 1152x864 with 9 Axes>"
      ]
     },
     "metadata": {
      "needs_background": "light"
     },
     "output_type": "display_data"
    }
   ],
   "source": [
    "fig, axes = plt.subplots(3, 3, figsize=(16, 12))\n",
    "for i in range(len(df_plot_dow.columns)):\n",
    "    sns.barplot(x=df_plot_dow.index, y=df_plot_dow.columns[i], data=df_plot_dow, ax=axes[i//3, i%3]);"
   ]
  },
  {
   "cell_type": "code",
   "execution_count": null,
   "metadata": {},
   "outputs": [],
   "source": []
  }
 ],
 "metadata": {
  "kernelspec": {
   "display_name": "Python 3",
   "language": "python",
   "name": "python3"
  },
  "language_info": {
   "codemirror_mode": {
    "name": "ipython",
    "version": 3
   },
   "file_extension": ".py",
   "mimetype": "text/x-python",
   "name": "python",
   "nbconvert_exporter": "python",
   "pygments_lexer": "ipython3",
   "version": "3.7.0"
  }
 },
 "nbformat": 4,
 "nbformat_minor": 2
}
