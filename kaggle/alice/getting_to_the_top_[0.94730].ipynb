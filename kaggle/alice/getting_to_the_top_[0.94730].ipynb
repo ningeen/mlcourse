{
 "cells": [
  {
   "cell_type": "code",
   "execution_count": 7,
   "metadata": {},
   "outputs": [],
   "source": [
    "# Import libraries and set desired options\n",
    "\n",
    "from __future__ import division, print_function\n",
    "# Disable Anaconda warnings\n",
    "import warnings\n",
    "warnings.filterwarnings('ignore')\n",
    "%matplotlib inline\n",
    "from matplotlib import pyplot as plt\n",
    "import seaborn as sns\n",
    "\n",
    "import os\n",
    "import pickle\n",
    "import numpy as np\n",
    "import pandas as pd\n",
    "from scipy.sparse import csr_matrix\n",
    "from scipy.sparse import hstack\n",
    "from sklearn.preprocessing import StandardScaler, LabelEncoder\n",
    "from sklearn.metrics import roc_auc_score\n",
    "from sklearn.linear_model import LogisticRegression, LogisticRegressionCV\n",
    "\n",
    "from sklearn.model_selection import TimeSeriesSplit, cross_val_score, GridSearchCV, RandomizedSearchCV, KFold\n",
    "from sklearn.feature_extraction.text import TfidfVectorizer, CountVectorizer\n",
    "from sklearn.base import BaseEstimator, TransformerMixin\n",
    "from sklearn.pipeline import Pipeline, FeatureUnion\n",
    "\n",
    "from sklearn.decomposition import FastICA\n",
    "\n",
    "from sklearn.metrics.pairwise import cosine_similarity, cosine_distances"
   ]
  },
  {
   "cell_type": "code",
   "execution_count": 8,
   "metadata": {},
   "outputs": [],
   "source": [
    "# A helper function for writing predictions to a file\n",
    "def write_to_submission_file(predicted_labels, out_file,\n",
    "                             target='target', index_label=\"session_id\"):\n",
    "    predicted_df = pd.DataFrame(predicted_labels,\n",
    "                                index = np.arange(1, predicted_labels.shape[0] + 1),\n",
    "                                columns=[target])\n",
    "    predicted_df.to_csv(out_file, index_label=index_label)"
   ]
  },
  {
   "cell_type": "code",
   "execution_count": 9,
   "metadata": {},
   "outputs": [],
   "source": [
    "def analyze_results(cv_res):\n",
    "    import re \n",
    "    \n",
    "    results = pd.DataFrame(cv_res['params'])\n",
    "    results['mean_score'] = cv_res['mean_test_score']\n",
    "    results['std_score'] = cv_res['std_test_score']\n",
    "    results['rank'] = cv_res['rank_test_score']\n",
    "#     results = results.sort_values('rank')\n",
    "    \n",
    "    n_splits = len(cv_res['split0_test_score'])\n",
    "    cv_results = np.r_[[clf.cv_results_[k] for k in clf.cv_results_.keys() if re.match(r'split\\d+_test', k)]]\n",
    "    cv_results = pd.DataFrame(cv_results)\n",
    "    melted = cv_results.melt()\n",
    "    melted['split_num'] = list(range(cv_results.shape[0])) * cv_results.shape[1]\n",
    "    \n",
    "    fig, axes = plt.subplots(2, 2, figsize=(14, 10), gridspec_kw={'width_ratios':[2, 1]})\n",
    "    \n",
    "    sns.barplot(x='split_num', y='value', hue='variable', data=melted, ax=axes[0, 0]);\n",
    "    axes[0, 0].set_ylim(melted['value'].min()-.01, 1);\n",
    "    \n",
    "    sns.violinplot(x='variable', y='value', hue='variable', data=cv_results.melt(), ax=axes[0, 1], dodge=False);\n",
    "    sns.boxplot(x='variable', y='value', data=melted, ax=axes[1, 0]);\n",
    "    sns.barplot(x=results.index, y='std_score', data=results, ax=axes[1, 1]);\n",
    "    \n",
    "    sns.despine()\n",
    "    return results, cv_results"
   ]
  },
  {
   "cell_type": "markdown",
   "metadata": {},
   "source": [
    "## Load data"
   ]
  },
  {
   "cell_type": "code",
   "execution_count": 10,
   "metadata": {
    "scrolled": true
   },
   "outputs": [
    {
     "name": "stdout",
     "output_type": "stream",
     "text": [
      "Websites total: 48371\n"
     ]
    }
   ],
   "source": [
    "# Load websites dictionary\n",
    "with open(r\"data/site_dic.pkl\", \"rb\") as input_file:\n",
    "    site_dict = pickle.load(input_file)\n",
    "\n",
    "# Create dataframe for the dictionary\n",
    "sites_dict = pd.DataFrame(list(site_dict.keys()), index=list(site_dict.values()), columns=['site'])\n",
    "\n",
    "print(u'Websites total:', sites_dict.shape[0])"
   ]
  },
  {
   "cell_type": "code",
   "execution_count": 11,
   "metadata": {},
   "outputs": [],
   "source": [
    "# Read the training and test data sets\n",
    "train_df = pd.read_csv('data/train_sessions.csv',\n",
    "                       index_col='session_id')\n",
    "test_df = pd.read_csv('data/test_sessions.csv',\n",
    "                      index_col='session_id')"
   ]
  },
  {
   "cell_type": "code",
   "execution_count": 12,
   "metadata": {},
   "outputs": [],
   "source": [
    "# Switch time1, ..., time10 columns to datetime type\n",
    "times = ['time%s' % i for i in range(1, 11)]\n",
    "train_df[times] = train_df[times].apply(pd.to_datetime)\n",
    "test_df[times] = test_df[times].apply(pd.to_datetime)\n",
    "\n",
    "# Sort the data by time\n",
    "train_df = train_df.sort_values(by='time1')\n",
    "\n",
    "# Change site1, ..., site10 columns type to integer and fill NA-values with zeros\n",
    "sites = ['site%s' % i for i in range(1, 11)]\n",
    "train_df[sites] = train_df[sites].fillna(0).astype('int')\n",
    "test_df[sites] = test_df[sites].fillna(0).astype('int')"
   ]
  },
  {
   "cell_type": "code",
   "execution_count": 13,
   "metadata": {},
   "outputs": [],
   "source": [
    "# Our target variable\n",
    "y_train = train_df['target']\n",
    "\n",
    "# United dataframe of the initial data \n",
    "full_df = pd.concat([train_df.drop('target', axis=1), test_df])\n",
    "\n",
    "# Dataframe with indices of visited websites in session\n",
    "full_sites = full_df[sites]\n",
    "\n",
    "# Index to split the training and test data sets\n",
    "idx_split = train_df.shape[0]"
   ]
  },
  {
   "cell_type": "markdown",
   "metadata": {},
   "source": [
    "### get time features"
   ]
  },
  {
   "cell_type": "code",
   "execution_count": 24,
   "metadata": {},
   "outputs": [],
   "source": [
    "def get_time_features(df):\n",
    "    time_df = pd.DataFrame(index=df.index)\n",
    "    \n",
    "    hour = df['time1'].apply(lambda ts: ts.hour)\n",
    "    time_df['morning'] = ((hour >= 7) & (hour <= 11)).astype('int')\n",
    "    time_df['day'] = ((hour >= 12) & (hour <= 18)).astype('int')\n",
    "    time_df['evening'] = ((hour >= 19) & (hour <= 23)).astype('int')\n",
    "\n",
    "#     time_df['minutes'] = df['time1'].dt.hour * 60 + df['time1'].dt.minute\n",
    "#     time_df['dow'] = df['time1'].apply(lambda ts: ts.date().weekday())\n",
    "#     dtimes = ['dt'+str(i) for i in range(2, 11)]\n",
    "#     for i in range(2, 11):\n",
    "#         time_df['dt'+str(i)] = (df['time'+str(i)] - df['time'+str(i-1)]).astype('timedelta64[s]')\n",
    "#     time_df['dt'] = time_df[dtimes].mean(axis=1)\n",
    "#     time_df['dt_std'] = time_df[dtimes].std(axis=1)\n",
    "\n",
    "    return time_df"
   ]
  },
  {
   "cell_type": "code",
   "execution_count": 25,
   "metadata": {},
   "outputs": [
    {
     "name": "stdout",
     "output_type": "stream",
     "text": [
      "Index(['morning', 'day', 'evening'], dtype='object')\n"
     ]
    }
   ],
   "source": [
    "full_time = get_time_features(full_df[times])\n",
    "ft_columns = full_time.columns\n",
    "\n",
    "# hours_dum = pd.get_dummies(pd.cut(full_time['hour'], bins=4, labels=['1', '2', '3', '4']), prefix='spl', prefix_sep='')\n",
    "# full_time = pd.concat([full_time, hours_dum], axis=1)\n",
    "print(ft_columns)"
   ]
  },
  {
   "cell_type": "markdown",
   "metadata": {},
   "source": [
    "### get site features"
   ]
  },
  {
   "cell_type": "code",
   "execution_count": 26,
   "metadata": {},
   "outputs": [],
   "source": [
    "text_cols = ['sites_num']\n",
    "df_text = pd.DataFrame(columns=text_cols)\n",
    "df_text['sites_num'] = full_sites.astype('str').apply(lambda x: ' '.join(x), axis=1)"
   ]
  },
  {
   "cell_type": "markdown",
   "metadata": {},
   "source": [
    "### concat features"
   ]
  },
  {
   "cell_type": "code",
   "execution_count": 27,
   "metadata": {},
   "outputs": [
    {
     "data": {
      "text/html": [
       "<div>\n",
       "<style scoped>\n",
       "    .dataframe tbody tr th:only-of-type {\n",
       "        vertical-align: middle;\n",
       "    }\n",
       "\n",
       "    .dataframe tbody tr th {\n",
       "        vertical-align: top;\n",
       "    }\n",
       "\n",
       "    .dataframe thead th {\n",
       "        text-align: right;\n",
       "    }\n",
       "</style>\n",
       "<table border=\"1\" class=\"dataframe\">\n",
       "  <thead>\n",
       "    <tr style=\"text-align: right;\">\n",
       "      <th></th>\n",
       "      <th>sites_num</th>\n",
       "      <th>morning</th>\n",
       "      <th>day</th>\n",
       "      <th>evening</th>\n",
       "    </tr>\n",
       "    <tr>\n",
       "      <th>session_id</th>\n",
       "      <th></th>\n",
       "      <th></th>\n",
       "      <th></th>\n",
       "      <th></th>\n",
       "    </tr>\n",
       "  </thead>\n",
       "  <tbody>\n",
       "    <tr>\n",
       "      <th>204762</th>\n",
       "      <td>222 3346 3346 3359 55 2891 3346 0 0 0</td>\n",
       "      <td>0</td>\n",
       "      <td>0</td>\n",
       "      <td>1</td>\n",
       "    </tr>\n",
       "  </tbody>\n",
       "</table>\n",
       "</div>"
      ],
      "text/plain": [
       "                                        sites_num  morning  day  evening\n",
       "session_id                                                              \n",
       "204762      222 3346 3346 3359 55 2891 3346 0 0 0        0    0        1"
      ]
     },
     "execution_count": 27,
     "metadata": {},
     "output_type": "execute_result"
    }
   ],
   "source": [
    "X_train = pd.concat([df_text.iloc[:idx_split], full_time.iloc[:idx_split]], axis=1)\n",
    "X_test = pd.concat([df_text.iloc[idx_split:], full_time.iloc[idx_split:]], axis=1)\n",
    "\n",
    "X_train.tail(1)"
   ]
  },
  {
   "cell_type": "code",
   "execution_count": 28,
   "metadata": {
    "scrolled": true
   },
   "outputs": [
    {
     "data": {
      "text/plain": [
       "Index(['sites_num', 'morning', 'day', 'evening'], dtype='object')"
      ]
     },
     "execution_count": 28,
     "metadata": {},
     "output_type": "execute_result"
    }
   ],
   "source": [
    "X_train.columns"
   ]
  },
  {
   "cell_type": "markdown",
   "metadata": {},
   "source": [
    "# Pipeline"
   ]
  },
  {
   "cell_type": "code",
   "execution_count": 29,
   "metadata": {},
   "outputs": [],
   "source": [
    "class TextSelector(BaseEstimator, TransformerMixin):\n",
    "    \"\"\"\n",
    "    Transformer to select a single column from the data frame to perform additional transformations on\n",
    "    Use on text columns in the data\n",
    "    \"\"\"\n",
    "    def __init__(self, key):\n",
    "        self.key = key\n",
    "\n",
    "    def fit(self, X, y=None):\n",
    "        return self\n",
    "\n",
    "    def transform(self, X):\n",
    "        return X[self.key]\n",
    "    \n",
    "class NumberSelector(BaseEstimator, TransformerMixin):\n",
    "    \"\"\"\n",
    "    Transformer to select a single column from the data frame to perform additional transformations on\n",
    "    Use on numeric columns in the data\n",
    "    \"\"\"\n",
    "    def __init__(self, key):\n",
    "        self.key = key\n",
    "\n",
    "    def fit(self, X, y=None):\n",
    "        return self\n",
    "\n",
    "    def transform(self, X):\n",
    "        return X[self.key]"
   ]
  },
  {
   "cell_type": "code",
   "execution_count": 110,
   "metadata": {},
   "outputs": [],
   "source": [
    "pl_text_tfidf = Pipeline([\n",
    "                ('select', TextSelector(key='sites_num')),\n",
    "#                 ('tfidf', TfidfVectorizer(max_df=0.2, max_features=8000, smooth_idf=True, sublinear_tf=True)),\n",
    "#                 ('tfidf', TfidfVectorizer(ngram_range=(1, 3), max_features=50000))\n",
    "                ('tfidf', TfidfVectorizer(ngram_range=(1, 3), max_features=50000, \n",
    "                                          smooth_idf=True, binary=True, sublinear_tf=True))\n",
    "#                     ('tfidf', TfidfVectorizer(ngram_range=(1, 3), max_features=30000, max_df=0.15))\n",
    "                ])\n",
    "\n",
    "pl_text_count = Pipeline([\n",
    "                ('select', TextSelector(key='sites_num')),\n",
    "                ('count', CountVectorizer(ngram_range=(1, 3), max_features=50000))\n",
    "                ])\n",
    "\n",
    "pl_time = Pipeline([\n",
    "                ('select', NumberSelector(key=ft_columns))\n",
    "                ])\n",
    "\n",
    "pl_time_scale = Pipeline([\n",
    "                ('select', NumberSelector(key=ft_columns)),\n",
    "                ('scale', StandardScaler())\n",
    "                ])\n",
    "\n",
    "pl_ica = Pipeline([\n",
    "            ('select', NumberSelector(key=ft_columns)),\n",
    "            ('scale', StandardScaler()),\n",
    "            ('ica', FastICA(n_components=3, random_state=17))\n",
    "            ])\n",
    "# sklearn.decomposition.TruncatedSVD\n",
    "\n",
    "feats = FeatureUnion([\n",
    "                    ('pl_text', pl_text_tfidf), \n",
    "#                     ('pl_time', pl_time),\n",
    "                    ('pl_time_scale', pl_time_scale)\n",
    "                    ])\n",
    "\n",
    "\n",
    "feats_ns = FeatureUnion([\n",
    "                    ('pl_text', pl_text_tfidf), \n",
    "                    ('pl_time', pl_time),\n",
    "#                     ('pl_time_scale', pl_time_scale)\n",
    "                    ])\n",
    "\n",
    "feats_all = FeatureUnion([\n",
    "                    ('pl_text', pl_text_tfidf), \n",
    "                    ('pl_time', pl_time),\n",
    "                    ('pl_time_scale', pl_time_scale)\n",
    "                    ])\n",
    "\n",
    "pl = Pipeline([\n",
    "                ('feats', feats),\n",
    "                ('clf', LogisticRegression(random_state=17))\n",
    "              ])\n",
    "\n",
    "pl_ns = Pipeline([\n",
    "                ('feats', feats_ns),\n",
    "                ('clf', LogisticRegression(random_state=17))\n",
    "              ])\n",
    "\n",
    "pl_all = Pipeline([\n",
    "                ('feats', feats_all),\n",
    "                ('clf', LogisticRegression(random_state=17))\n",
    "              ])"
   ]
  },
  {
   "cell_type": "code",
   "execution_count": 58,
   "metadata": {
    "collapsed": true
   },
   "outputs": [
    {
     "data": {
      "text/plain": [
       "['feats__pl_text__tfidf',\n",
       " 'feats__pl_text__tfidf__analyzer',\n",
       " 'feats__pl_text__tfidf__binary',\n",
       " 'feats__pl_text__tfidf__decode_error',\n",
       " 'feats__pl_text__tfidf__dtype',\n",
       " 'feats__pl_text__tfidf__encoding',\n",
       " 'feats__pl_text__tfidf__input',\n",
       " 'feats__pl_text__tfidf__lowercase',\n",
       " 'feats__pl_text__tfidf__max_df',\n",
       " 'feats__pl_text__tfidf__max_features',\n",
       " 'feats__pl_text__tfidf__min_df',\n",
       " 'feats__pl_text__tfidf__ngram_range',\n",
       " 'feats__pl_text__tfidf__norm',\n",
       " 'feats__pl_text__tfidf__preprocessor',\n",
       " 'feats__pl_text__tfidf__smooth_idf',\n",
       " 'feats__pl_text__tfidf__stop_words',\n",
       " 'feats__pl_text__tfidf__strip_accents',\n",
       " 'feats__pl_text__tfidf__sublinear_tf',\n",
       " 'feats__pl_text__tfidf__token_pattern',\n",
       " 'feats__pl_text__tfidf__tokenizer',\n",
       " 'feats__pl_text__tfidf__use_idf',\n",
       " 'feats__pl_text__tfidf__vocabulary']"
      ]
     },
     "execution_count": 58,
     "metadata": {},
     "output_type": "execute_result"
    }
   ],
   "source": [
    "[x for x in pl_ns.get_params().keys() if 'tfidf' in x]"
   ]
  },
  {
   "cell_type": "code",
   "execution_count": 126,
   "metadata": {},
   "outputs": [
    {
     "name": "stdout",
     "output_type": "stream",
     "text": [
      "Fitting 10 folds for each of 4 candidates, totalling 40 fits\n"
     ]
    },
    {
     "name": "stderr",
     "output_type": "stream",
     "text": [
      "[Parallel(n_jobs=-1)]: Done  40 out of  40 | elapsed:  2.1min finished\n"
     ]
    },
    {
     "name": "stdout",
     "output_type": "stream",
     "text": [
      "{'clf__C': 2.326305067153626} 0.9261085040325898\n",
      "CPU times: user 28.5 s, sys: 795 ms, total: 29.3 s\n",
      "Wall time: 2min 20s\n"
     ]
    }
   ],
   "source": [
    "%%time\n",
    "\n",
    "params = {\n",
    "    'clf__C': np.logspace(-0.3, .7, 4),   # np.logspace(-1, 1, 6) \n",
    "#     'feats__pl_text__tfidf__max_df': [0.15],\n",
    "#     'feats__pl_text__tfidf__min_df': np.logspace(-5, -1, 5),\n",
    "#     'feats__pl_text__tfidf__ngram_range': [(1, 1), (1, 2), (1, 3), (1, 4)]\n",
    "#     'feats__pl_text__tfidf__max_features': [30000, 50000, 70000]# np.arange(10000, 100000, 20000)\n",
    "#     'feats__pl_text__tfidf__smooth_idf': [True, False],\n",
    "#     'feats__pl_text__tfidf__sublinear_tf': [True, False],\n",
    "#     'feats__pl_text__tfidf__binary': [True, False]\n",
    "    \n",
    "        }\n",
    "\n",
    "time_split = TimeSeriesSplit(n_splits=10)\n",
    "\n",
    "clf = GridSearchCV(pl_ns, params, cv=time_split, verbose=1, scoring='roc_auc', n_jobs=-1)\n",
    "\n",
    "clf.fit(X_train, y_train)\n",
    "\n",
    "print(clf.best_params_, clf.best_score_)"
   ]
  },
  {
   "cell_type": "code",
   "execution_count": 127,
   "metadata": {},
   "outputs": [
    {
     "data": {
      "image/png": "[encoded data removed]",
      "text/plain": [
       "<Figure size 1008x720 with 4 Axes>"
      ]
     },
     "metadata": {
      "needs_background": "light"
     },
     "output_type": "display_data"
    }
   ],
   "source": [
    "results, cv_results = analyze_results(clf.cv_results_)"
   ]
  },
  {
   "cell_type": "code",
   "execution_count": 128,
   "metadata": {},
   "outputs": [
    {
     "data": {
      "text/html": [
       "<div>\n",
       "<style scoped>\n",
       "    .dataframe tbody tr th:only-of-type {\n",
       "        vertical-align: middle;\n",
       "    }\n",
       "\n",
       "    .dataframe tbody tr th {\n",
       "        vertical-align: top;\n",
       "    }\n",
       "\n",
       "    .dataframe thead th {\n",
       "        text-align: right;\n",
       "    }\n",
       "</style>\n",
       "<table border=\"1\" class=\"dataframe\">\n",
       "  <thead>\n",
       "    <tr style=\"text-align: right;\">\n",
       "      <th></th>\n",
       "      <th>clf__C</th>\n",
       "      <th>mean_score</th>\n",
       "      <th>std_score</th>\n",
       "      <th>rank</th>\n",
       "    </tr>\n",
       "  </thead>\n",
       "  <tbody>\n",
       "    <tr>\n",
       "      <th>2</th>\n",
       "      <td>2.326305</td>\n",
       "      <td>0.926109</td>\n",
       "      <td>0.047262</td>\n",
       "      <td>1</td>\n",
       "    </tr>\n",
       "    <tr>\n",
       "      <th>3</th>\n",
       "      <td>5.011872</td>\n",
       "      <td>0.925368</td>\n",
       "      <td>0.048055</td>\n",
       "      <td>2</td>\n",
       "    </tr>\n",
       "    <tr>\n",
       "      <th>1</th>\n",
       "      <td>1.079775</td>\n",
       "      <td>0.924156</td>\n",
       "      <td>0.047234</td>\n",
       "      <td>3</td>\n",
       "    </tr>\n",
       "    <tr>\n",
       "      <th>0</th>\n",
       "      <td>0.501187</td>\n",
       "      <td>0.919484</td>\n",
       "      <td>0.048907</td>\n",
       "      <td>4</td>\n",
       "    </tr>\n",
       "  </tbody>\n",
       "</table>\n",
       "</div>"
      ],
      "text/plain": [
       "     clf__C  mean_score  std_score  rank\n",
       "2  2.326305    0.926109   0.047262     1\n",
       "3  5.011872    0.925368   0.048055     2\n",
       "1  1.079775    0.924156   0.047234     3\n",
       "0  0.501187    0.919484   0.048907     4"
      ]
     },
     "execution_count": 128,
     "metadata": {},
     "output_type": "execute_result"
    }
   ],
   "source": [
    "# clf C\n",
    "results.sort_values('rank')"
   ]
  },
  {
   "cell_type": "code",
   "execution_count": 129,
   "metadata": {},
   "outputs": [],
   "source": [
    "clf.refit\n",
    "\n",
    "pred = clf.predict_proba(X_test)[:, 1]\n",
    "\n",
    "write_to_submission_file(pred, 'pred_2910_tf_3.csv')"
   ]
  },
  {
   "cell_type": "code",
   "execution_count": null,
   "metadata": {},
   "outputs": [],
   "source": []
  },
  {
   "cell_type": "markdown",
   "metadata": {},
   "source": [
    "#### PUBLIC SCORE 0.94730\n",
    "\n",
    "`pl_text_tfidf = Pipeline([('select', TextSelector(key='sites_num')),\n",
    "                ('tfidf', TfidfVectorizer(ngram_range=(1, 3), max_features=50000,   \n",
    "                smooth_idf=True, binary=True, sublinear_tf=True))])`  \n",
    "{'clf__C': 2.326305067153626} 0.9261085040325898  \n",
    "rs = 17  \n",
    "Index(['sites_num', 'morning', 'day', 'evening'], dtype='object')  "
   ]
  },
  {
   "cell_type": "code",
   "execution_count": null,
   "metadata": {},
   "outputs": [],
   "source": []
  }
 ],
 "metadata": {
  "kernelspec": {
   "display_name": "Python 3",
   "language": "python",
   "name": "python3"
  },
  "language_info": {
   "codemirror_mode": {
    "name": "ipython",
    "version": 3
   },
   "file_extension": ".py",
   "mimetype": "text/x-python",
   "name": "python",
   "nbconvert_exporter": "python",
   "pygments_lexer": "ipython3",
   "version": "3.7.0"
  }
 },
 "nbformat": 4,
 "nbformat_minor": 2
}
