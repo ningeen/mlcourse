{
 "cells": [
  {
   "cell_type": "code",
   "execution_count": 1,
   "metadata": {},
   "outputs": [],
   "source": [
    "# Import libraries and set desired options\n",
    "\n",
    "from __future__ import division, print_function\n",
    "# Disable Anaconda warnings\n",
    "import warnings\n",
    "warnings.filterwarnings('ignore')\n",
    "%matplotlib inline\n",
    "from matplotlib import pyplot as plt\n",
    "import seaborn as sns\n",
    "\n",
    "import os\n",
    "import pickle\n",
    "import numpy as np\n",
    "import pandas as pd\n",
    "from scipy.sparse import csr_matrix\n",
    "from scipy.sparse import hstack\n",
    "from sklearn.preprocessing import StandardScaler, LabelEncoder, MinMaxScaler, OneHotEncoder\n",
    "from sklearn.metrics import roc_auc_score\n",
    "from sklearn.linear_model import LogisticRegression, LogisticRegressionCV\n",
    "\n",
    "from sklearn.model_selection import TimeSeriesSplit, cross_val_score, GridSearchCV, RandomizedSearchCV, KFold\n",
    "from sklearn.feature_extraction.text import TfidfVectorizer, CountVectorizer\n",
    "from sklearn.base import BaseEstimator, TransformerMixin\n",
    "from sklearn.pipeline import Pipeline, FeatureUnion\n",
    "\n",
    "from sklearn.decomposition import FastICA, TruncatedSVD\n",
    "\n",
    "from sklearn.metrics.pairwise import cosine_similarity, cosine_distances, euclidean_distances, manhattan_distances"
   ]
  },
  {
   "cell_type": "code",
   "execution_count": 2,
   "metadata": {},
   "outputs": [],
   "source": [
    "# A helper function for writing predictions to a file\n",
    "def write_to_submission_file(predicted_labels, out_file,\n",
    "                             target='target', index_label=\"session_id\"):\n",
    "    predicted_df = pd.DataFrame(predicted_labels,\n",
    "                                index = np.arange(1, predicted_labels.shape[0] + 1),\n",
    "                                columns=[target])\n",
    "    predicted_df.to_csv(out_file, index_label=index_label)"
   ]
  },
  {
   "cell_type": "code",
   "execution_count": 3,
   "metadata": {},
   "outputs": [],
   "source": [
    "def analyze_results(cv_res):\n",
    "    import re \n",
    "    \n",
    "    results = pd.DataFrame(cv_res['params'])\n",
    "    results['mean_score'] = cv_res['mean_test_score']\n",
    "    results['std_score'] = cv_res['std_test_score']\n",
    "    results['rank'] = cv_res['rank_test_score']\n",
    "#     results = results.sort_values('rank')\n",
    "    \n",
    "    n_splits = len(cv_res['split0_test_score'])\n",
    "    cv_results = np.r_[[clf.cv_results_[k] for k in clf.cv_results_.keys() if re.match(r'split\\d+_test', k)]]\n",
    "    cv_results = pd.DataFrame(cv_results)\n",
    "    melted = cv_results.melt()\n",
    "    melted['split_num'] = list(range(cv_results.shape[0])) * cv_results.shape[1]\n",
    "    \n",
    "    fig, axes = plt.subplots(2, 2, figsize=(14, 10), gridspec_kw={'width_ratios':[2, 1]})\n",
    "    \n",
    "    sns.barplot(x='split_num', y='value', hue='variable', data=melted, ax=axes[0, 0]);\n",
    "    axes[0, 0].set_ylim(melted['value'].min()-.01, 1);\n",
    "    \n",
    "    sns.violinplot(x='variable', y='value', hue='variable', data=cv_results.melt(), ax=axes[0, 1], dodge=False);\n",
    "    sns.boxplot(x='variable', y='value', data=melted, ax=axes[1, 0]);\n",
    "    sns.barplot(x=results.index, y='std_score', data=results, ax=axes[1, 1]);\n",
    "    \n",
    "    sns.despine()\n",
    "    return results, cv_results"
   ]
  },
  {
   "cell_type": "markdown",
   "metadata": {},
   "source": [
    "## Load data"
   ]
  },
  {
   "cell_type": "code",
   "execution_count": 4,
   "metadata": {
    "scrolled": true
   },
   "outputs": [
    {
     "name": "stdout",
     "output_type": "stream",
     "text": [
      "Websites total: 48371\n"
     ]
    }
   ],
   "source": [
    "# Load websites dictionary\n",
    "with open(r\"data/site_dic.pkl\", \"rb\") as input_file:\n",
    "    site_dict = pickle.load(input_file)\n",
    "\n",
    "# Create dataframe for the dictionary\n",
    "sites_dict = pd.DataFrame(list(site_dict.keys()), index=list(site_dict.values()), columns=['site'])\n",
    "\n",
    "print(u'Websites total:', sites_dict.shape[0])"
   ]
  },
  {
   "cell_type": "code",
   "execution_count": 5,
   "metadata": {},
   "outputs": [
    {
     "data": {
      "text/html": [
       "<div>\n",
       "<style scoped>\n",
       "    .dataframe tbody tr th:only-of-type {\n",
       "        vertical-align: middle;\n",
       "    }\n",
       "\n",
       "    .dataframe tbody tr th {\n",
       "        vertical-align: top;\n",
       "    }\n",
       "\n",
       "    .dataframe thead th {\n",
       "        text-align: right;\n",
       "    }\n",
       "</style>\n",
       "<table border=\"1\" class=\"dataframe\">\n",
       "  <thead>\n",
       "    <tr style=\"text-align: right;\">\n",
       "      <th></th>\n",
       "      <th>data</th>\n",
       "      <th>user</th>\n",
       "    </tr>\n",
       "  </thead>\n",
       "  <tbody>\n",
       "    <tr>\n",
       "      <th>0</th>\n",
       "      <td>270 270 270 21 21 7832 21 7832 30 7832 29 7832...</td>\n",
       "      <td>Alice_log</td>\n",
       "    </tr>\n",
       "    <tr>\n",
       "      <th>1</th>\n",
       "      <td>63 66 53 52 49 52 21 196 52 197 52 55 56 55 58...</td>\n",
       "      <td>user2227</td>\n",
       "    </tr>\n",
       "    <tr>\n",
       "      <th>2</th>\n",
       "      <td>1 63 167 23 21 23 22 812 22 676 39 21 21 679 2...</td>\n",
       "      <td>user1666</td>\n",
       "    </tr>\n",
       "  </tbody>\n",
       "</table>\n",
       "</div>"
      ],
      "text/plain": [
       "                                                data       user\n",
       "0  270 270 270 21 21 7832 21 7832 30 7832 29 7832...  Alice_log\n",
       "1  63 66 53 52 49 52 21 196 52 197 52 55 56 55 58...   user2227\n",
       "2  1 63 167 23 21 23 22 812 22 676 39 21 21 679 2...   user1666"
      ]
     },
     "execution_count": 5,
     "metadata": {},
     "output_type": "execute_result"
    }
   ],
   "source": [
    "df_users = pd.read_csv('data/data_users.csv', index_col=0)\n",
    "df_users.head(3)"
   ]
  },
  {
   "cell_type": "code",
   "execution_count": 6,
   "metadata": {},
   "outputs": [],
   "source": [
    "df_alice = pd.read_csv('data/Alice_log.csv')\n",
    "df_alice['site'] = df_alice['site'].map(sites_dict.reset_index().set_index('site').iloc[:, 0])\n",
    "\n",
    "top_sites = dict()\n",
    "for i in [5, 10, 25, 50, 100, 250, 500, 1000]:\n",
    "    top_sites['top'+str(i)] = df_alice['site'].value_counts()[:i].index"
   ]
  },
  {
   "cell_type": "code",
   "execution_count": 66,
   "metadata": {},
   "outputs": [],
   "source": [
    "# Read the training and test data sets\n",
    "train_df = pd.read_csv('data/train_sessions.csv',\n",
    "                       index_col='session_id')\n",
    "# train_df = pd.read_csv('data/data_full.csv', index_col=0)\n",
    "# train_df = train_df.drop(['for_folds', 'user'], axis=1)\n",
    "\n",
    "test_df = pd.read_csv('data/test_sessions.csv',\n",
    "                      index_col='session_id')"
   ]
  },
  {
   "cell_type": "code",
   "execution_count": 67,
   "metadata": {},
   "outputs": [],
   "source": [
    "# Switch time1, ..., time10 columns to datetime type\n",
    "times = ['time%s' % i for i in range(1, 11)]\n",
    "train_df[times] = train_df[times].apply(pd.to_datetime)\n",
    "test_df[times] = test_df[times].apply(pd.to_datetime)\n",
    "\n",
    "# Sort the data by time\n",
    "train_df = train_df.sort_values(by='time1')\n",
    "\n",
    "# Change site1, ..., site10 columns type to integer and fill NA-values with zeros\n",
    "sites = ['site%s' % i for i in range(1, 11)]\n",
    "train_df[sites] = train_df[sites].fillna(0).astype('int')\n",
    "test_df[sites] = test_df[sites].fillna(0).astype('int')"
   ]
  },
  {
   "cell_type": "code",
   "execution_count": 68,
   "metadata": {},
   "outputs": [],
   "source": [
    "# Our target variable\n",
    "y_train = train_df['target']\n",
    "\n",
    "# United dataframe of the initial data \n",
    "full_df = pd.concat([train_df.drop('target', axis=1), test_df])\n",
    "\n",
    "# Dataframe with indices of visited websites in session\n",
    "full_sites = full_df[sites]\n",
    "\n",
    "# Index to split the training and test data sets\n",
    "idx_split = train_df.shape[0]"
   ]
  },
  {
   "cell_type": "markdown",
   "metadata": {},
   "source": [
    "### get time features"
   ]
  },
  {
   "cell_type": "code",
   "execution_count": 69,
   "metadata": {},
   "outputs": [],
   "source": [
    "def get_time_features(df):\n",
    "    time_df = pd.DataFrame(index=df.index)\n",
    "    \n",
    "#     hour = df['time1'].apply(lambda ts: ts.hour)\n",
    "#     time_df['orig_spl0'] = ((hour >= 7) & (hour <= 11)).astype('int')\n",
    "#     time_df['orig_spl1'] = ((hour >= 12) & (hour <= 18)).astype('int')\n",
    "#     time_df['orig_spl2'] = ((hour >= 19) & (hour <= 23)).astype('int')\n",
    "\n",
    "#     month = df['time1'].dt.month\n",
    "#     month[month<=2] = month[month<=2] + 12\n",
    "#     cutted = pd.cut(month, bins=[0, 5, 8, 11, 100], labels=[str(num) for num in range(4)])\n",
    "#     month_dum = pd.get_dummies(cutted, prefix='month', prefix_sep='')\n",
    "#     time_df = pd.concat([time_df, month_dum], axis=1)\n",
    "    \n",
    "    \n",
    "    \n",
    "    time_df['total_months'] = (df['time1'].dt.year - df['time1'].dt.year.min()) * 12 + df['time1'].dt.month\n",
    "    time_df['minutes'] = df['time1'].dt.hour * 60 + df['time1'].dt.minute\n",
    "    time_df['minutes_sin'] = np.sin(2*np.pi*time_df['minutes']/1440.)\n",
    "    time_df['minutes_cos'] = np.cos(2*np.pi*time_df['minutes']/1440.)\n",
    "         \n",
    "    for bins_spl in [[-1, 720, 1140, 100000]]:\n",
    "        cutted = pd.cut(time_df['minutes'], bins=bins_spl, labels=[str(num)+'b' for num in range(len(bins_spl)-1)])\n",
    "        hours_dum = pd.get_dummies(cutted, prefix=str(len(bins_spl))+'_spl', prefix_sep='')\n",
    "        time_df = pd.concat([time_df, hours_dum], axis=1)\n",
    "\n",
    "    time_df['dow'] = df['time1'].apply(lambda ts: ts.date().weekday())\n",
    "    dtimes = ['dt'+str(i) for i in range(2, 11)]\n",
    "    for i in range(2, 11):\n",
    "        time_df['dt'+str(i)] = (df['time'+str(i)] - df['time'+str(i-1)]).astype('timedelta64[s]')\n",
    "    time_df['dt'] = time_df[dtimes].mean(axis=1).fillna(0)#.apply(np.log1p)\n",
    "    time_df['dt_std'] = time_df[dtimes].std(axis=1).fillna(0)#.apply(np.log1p)\n",
    "    \n",
    "    time_df = pd.concat([time_df, pd.get_dummies(df['time1'].dt.hour, prefix='h')], axis=1)\n",
    "    time_df = pd.concat([time_df, pd.get_dummies(time_df['dow'], prefix='dow')], axis=1)\n",
    "    \n",
    "    time_df['h_12_13'] = time_df['h_12'] | time_df['h_13']\n",
    "    time_df['h_16_17_18'] = time_df['h_16'] | time_df['h_17'] | time_df['h_18']\n",
    "    time_df['h_not'] = ~(time_df['h_12_13'] | time_df['h_16_17_18'])\n",
    "    \n",
    "    time_df['dow_0_1'] = time_df['dow_0'] | time_df['dow_1']\n",
    "    time_df['dow_2_3_4'] = time_df['dow_2'] | time_df['dow_3'] | time_df['dow_4']\n",
    "    time_df['dow_5_6'] = time_df['dow_5'] | time_df['dow_6']\n",
    "    time_df['dow_not'] = ~time_df['dow_0_1']\n",
    "    \n",
    "    for i in range(2, 11):\n",
    "        del time_df['dt'+str(i)]\n",
    "\n",
    "    return time_df"
   ]
  },
  {
   "cell_type": "code",
   "execution_count": 70,
   "metadata": {},
   "outputs": [
    {
     "name": "stdout",
     "output_type": "stream",
     "text": [
      "Index(['total_months', 'minutes', 'minutes_sin', 'minutes_cos', '4_spl0b',\n",
      "       '4_spl1b', '4_spl2b', 'dow', 'dt', 'dt_std', 'h_7', 'h_8', 'h_9',\n",
      "       'h_10', 'h_11', 'h_12', 'h_13', 'h_14', 'h_15', 'h_16', 'h_17', 'h_18',\n",
      "       'h_19', 'h_20', 'h_21', 'h_22', 'h_23', 'dow_0', 'dow_1', 'dow_2',\n",
      "       'dow_3', 'dow_4', 'dow_5', 'dow_6', 'h_12_13', 'h_16_17_18', 'h_not',\n",
      "       'dow_0_1', 'dow_2_3_4', 'dow_5_6', 'dow_not'],\n",
      "      dtype='object')\n"
     ]
    }
   ],
   "source": [
    "full_time = get_time_features(full_df[times])\n",
    "ft_columns = full_time.columns\n",
    "\n",
    "# hours_dum = pd.get_dummies(pd.cut(full_time['hour'], bins=4, labels=['1', '2', '3', '4']), prefix='spl', prefix_sep='')\n",
    "# full_time = pd.concat([full_time, hours_dum], axis=1)\n",
    "print(ft_columns)"
   ]
  },
  {
   "cell_type": "code",
   "execution_count": 55,
   "metadata": {},
   "outputs": [
    {
     "data": {
      "image/png": "[encoded data removed]",
      "text/plain": [
       "<Figure size 864x360 with 1 Axes>"
      ]
     },
     "metadata": {
      "needs_background": "light"
     },
     "output_type": "display_data"
    }
   ],
   "source": [
    "full_time['minutes'].hist(bins=150, figsize=(12, 5), grid=False);\n",
    "# full_time['dt_std'].apply(np.log1p).hist(bins=150, figsize=(12, 5), grid=False);\n",
    "# sns.distplot(full_time['minutes'], bins=150);"
   ]
  },
  {
   "cell_type": "markdown",
   "metadata": {},
   "source": [
    "### get site features"
   ]
  },
  {
   "cell_type": "code",
   "execution_count": 71,
   "metadata": {},
   "outputs": [],
   "source": [
    "text_cols = ['sites_num']\n",
    "df_text = pd.DataFrame(columns=text_cols)\n",
    "df_text['sites_num'] = full_sites.astype('str').apply(lambda x: ' '.join(x), axis=1)\n",
    "\n",
    "for k in top_sites.keys():\n",
    "    df_text[k] = full_sites.isin(top_sites[k]).sum(axis=1)"
   ]
  },
  {
   "cell_type": "markdown",
   "metadata": {},
   "source": [
    "### pairs feat"
   ]
  },
  {
   "cell_type": "code",
   "execution_count": 72,
   "metadata": {},
   "outputs": [],
   "source": [
    "pairs_tfidf = TfidfVectorizer(ngram_range=(1, 3), max_features=50000)\n",
    "u_df = pairs_tfidf.fit_transform(df_users['data'])\n",
    "s_df = pairs_tfidf.transform(df_text['sites_num'])\n",
    "df_text['cosd'] = cosine_distances(s_df, u_df[0])\n",
    "df_text['cos'] = cosine_similarity(s_df, u_df[0])\n",
    "df_text['euc'] = euclidean_distances(s_df, u_df[0])\n",
    "df_text['manh'] = manhattan_distances(s_df, u_df[0])\n",
    "\n",
    "df_text['cosd'] = df_text['cosd'].apply(lambda x:np.power(x, 40))\n",
    "df_text['cos'] = df_text['cos'].apply(lambda x:np.power(x, .2))\n",
    "df_text['euc'] = df_text['euc'].apply(lambda x:np.power(x, 50))"
   ]
  },
  {
   "cell_type": "markdown",
   "metadata": {},
   "source": [
    "### concat features"
   ]
  },
  {
   "cell_type": "code",
   "execution_count": 73,
   "metadata": {},
   "outputs": [
    {
     "data": {
      "text/html": [
       "<div>\n",
       "<style scoped>\n",
       "    .dataframe tbody tr th:only-of-type {\n",
       "        vertical-align: middle;\n",
       "    }\n",
       "\n",
       "    .dataframe tbody tr th {\n",
       "        vertical-align: top;\n",
       "    }\n",
       "\n",
       "    .dataframe thead th {\n",
       "        text-align: right;\n",
       "    }\n",
       "</style>\n",
       "<table border=\"1\" class=\"dataframe\">\n",
       "  <thead>\n",
       "    <tr style=\"text-align: right;\">\n",
       "      <th></th>\n",
       "      <th>sites_num</th>\n",
       "      <th>top5</th>\n",
       "      <th>top10</th>\n",
       "      <th>top25</th>\n",
       "      <th>top50</th>\n",
       "      <th>top100</th>\n",
       "      <th>top250</th>\n",
       "      <th>top500</th>\n",
       "      <th>top1000</th>\n",
       "      <th>cosd</th>\n",
       "      <th>...</th>\n",
       "      <th>dow_4</th>\n",
       "      <th>dow_5</th>\n",
       "      <th>dow_6</th>\n",
       "      <th>h_12_13</th>\n",
       "      <th>h_16_17_18</th>\n",
       "      <th>h_not</th>\n",
       "      <th>dow_0_1</th>\n",
       "      <th>dow_2_3_4</th>\n",
       "      <th>dow_5_6</th>\n",
       "      <th>dow_not</th>\n",
       "    </tr>\n",
       "    <tr>\n",
       "      <th>session_id</th>\n",
       "      <th></th>\n",
       "      <th></th>\n",
       "      <th></th>\n",
       "      <th></th>\n",
       "      <th></th>\n",
       "      <th></th>\n",
       "      <th></th>\n",
       "      <th></th>\n",
       "      <th></th>\n",
       "      <th></th>\n",
       "      <th></th>\n",
       "      <th></th>\n",
       "      <th></th>\n",
       "      <th></th>\n",
       "      <th></th>\n",
       "      <th></th>\n",
       "      <th></th>\n",
       "      <th></th>\n",
       "      <th></th>\n",
       "      <th></th>\n",
       "      <th></th>\n",
       "    </tr>\n",
       "  </thead>\n",
       "  <tbody>\n",
       "    <tr>\n",
       "      <th>204762</th>\n",
       "      <td>222 3346 3346 3359 55 2891 3346 0 0 0</td>\n",
       "      <td>0</td>\n",
       "      <td>0</td>\n",
       "      <td>0</td>\n",
       "      <td>0</td>\n",
       "      <td>0</td>\n",
       "      <td>0</td>\n",
       "      <td>0</td>\n",
       "      <td>0</td>\n",
       "      <td>1.0</td>\n",
       "      <td>...</td>\n",
       "      <td>0</td>\n",
       "      <td>0</td>\n",
       "      <td>0</td>\n",
       "      <td>0</td>\n",
       "      <td>0</td>\n",
       "      <td>255</td>\n",
       "      <td>0</td>\n",
       "      <td>1</td>\n",
       "      <td>0</td>\n",
       "      <td>255</td>\n",
       "    </tr>\n",
       "  </tbody>\n",
       "</table>\n",
       "<p>1 rows × 54 columns</p>\n",
       "</div>"
      ],
      "text/plain": [
       "                                        sites_num  top5  top10  top25  top50  \\\n",
       "session_id                                                                     \n",
       "204762      222 3346 3346 3359 55 2891 3346 0 0 0     0      0      0      0   \n",
       "\n",
       "            top100  top250  top500  top1000  cosd   ...     dow_4  dow_5  \\\n",
       "session_id                                          ...                    \n",
       "204762           0       0       0        0   1.0   ...         0      0   \n",
       "\n",
       "            dow_6  h_12_13  h_16_17_18  h_not  dow_0_1  dow_2_3_4  dow_5_6  \\\n",
       "session_id                                                                   \n",
       "204762          0        0           0    255        0          1        0   \n",
       "\n",
       "            dow_not  \n",
       "session_id           \n",
       "204762          255  \n",
       "\n",
       "[1 rows x 54 columns]"
      ]
     },
     "execution_count": 73,
     "metadata": {},
     "output_type": "execute_result"
    }
   ],
   "source": [
    "X_train = pd.concat([df_text.iloc[:idx_split], full_time.iloc[:idx_split]], axis=1)\n",
    "X_test = pd.concat([df_text.iloc[idx_split:], full_time.iloc[idx_split:]], axis=1)\n",
    "\n",
    "to_ignore = [2, 4]\n",
    "mask = ~(X_train['total_months'].isin(to_ignore) & y_train==1)\n",
    "\n",
    "X_train = X_train.loc[mask]\n",
    "y_train = y_train.loc[mask]\n",
    "\n",
    "X_train.tail(1)"
   ]
  },
  {
   "cell_type": "markdown",
   "metadata": {},
   "source": [
    "# Pipeline"
   ]
  },
  {
   "cell_type": "code",
   "execution_count": 24,
   "metadata": {},
   "outputs": [],
   "source": [
    "def TSS(n_splits=10):\n",
    "    time_split = TimeSeriesSplit(n_splits=10)\n",
    "    myCViterator = list()\n",
    "    i = 0\n",
    "    for train_index, test_index in time_split.split(X_train):\n",
    "        if i > 1:\n",
    "            myCViterator.append((train_index, test_index))\n",
    "        i += 1\n",
    "    return myCViterator"
   ]
  },
  {
   "cell_type": "code",
   "execution_count": 25,
   "metadata": {},
   "outputs": [],
   "source": [
    "# class ChooseColsDF(BaseEstimator):\n",
    "#     \"\"\"\n",
    "#     Transformer to select a single column from the data frame to perform additional transformations on\n",
    "#     Use on text columns in the data\n",
    "#     \"\"\"\n",
    "#     def __init__(self, to_ignore):\n",
    "#         self.to_ignore = to_ignore\n",
    "        \n",
    "#     def fit(self, X, y=None):\n",
    "#         pass\n",
    "    \n",
    "#     def transform(self, X):\n",
    "#         pass\n",
    "\n",
    "#     def fit_transform(self, X, y=None):\n",
    "#         if not self.to_ignore:\n",
    "#             return X\n",
    "#         mask = ~(X['total_months'].isin(self.to_ignore) & y==1)\n",
    "#         return X.loc[mask], y.loc[mask]\n",
    "\n",
    "class TextSelector(BaseEstimator, TransformerMixin):\n",
    "    \"\"\"\n",
    "    Transformer to select a single column from the data frame to perform additional transformations on\n",
    "    Use on text columns in the data\n",
    "    \"\"\"\n",
    "    def __init__(self, key):\n",
    "        self.key = key\n",
    "\n",
    "    def fit(self, X, y=None):\n",
    "        return self\n",
    "\n",
    "    def transform(self, X):\n",
    "        return X[self.key]\n",
    "    \n",
    "class NumberSelector(BaseEstimator, TransformerMixin):\n",
    "    \"\"\"\n",
    "    Transformer to select a single column from the data frame to perform additional transformations on\n",
    "    Use on numeric columns in the data\n",
    "    \"\"\"\n",
    "    def __init__(self, key):\n",
    "        self.key = key\n",
    "\n",
    "    def fit(self, X, y=None):\n",
    "        return self\n",
    "\n",
    "    def transform(self, X):\n",
    "        return X[self.key]"
   ]
  },
  {
   "cell_type": "code",
   "execution_count": 39,
   "metadata": {},
   "outputs": [],
   "source": [
    "pl_text_tfidf = Pipeline([\n",
    "                ('select', TextSelector(key='sites_num')),\n",
    "#                 ('tfidf', TfidfVectorizer(max_df=0.2, max_features=8000, smooth_idf=True, sublinear_tf=True)),\n",
    "#                 ('tfidf', TfidfVectorizer(ngram_range=(1, 3), max_features=50000))\n",
    "                ('tfidf', TfidfVectorizer(ngram_range=(1, 3), max_features=50000, \n",
    "                                          smooth_idf=True, binary=True, sublinear_tf=True))\n",
    "#                     ('tfidf', TfidfVectorizer(ngram_range=(1, 3), max_features=30000, max_df=0.15))\n",
    "                ])\n",
    "\n",
    "pl_text_count = Pipeline([\n",
    "                ('select', TextSelector(key='sites_num')),\n",
    "                ('count', CountVectorizer(ngram_range=(1, 3), max_features=50000))\n",
    "                ])\n",
    "\n",
    "pl_time = Pipeline([\n",
    "                ('select', NumberSelector(key=['4_spl0b', '4_spl1b', '4_spl2b']))\n",
    "                ])\n",
    "\n",
    "pl_time_scale = Pipeline([\n",
    "                ('select', NumberSelector(key=['dow', 'dt'])),\n",
    "                ('scale', StandardScaler())\n",
    "#                 ('scale', MinMaxScaler())\n",
    "                ])\n",
    "\n",
    "pl_svd = Pipeline([\n",
    "            ('select', TextSelector(key='sites_num')),\n",
    "#             ('tfidf', TfidfVectorizer(ngram_range=(1, 3), max_features=50000, binary=True, sublinear_tf=True)),\n",
    "            ('tfidf', TfidfVectorizer(ngram_range=(1, 3), max_features=50000, binary=True, sublinear_tf=True)),\n",
    "            ('svd', TruncatedSVD(n_components=150, random_state=17))\n",
    "            ])\n",
    "# sklearn.decomposition.TruncatedSVD\n",
    "\n",
    "feats = FeatureUnion([\n",
    "                    ('pl_text', pl_text_tfidf), \n",
    "#                     ('pl_time', pl_time),\n",
    "                    ('pl_time_scale', pl_time_scale)\n",
    "                    ])\n",
    "\n",
    "\n",
    "feats_ns = FeatureUnion([\n",
    "                    ('pl_text', pl_text_tfidf), \n",
    "                    ('pl_time', pl_time),\n",
    "#                     ('pl_time_scale', pl_time_scale)\n",
    "                    ])\n",
    "\n",
    "feats_all = FeatureUnion([\n",
    "                    ('pl_text', pl_text_tfidf), \n",
    "                    ('pl_time', pl_time),\n",
    "                    ('pl_time_scale', pl_time_scale),\n",
    "#                     ('svd', pl_svd)\n",
    "                    ])\n",
    "\n",
    "pl = Pipeline([\n",
    "                ('feats', feats),\n",
    "                ('clf', LogisticRegression(C=3, random_state=17))\n",
    "              ])\n",
    "\n",
    "pl_ns = Pipeline([\n",
    "                ('feats', feats_ns),\n",
    "                ('clf', LogisticRegression(C=3, random_state=17))\n",
    "              ])\n",
    "\n",
    "pl_all = Pipeline([\n",
    "                ('feats', feats_all),\n",
    "                ('clf', LogisticRegression(C=3, random_state=17))\n",
    "              ])"
   ]
  },
  {
   "cell_type": "code",
   "execution_count": null,
   "metadata": {},
   "outputs": [],
   "source": [
    "[x for x in pl_all.get_params().keys() if 'h_' in x]"
   ]
  },
  {
   "cell_type": "code",
   "execution_count": 74,
   "metadata": {},
   "outputs": [
    {
     "data": {
      "text/plain": [
       "Index(['sites_num', 'top5', 'top10', 'top25', 'top50', 'top100', 'top250',\n",
       "       'top500', 'top1000', 'cosd', 'cos', 'euc', 'manh', 'total_months',\n",
       "       'minutes', 'minutes_sin', 'minutes_cos', '4_spl0b', '4_spl1b',\n",
       "       '4_spl2b', 'dow', 'dt', 'dt_std', 'h_7', 'h_8', 'h_9', 'h_10', 'h_11',\n",
       "       'h_12', 'h_13', 'h_14', 'h_15', 'h_16', 'h_17', 'h_18', 'h_19', 'h_20',\n",
       "       'h_21', 'h_22', 'h_23', 'dow_0', 'dow_1', 'dow_2', 'dow_3', 'dow_4',\n",
       "       'dow_5', 'dow_6', 'h_12_13', 'h_16_17_18', 'h_not', 'dow_0_1',\n",
       "       'dow_2_3_4', 'dow_5_6', 'dow_not'],\n",
       "      dtype='object')"
      ]
     },
     "execution_count": 74,
     "metadata": {},
     "output_type": "execute_result"
    }
   ],
   "source": [
    "X_train.columns"
   ]
  },
  {
   "cell_type": "code",
   "execution_count": 88,
   "metadata": {},
   "outputs": [
    {
     "data": {
      "text/plain": [
       "array([0.39810717, 0.54116953, 0.73564225, 1.        , 1.35935639,\n",
       "       1.8478498 , 2.51188643, 3.41454887, 4.64158883, 6.30957344])"
      ]
     },
     "execution_count": 88,
     "metadata": {},
     "output_type": "execute_result"
    }
   ],
   "source": [
    "np.logspace(-0.4, .8, 10)"
   ]
  },
  {
   "cell_type": "code",
   "execution_count": 90,
   "metadata": {
    "scrolled": true
   },
   "outputs": [
    {
     "name": "stdout",
     "output_type": "stream",
     "text": [
      "Fitting 8 folds for each of 10 candidates, totalling 80 fits\n"
     ]
    },
    {
     "name": "stderr",
     "output_type": "stream",
     "text": [
      "[Parallel(n_jobs=-1)]: Done  34 tasks      | elapsed:  2.7min\n",
      "[Parallel(n_jobs=-1)]: Done  80 out of  80 | elapsed:  6.6min finished\n"
     ]
    },
    {
     "name": "stdout",
     "output_type": "stream",
     "text": [
      "{'clf__C': 4.641588833612781, 'feats__pl_time__select__key': ['h_12_13', 'h_16_17_18', 'h_not', 'dow_0_1']} 0.9519896968084572\n",
      "CPU times: user 57.1 s, sys: 17.4 s, total: 1min 14s\n",
      "Wall time: 7min 1s\n"
     ]
    }
   ],
   "source": [
    "%%time\n",
    "\n",
    "params = {\n",
    "#     'feats__svd__svd__n_components': [150],\n",
    "#     'feats__svd__tfidf__ngram_range': [(1, 4)],\n",
    "#     'feats__svd__tfidf__max_features': [20000],\n",
    "#     'feats__svd__svd__random_state':[1, 5, 10, 15]\n",
    "#     'feats__svd__tfidf__max_df': [.2, .5, .8]\n",
    "    'clf__C': np.logspace(-0.4, .8, 10), #np.logspace(-0.1, 1, 10),  # np.logspace(-0.3, .7, 4),   # np.logspace(-1, 1, 6) \n",
    "#     'feats__pl_text__tfidf__max_df': [0.15],\n",
    "#     'feats__pl_text__tfidf__min_df': np.logspace(-5, -1, 5),\n",
    "#     'feats__pl_text__tfidf__ngram_range': [(1, 1), (1, 2), (1, 3), (1, 4)]\n",
    "#     'feats__pl_text__tfidf__max_features': [30000, 50000, 70000]# np.arange(10000, 100000, 20000)\n",
    "#     'feats__pl_text__tfidf__smooth_idf': [True, False],\n",
    "#     'feats__pl_text__tfidf__sublinear_tf': [True, False],\n",
    "#     'feats__pl_text__tfidf__binary': [True, False]\n",
    "    'feats__pl_time__select__key': [\n",
    "#                                     ['h_12', 'h_13', 'h_16', 'h_17', 'h_18', 'h_not'],\n",
    "#                                     ['h_12', 'h_13', 'h_16', 'h_17', 'h_18', 'h_not', 'dow_0_1'],\n",
    "#                                     ['h_12', 'h_13', 'h_16', 'h_17', 'h_18', 'h_not', 'dow_0', 'dow_1', 'dow_not'],\n",
    "#                                     ['h_12', 'h_13', 'h_16', 'h_17', 'h_18', 'dow_0', 'dow_1', 'dow_not'],\n",
    "                                    ['h_12_13', 'h_16_17_18', 'h_not', 'dow_0_1'],\n",
    "#                                     ['h_12_13', 'h_16_17_18', 'h_not', 'dow_0_1', 'dow_2_3_4', 'dow_5_6'],\n",
    "                                   ]\n",
    "#                                    ['month0', 'month1', 'month2', 'month3', '4_spl0b', '4_spl1b', '4_spl2b']],\n",
    "#     'feats__pl_time_scale__select__key' : [\n",
    "#                                            ['dow', 'dt', 'minutes'],\n",
    "#                                            ['dow', 'dt', 'top10'],\n",
    "#                                            ['dow', 'dt', 'top25'], \n",
    "#                                            ['dow', 'dt', 'cosd'], \n",
    "#                                            ['dow', 'dt', 'cos'], \n",
    "#                                            ['dow', 'dt', 'euc'], \n",
    "#                                            ['dow', 'dt', 'manh']\n",
    "#                                             ],\n",
    "        }\n",
    "\n",
    "# ['top5', 'top10', 'top25', 'top50', 'top100', 'top250', 'top500', 'top1000']\n",
    "# 'cosd', 'cos', 'euc', 'manh'\n",
    "\n",
    "time_split = TSS(n_splits=10)\n",
    "\n",
    "clf = GridSearchCV(pl_all, params, cv=time_split, verbose=1, scoring='roc_auc', n_jobs=-1)\n",
    "\n",
    "clf.fit(X_train, y_train)\n",
    "\n",
    "print(clf.best_params_, clf.best_score_)"
   ]
  },
  {
   "cell_type": "markdown",
   "metadata": {},
   "source": [
    "{'feats__pl_time_scale__select__key': ['dow', 'dt', 'minutes']} 0.9570629687547612"
   ]
  },
  {
   "cell_type": "code",
   "execution_count": null,
   "metadata": {},
   "outputs": [],
   "source": [
    "# LAST: 0.926157 +- 0.052944\n",
    "# n_components=150  0.927681 +- 0.052297\n",
    "# {'feats__svd__svd__n_components': 175, 'feats__svd__tfidf__max_features': 20000, \n",
    "#'feats__svd__tfidf__ngram_range': (1, 4)}   0.9283052 +- 0.051989"
   ]
  },
  {
   "cell_type": "code",
   "execution_count": 91,
   "metadata": {},
   "outputs": [
    {
     "data": {
      "image/png": "[encoded data removed]",
      "text/plain": [
       "<Figure size 1008x720 with 4 Axes>"
      ]
     },
     "metadata": {
      "needs_background": "light"
     },
     "output_type": "display_data"
    }
   ],
   "source": [
    "results, cv_results = analyze_results(clf.cv_results_)"
   ]
  },
  {
   "cell_type": "code",
   "execution_count": 92,
   "metadata": {},
   "outputs": [
    {
     "data": {
      "text/html": [
       "<div>\n",
       "<style scoped>\n",
       "    .dataframe tbody tr th:only-of-type {\n",
       "        vertical-align: middle;\n",
       "    }\n",
       "\n",
       "    .dataframe tbody tr th {\n",
       "        vertical-align: top;\n",
       "    }\n",
       "\n",
       "    .dataframe thead th {\n",
       "        text-align: right;\n",
       "    }\n",
       "</style>\n",
       "<table border=\"1\" class=\"dataframe\">\n",
       "  <thead>\n",
       "    <tr style=\"text-align: right;\">\n",
       "      <th></th>\n",
       "      <th>clf__C</th>\n",
       "      <th>feats__pl_time__select__key</th>\n",
       "      <th>mean_score</th>\n",
       "      <th>std_score</th>\n",
       "      <th>rank</th>\n",
       "    </tr>\n",
       "  </thead>\n",
       "  <tbody>\n",
       "    <tr>\n",
       "      <th>0</th>\n",
       "      <td>0.398107</td>\n",
       "      <td>[h_12_13, h_16_17_18, h_not, dow_0_1]</td>\n",
       "      <td>0.934305</td>\n",
       "      <td>0.057193</td>\n",
       "      <td>10</td>\n",
       "    </tr>\n",
       "    <tr>\n",
       "      <th>1</th>\n",
       "      <td>0.541170</td>\n",
       "      <td>[h_12_13, h_16_17_18, h_not, dow_0_1]</td>\n",
       "      <td>0.937865</td>\n",
       "      <td>0.052383</td>\n",
       "      <td>9</td>\n",
       "    </tr>\n",
       "    <tr>\n",
       "      <th>2</th>\n",
       "      <td>0.735642</td>\n",
       "      <td>[h_12_13, h_16_17_18, h_not, dow_0_1]</td>\n",
       "      <td>0.939616</td>\n",
       "      <td>0.050760</td>\n",
       "      <td>8</td>\n",
       "    </tr>\n",
       "    <tr>\n",
       "      <th>3</th>\n",
       "      <td>1.000000</td>\n",
       "      <td>[h_12_13, h_16_17_18, h_not, dow_0_1]</td>\n",
       "      <td>0.942780</td>\n",
       "      <td>0.046222</td>\n",
       "      <td>7</td>\n",
       "    </tr>\n",
       "    <tr>\n",
       "      <th>4</th>\n",
       "      <td>1.359356</td>\n",
       "      <td>[h_12_13, h_16_17_18, h_not, dow_0_1]</td>\n",
       "      <td>0.945246</td>\n",
       "      <td>0.042578</td>\n",
       "      <td>6</td>\n",
       "    </tr>\n",
       "    <tr>\n",
       "      <th>5</th>\n",
       "      <td>1.847850</td>\n",
       "      <td>[h_12_13, h_16_17_18, h_not, dow_0_1]</td>\n",
       "      <td>0.946738</td>\n",
       "      <td>0.040118</td>\n",
       "      <td>5</td>\n",
       "    </tr>\n",
       "    <tr>\n",
       "      <th>6</th>\n",
       "      <td>2.511886</td>\n",
       "      <td>[h_12_13, h_16_17_18, h_not, dow_0_1]</td>\n",
       "      <td>0.948859</td>\n",
       "      <td>0.036910</td>\n",
       "      <td>4</td>\n",
       "    </tr>\n",
       "    <tr>\n",
       "      <th>7</th>\n",
       "      <td>3.414549</td>\n",
       "      <td>[h_12_13, h_16_17_18, h_not, dow_0_1]</td>\n",
       "      <td>0.950431</td>\n",
       "      <td>0.034104</td>\n",
       "      <td>3</td>\n",
       "    </tr>\n",
       "    <tr>\n",
       "      <th>8</th>\n",
       "      <td>4.641589</td>\n",
       "      <td>[h_12_13, h_16_17_18, h_not, dow_0_1]</td>\n",
       "      <td>0.951990</td>\n",
       "      <td>0.031073</td>\n",
       "      <td>1</td>\n",
       "    </tr>\n",
       "    <tr>\n",
       "      <th>9</th>\n",
       "      <td>6.309573</td>\n",
       "      <td>[h_12_13, h_16_17_18, h_not, dow_0_1]</td>\n",
       "      <td>0.951772</td>\n",
       "      <td>0.032342</td>\n",
       "      <td>2</td>\n",
       "    </tr>\n",
       "  </tbody>\n",
       "</table>\n",
       "</div>"
      ],
      "text/plain": [
       "     clf__C            feats__pl_time__select__key  mean_score  std_score  \\\n",
       "0  0.398107  [h_12_13, h_16_17_18, h_not, dow_0_1]    0.934305   0.057193   \n",
       "1  0.541170  [h_12_13, h_16_17_18, h_not, dow_0_1]    0.937865   0.052383   \n",
       "2  0.735642  [h_12_13, h_16_17_18, h_not, dow_0_1]    0.939616   0.050760   \n",
       "3  1.000000  [h_12_13, h_16_17_18, h_not, dow_0_1]    0.942780   0.046222   \n",
       "4  1.359356  [h_12_13, h_16_17_18, h_not, dow_0_1]    0.945246   0.042578   \n",
       "5  1.847850  [h_12_13, h_16_17_18, h_not, dow_0_1]    0.946738   0.040118   \n",
       "6  2.511886  [h_12_13, h_16_17_18, h_not, dow_0_1]    0.948859   0.036910   \n",
       "7  3.414549  [h_12_13, h_16_17_18, h_not, dow_0_1]    0.950431   0.034104   \n",
       "8  4.641589  [h_12_13, h_16_17_18, h_not, dow_0_1]    0.951990   0.031073   \n",
       "9  6.309573  [h_12_13, h_16_17_18, h_not, dow_0_1]    0.951772   0.032342   \n",
       "\n",
       "   rank  \n",
       "0    10  \n",
       "1     9  \n",
       "2     8  \n",
       "3     7  \n",
       "4     6  \n",
       "5     5  \n",
       "6     4  \n",
       "7     3  \n",
       "8     1  \n",
       "9     2  "
      ]
     },
     "execution_count": 92,
     "metadata": {},
     "output_type": "execute_result"
    }
   ],
   "source": [
    "# clf C\n",
    "results#.sort_values('rank')"
   ]
  },
  {
   "cell_type": "code",
   "execution_count": 77,
   "metadata": {},
   "outputs": [
    {
     "data": {
      "text/html": [
       "<div>\n",
       "<style scoped>\n",
       "    .dataframe tbody tr th:only-of-type {\n",
       "        vertical-align: middle;\n",
       "    }\n",
       "\n",
       "    .dataframe tbody tr th {\n",
       "        vertical-align: top;\n",
       "    }\n",
       "\n",
       "    .dataframe thead th {\n",
       "        text-align: right;\n",
       "    }\n",
       "</style>\n",
       "<table border=\"1\" class=\"dataframe\">\n",
       "  <thead>\n",
       "    <tr style=\"text-align: right;\">\n",
       "      <th></th>\n",
       "      <th>feats__pl_time__select__key</th>\n",
       "      <th>mean_score</th>\n",
       "      <th>std_score</th>\n",
       "      <th>rank</th>\n",
       "    </tr>\n",
       "  </thead>\n",
       "  <tbody>\n",
       "    <tr>\n",
       "      <th>0</th>\n",
       "      <td>[h_12, h_13, h_16, h_17, h_18, h_not]</td>\n",
       "      <td>0.951283</td>\n",
       "      <td>0.029398</td>\n",
       "      <td>1</td>\n",
       "    </tr>\n",
       "    <tr>\n",
       "      <th>1</th>\n",
       "      <td>[h_12, h_13, h_16, h_17, h_18, h_not, dow_0_1]</td>\n",
       "      <td>0.949593</td>\n",
       "      <td>0.034305</td>\n",
       "      <td>3</td>\n",
       "    </tr>\n",
       "    <tr>\n",
       "      <th>2</th>\n",
       "      <td>[h_12, h_13, h_16, h_17, h_18, h_not, dow_0, d...</td>\n",
       "      <td>0.946910</td>\n",
       "      <td>0.040146</td>\n",
       "      <td>5</td>\n",
       "    </tr>\n",
       "    <tr>\n",
       "      <th>3</th>\n",
       "      <td>[h_12, h_13, h_16, h_17, h_18, dow_0, dow_1, d...</td>\n",
       "      <td>0.947743</td>\n",
       "      <td>0.038361</td>\n",
       "      <td>4</td>\n",
       "    </tr>\n",
       "    <tr>\n",
       "      <th>4</th>\n",
       "      <td>[h_12_13, h_16_17_18, h_not, dow_0_1]</td>\n",
       "      <td>0.949798</td>\n",
       "      <td>0.035211</td>\n",
       "      <td>2</td>\n",
       "    </tr>\n",
       "    <tr>\n",
       "      <th>5</th>\n",
       "      <td>[h_12_13, h_16_17_18, h_not, dow_0_1, dow_2_3_...</td>\n",
       "      <td>0.940225</td>\n",
       "      <td>0.037919</td>\n",
       "      <td>6</td>\n",
       "    </tr>\n",
       "  </tbody>\n",
       "</table>\n",
       "</div>"
      ],
      "text/plain": [
       "                         feats__pl_time__select__key  mean_score  std_score  \\\n",
       "0              [h_12, h_13, h_16, h_17, h_18, h_not]    0.951283   0.029398   \n",
       "1     [h_12, h_13, h_16, h_17, h_18, h_not, dow_0_1]    0.949593   0.034305   \n",
       "2  [h_12, h_13, h_16, h_17, h_18, h_not, dow_0, d...    0.946910   0.040146   \n",
       "3  [h_12, h_13, h_16, h_17, h_18, dow_0, dow_1, d...    0.947743   0.038361   \n",
       "4              [h_12_13, h_16_17_18, h_not, dow_0_1]    0.949798   0.035211   \n",
       "5  [h_12_13, h_16_17_18, h_not, dow_0_1, dow_2_3_...    0.940225   0.037919   \n",
       "\n",
       "   rank  \n",
       "0     1  \n",
       "1     3  \n",
       "2     5  \n",
       "3     4  \n",
       "4     2  \n",
       "5     6  "
      ]
     },
     "execution_count": 77,
     "metadata": {},
     "output_type": "execute_result"
    }
   ],
   "source": [
    "# clf C\n",
    "results#.sort_values('rank')"
   ]
  },
  {
   "cell_type": "code",
   "execution_count": 93,
   "metadata": {},
   "outputs": [],
   "source": [
    "clf.refit\n",
    "\n",
    "pred = clf.predict_proba(X_test)[:, 1]\n",
    "\n",
    "write_to_submission_file(pred, 'preds/pred_0211_eda.csv')"
   ]
  },
  {
   "cell_type": "code",
   "execution_count": null,
   "metadata": {},
   "outputs": [],
   "source": []
  },
  {
   "cell_type": "markdown",
   "metadata": {},
   "source": [
    "#### PUBLIC SCORE 0.94730\n",
    "\n",
    "`pl_text_tfidf = Pipeline([('select', TextSelector(key='sites_num')),\n",
    "                ('tfidf', TfidfVectorizer(ngram_range=(1, 3), max_features=50000,   \n",
    "                smooth_idf=True, binary=True, sublinear_tf=True))])`  \n",
    "{'clf__C': 2.326305067153626} 0.9261085040325898  \n",
    "rs = 17  \n",
    "Index(['sites_num', 'morning', 'day', 'evening'], dtype='object')  "
   ]
  },
  {
   "cell_type": "code",
   "execution_count": null,
   "metadata": {},
   "outputs": [],
   "source": []
  }
 ],
 "metadata": {
  "kernelspec": {
   "display_name": "Python 3",
   "language": "python",
   "name": "python3"
  },
  "language_info": {
   "codemirror_mode": {
    "name": "ipython",
    "version": 3
   },
   "file_extension": ".py",
   "mimetype": "text/x-python",
   "name": "python",
   "nbconvert_exporter": "python",
   "pygments_lexer": "ipython3",
   "version": "3.7.0"
  }
 },
 "nbformat": 4,
 "nbformat_minor": 2
}
